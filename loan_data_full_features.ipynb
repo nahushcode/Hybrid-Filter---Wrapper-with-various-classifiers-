{
 "cells": [
  {
   "cell_type": "code",
   "execution_count": 1,
   "id": "7ed54df8-b9d3-45f6-9862-d52f8b56a90e",
   "metadata": {},
   "outputs": [
    {
     "data": {
      "text/html": [
       "<div>\n",
       "<style scoped>\n",
       "    .dataframe tbody tr th:only-of-type {\n",
       "        vertical-align: middle;\n",
       "    }\n",
       "\n",
       "    .dataframe tbody tr th {\n",
       "        vertical-align: top;\n",
       "    }\n",
       "\n",
       "    .dataframe thead th {\n",
       "        text-align: right;\n",
       "    }\n",
       "</style>\n",
       "<table border=\"1\" class=\"dataframe\">\n",
       "  <thead>\n",
       "    <tr style=\"text-align: right;\">\n",
       "      <th></th>\n",
       "      <th>Loan_ID</th>\n",
       "      <th>Gender</th>\n",
       "      <th>Married</th>\n",
       "      <th>Dependents</th>\n",
       "      <th>Education</th>\n",
       "      <th>Self_Employed</th>\n",
       "      <th>ApplicantIncome</th>\n",
       "      <th>CoapplicantIncome</th>\n",
       "      <th>LoanAmount</th>\n",
       "      <th>Loan_Amount_Term</th>\n",
       "      <th>Credit_History</th>\n",
       "      <th>Property_Area</th>\n",
       "      <th>Loan_Status</th>\n",
       "    </tr>\n",
       "  </thead>\n",
       "  <tbody>\n",
       "    <tr>\n",
       "      <th>0</th>\n",
       "      <td>LP001002</td>\n",
       "      <td>1</td>\n",
       "      <td>0</td>\n",
       "      <td>0</td>\n",
       "      <td>0</td>\n",
       "      <td>0</td>\n",
       "      <td>5849.0</td>\n",
       "      <td>0.0</td>\n",
       "      <td>128.0</td>\n",
       "      <td>360.0</td>\n",
       "      <td>1.0</td>\n",
       "      <td>2</td>\n",
       "      <td>1</td>\n",
       "    </tr>\n",
       "    <tr>\n",
       "      <th>1</th>\n",
       "      <td>LP001003</td>\n",
       "      <td>1</td>\n",
       "      <td>1</td>\n",
       "      <td>1</td>\n",
       "      <td>0</td>\n",
       "      <td>0</td>\n",
       "      <td>4583.0</td>\n",
       "      <td>1508.0</td>\n",
       "      <td>128.0</td>\n",
       "      <td>360.0</td>\n",
       "      <td>1.0</td>\n",
       "      <td>0</td>\n",
       "      <td>0</td>\n",
       "    </tr>\n",
       "    <tr>\n",
       "      <th>2</th>\n",
       "      <td>LP001005</td>\n",
       "      <td>1</td>\n",
       "      <td>1</td>\n",
       "      <td>0</td>\n",
       "      <td>0</td>\n",
       "      <td>1</td>\n",
       "      <td>3000.0</td>\n",
       "      <td>0.0</td>\n",
       "      <td>66.0</td>\n",
       "      <td>360.0</td>\n",
       "      <td>1.0</td>\n",
       "      <td>2</td>\n",
       "      <td>1</td>\n",
       "    </tr>\n",
       "    <tr>\n",
       "      <th>3</th>\n",
       "      <td>LP001006</td>\n",
       "      <td>1</td>\n",
       "      <td>1</td>\n",
       "      <td>0</td>\n",
       "      <td>1</td>\n",
       "      <td>0</td>\n",
       "      <td>2583.0</td>\n",
       "      <td>2358.0</td>\n",
       "      <td>120.0</td>\n",
       "      <td>360.0</td>\n",
       "      <td>1.0</td>\n",
       "      <td>2</td>\n",
       "      <td>1</td>\n",
       "    </tr>\n",
       "    <tr>\n",
       "      <th>4</th>\n",
       "      <td>LP001008</td>\n",
       "      <td>1</td>\n",
       "      <td>0</td>\n",
       "      <td>0</td>\n",
       "      <td>0</td>\n",
       "      <td>0</td>\n",
       "      <td>6000.0</td>\n",
       "      <td>0.0</td>\n",
       "      <td>141.0</td>\n",
       "      <td>360.0</td>\n",
       "      <td>1.0</td>\n",
       "      <td>2</td>\n",
       "      <td>1</td>\n",
       "    </tr>\n",
       "  </tbody>\n",
       "</table>\n",
       "</div>"
      ],
      "text/plain": [
       "    Loan_ID  Gender  Married  Dependents  Education  Self_Employed  \\\n",
       "0  LP001002       1        0           0          0              0   \n",
       "1  LP001003       1        1           1          0              0   \n",
       "2  LP001005       1        1           0          0              1   \n",
       "3  LP001006       1        1           0          1              0   \n",
       "4  LP001008       1        0           0          0              0   \n",
       "\n",
       "   ApplicantIncome  CoapplicantIncome  LoanAmount  Loan_Amount_Term  \\\n",
       "0           5849.0                0.0       128.0             360.0   \n",
       "1           4583.0             1508.0       128.0             360.0   \n",
       "2           3000.0                0.0        66.0             360.0   \n",
       "3           2583.0             2358.0       120.0             360.0   \n",
       "4           6000.0                0.0       141.0             360.0   \n",
       "\n",
       "   Credit_History  Property_Area  Loan_Status  \n",
       "0             1.0              2            1  \n",
       "1             1.0              0            0  \n",
       "2             1.0              2            1  \n",
       "3             1.0              2            1  \n",
       "4             1.0              2            1  "
      ]
     },
     "execution_count": 1,
     "metadata": {},
     "output_type": "execute_result"
    }
   ],
   "source": [
    "import pandas as pd\n",
    "\n",
    "# Load the dataset\n",
    "df = pd.read_csv('encoded_loan_prediction.csv')\n",
    "\n",
    "# Display the first few rows of the dataframe to understand its structure\n",
    "df.head()\n"
   ]
  },
  {
   "cell_type": "code",
   "execution_count": 2,
   "id": "7a9b096d-de6c-4dde-a46f-f7da3251cc45",
   "metadata": {},
   "outputs": [
    {
     "data": {
      "image/png": "[encoded data removed]",
      "text/plain": [
       "<Figure size 576x432 with 1 Axes>"
      ]
     },
     "metadata": {},
     "output_type": "display_data"
    }
   ],
   "source": [
    "import matplotlib.pyplot as plt\n",
    "import seaborn as sns\n",
    "\n",
    "# Set the style of the visualization\n",
    "sns.set(style=\"whitegrid\")\n",
    "\n",
    "# Create a bar plot of 'Loan_Status' value counts\n",
    "plt.figure(figsize=(8, 6))\n",
    "ax = sns.countplot(x='Loan_Status', data=df)\n",
    "\n",
    "# Annotate the bars with counts\n",
    "for p in ax.patches:\n",
    "    ax.annotate(f'{p.get_height()}', (p.get_x() + p.get_width() / 2., p.get_height()),\n",
    "                ha='center', va='center', fontsize=10, color='black', xytext=(0, 7),\n",
    "                textcoords='offset points')\n",
    "\n",
    "plt.title('Distribution of Loan_Status')\n",
    "plt.xlabel('Loan Status')\n",
    "plt.ylabel('Count')\n",
    "plt.show()\n"
   ]
  },
  {
   "cell_type": "code",
   "execution_count": 3,
   "id": "c71c9b0b-fc92-41da-b41a-adba47971543",
   "metadata": {},
   "outputs": [
    {
     "data": {
      "text/plain": [
       "((429, 11), (185, 11))"
      ]
     },
     "execution_count": 3,
     "metadata": {},
     "output_type": "execute_result"
    }
   ],
   "source": [
    "from sklearn.model_selection import train_test_split\n",
    "\n",
    "# Split the data into features (X) and target variable (y)\n",
    "X = df.drop(columns=['Loan_ID', 'Loan_Status'])\n",
    "y = df['Loan_Status']\n",
    "\n",
    "# Split the data into training and test sets (70% train, 30% test)\n",
    "X_train, X_test, y_train, y_test = train_test_split(X, y, test_size=0.3, random_state=42)\n",
    "\n",
    "X_train.shape, X_test.shape\n"
   ]
  },
  {
   "cell_type": "code",
   "execution_count": 4,
   "id": "9e8c3397-1cc0-48f7-82d1-0351d64f2279",
   "metadata": {},
   "outputs": [
    {
     "data": {
      "text/plain": [
       "(0.8204872646733111,\n",
       " 0.2169933319091797,\n",
       " 0.7837837837837838,\n",
       " 0.9833333333333333,\n",
       " 0.6993589743589743)"
      ]
     },
     "execution_count": 4,
     "metadata": {},
     "output_type": "execute_result"
    }
   ],
   "source": [
    "from sklearn.linear_model import LogisticRegression\n",
    "from sklearn.model_selection import cross_val_score\n",
    "from sklearn.metrics import accuracy_score, recall_score, roc_auc_score\n",
    "import time\n",
    "\n",
    "# Initialize results dictionary\n",
    "results = {\n",
    "    'Model': [],\n",
    "    'Cross-Validation Mean Score': [],\n",
    "    'Computational Time (s)': [],\n",
    "    'Test Accuracy': [],\n",
    "    'Test Recall': [],\n",
    "    'Test ROC AUC': []\n",
    "}\n",
    "\n",
    "# Define k for cross-validation\n",
    "k = 10\n",
    "\n",
    "# 1. Logistic Regression\n",
    "model_name = 'Logistic Regression'\n",
    "model = LogisticRegression(max_iter=5000, random_state=42)\n",
    "\n",
    "# Record computational time and perform k-fold cross-validation\n",
    "start_time = time.time()\n",
    "cv_scores = cross_val_score(model, X_train, y_train, cv=k)\n",
    "end_time = time.time()\n",
    "comp_time = end_time - start_time\n",
    "\n",
    "# Train model on the training set\n",
    "model.fit(X_train, y_train)\n",
    "\n",
    "# Compute performance metrics on the test set\n",
    "y_pred = model.predict(X_test)\n",
    "test_accuracy = accuracy_score(y_test, y_pred)\n",
    "test_recall = recall_score(y_test, y_pred)\n",
    "test_roc_auc = roc_auc_score(y_test, y_pred)\n",
    "\n",
    "# Store results\n",
    "results['Model'].append(model_name)\n",
    "results['Cross-Validation Mean Score'].append(cv_scores.mean())\n",
    "results['Computational Time (s)'].append(comp_time)\n",
    "results['Test Accuracy'].append(test_accuracy)\n",
    "results['Test Recall'].append(test_recall)\n",
    "results['Test ROC AUC'].append(test_roc_auc)\n",
    "\n",
    "cv_scores.mean(), comp_time, test_accuracy, test_recall, test_roc_auc\n"
   ]
  },
  {
   "cell_type": "code",
   "execution_count": 5,
   "id": "c45de2bb-30b7-4691-af17-f4b4d7d33999",
   "metadata": {},
   "outputs": [
    {
     "data": {
      "text/plain": [
       "(0.703986710963455, 0.09482526779174805, 0.6486486486486487, 1.0, 0.5)"
      ]
     },
     "execution_count": 5,
     "metadata": {},
     "output_type": "execute_result"
    }
   ],
   "source": [
    "from sklearn.svm import SVC\n",
    "\n",
    "# 2. Support Vector Machine (SVM)\n",
    "model_name = 'SVM'\n",
    "model = SVC(random_state=42)\n",
    "\n",
    "# Record computational time and perform k-fold cross-validation\n",
    "start_time = time.time()\n",
    "cv_scores = cross_val_score(model, X_train, y_train, cv=k)\n",
    "end_time = time.time()\n",
    "comp_time = end_time - start_time\n",
    "\n",
    "# Train model on the training set\n",
    "model.fit(X_train, y_train)\n",
    "\n",
    "# Compute performance metrics on the test set\n",
    "y_pred = model.predict(X_test)\n",
    "test_accuracy = accuracy_score(y_test, y_pred)\n",
    "test_recall = recall_score(y_test, y_pred)\n",
    "test_roc_auc = roc_auc_score(y_test, y_pred)\n",
    "\n",
    "# Store results\n",
    "results['Model'].append(model_name)\n",
    "results['Cross-Validation Mean Score'].append(cv_scores.mean())\n",
    "results['Computational Time (s)'].append(comp_time)\n",
    "results['Test Accuracy'].append(test_accuracy)\n",
    "results['Test Recall'].append(test_recall)\n",
    "results['Test ROC AUC'].append(test_roc_auc)\n",
    "\n",
    "cv_scores.mean(), comp_time, test_accuracy, test_recall, test_roc_auc\n"
   ]
  },
  {
   "cell_type": "code",
   "execution_count": 6,
   "id": "97bbbd77-c885-48f1-a13f-412196b259a6",
   "metadata": {},
   "outputs": [
    {
     "data": {
      "text/plain": [
       "(0.6898671096345516,\n",
       " 0.04056358337402344,\n",
       " 0.7243243243243244,\n",
       " 0.825,\n",
       " 0.6817307692307693)"
      ]
     },
     "execution_count": 6,
     "metadata": {},
     "output_type": "execute_result"
    }
   ],
   "source": [
    "from sklearn.tree import DecisionTreeClassifier\n",
    "\n",
    "# 3. Decision Tree\n",
    "model_name = 'Decision Tree'\n",
    "model = DecisionTreeClassifier(random_state=42)\n",
    "\n",
    "# Record computational time and perform k-fold cross-validation\n",
    "start_time = time.time()\n",
    "cv_scores = cross_val_score(model, X_train, y_train, cv=k)\n",
    "end_time = time.time()\n",
    "comp_time = end_time - start_time\n",
    "\n",
    "# Train model on the training set\n",
    "model.fit(X_train, y_train)\n",
    "\n",
    "# Compute performance metrics on the test set\n",
    "y_pred = model.predict(X_test)\n",
    "test_accuracy = accuracy_score(y_test, y_pred)\n",
    "test_recall = recall_score(y_test, y_pred)\n",
    "test_roc_auc = roc_auc_score(y_test, y_pred)\n",
    "\n",
    "# Store results\n",
    "results['Model'].append(model_name)\n",
    "results['Cross-Validation Mean Score'].append(cv_scores.mean())\n",
    "results['Computational Time (s)'].append(comp_time)\n",
    "results['Test Accuracy'].append(test_accuracy)\n",
    "results['Test Recall'].append(test_recall)\n",
    "results['Test ROC AUC'].append(test_roc_auc)\n",
    "\n",
    "cv_scores.mean(), comp_time, test_accuracy, test_recall, test_roc_auc\n"
   ]
  },
  {
   "cell_type": "code",
   "execution_count": 7,
   "id": "54e26fdc-791c-41c3-924a-ab51c52de9fe",
   "metadata": {},
   "outputs": [
    {
     "data": {
      "text/html": [
       "<div>\n",
       "<style scoped>\n",
       "    .dataframe tbody tr th:only-of-type {\n",
       "        vertical-align: middle;\n",
       "    }\n",
       "\n",
       "    .dataframe tbody tr th {\n",
       "        vertical-align: top;\n",
       "    }\n",
       "\n",
       "    .dataframe thead th {\n",
       "        text-align: right;\n",
       "    }\n",
       "</style>\n",
       "<table border=\"1\" class=\"dataframe\">\n",
       "  <thead>\n",
       "    <tr style=\"text-align: right;\">\n",
       "      <th></th>\n",
       "      <th>Model</th>\n",
       "      <th>Cross-Validation Mean Score</th>\n",
       "      <th>Computational Time (s)</th>\n",
       "      <th>Test Accuracy</th>\n",
       "      <th>Test Recall</th>\n",
       "      <th>Test ROC AUC</th>\n",
       "    </tr>\n",
       "  </thead>\n",
       "  <tbody>\n",
       "    <tr>\n",
       "      <th>0</th>\n",
       "      <td>Logistic Regression</td>\n",
       "      <td>0.820487</td>\n",
       "      <td>0.216993</td>\n",
       "      <td>0.783784</td>\n",
       "      <td>0.983333</td>\n",
       "      <td>0.699359</td>\n",
       "    </tr>\n",
       "    <tr>\n",
       "      <th>1</th>\n",
       "      <td>SVM</td>\n",
       "      <td>0.703987</td>\n",
       "      <td>0.094825</td>\n",
       "      <td>0.648649</td>\n",
       "      <td>1.000000</td>\n",
       "      <td>0.500000</td>\n",
       "    </tr>\n",
       "    <tr>\n",
       "      <th>2</th>\n",
       "      <td>Decision Tree</td>\n",
       "      <td>0.689867</td>\n",
       "      <td>0.040564</td>\n",
       "      <td>0.724324</td>\n",
       "      <td>0.825000</td>\n",
       "      <td>0.681731</td>\n",
       "    </tr>\n",
       "  </tbody>\n",
       "</table>\n",
       "</div>"
      ],
      "text/plain": [
       "                 Model  Cross-Validation Mean Score  Computational Time (s)  \\\n",
       "0  Logistic Regression                     0.820487                0.216993   \n",
       "1                  SVM                     0.703987                0.094825   \n",
       "2        Decision Tree                     0.689867                0.040564   \n",
       "\n",
       "   Test Accuracy  Test Recall  Test ROC AUC  \n",
       "0       0.783784     0.983333      0.699359  \n",
       "1       0.648649     1.000000      0.500000  \n",
       "2       0.724324     0.825000      0.681731  "
      ]
     },
     "execution_count": 7,
     "metadata": {},
     "output_type": "execute_result"
    }
   ],
   "source": [
    "# Convert results dictionary to a DataFrame\n",
    "results_df = pd.DataFrame(results)\n",
    "\n",
    "results_df\n"
   ]
  },
  {
   "cell_type": "code",
   "execution_count": 8,
   "id": "d8b0d1bb-48d4-4c0d-a324-184062228898",
   "metadata": {},
   "outputs": [
    {
     "data": {
      "image/png": "[encoded data removed]",
      "text/plain": [
       "<Figure size 1008x576 with 5 Axes>"
      ]
     },
     "metadata": {},
     "output_type": "display_data"
    }
   ],
   "source": [
    "# Set up colors and figure size\n",
    "colors = ['lightblue', 'lightgreen', 'lightcoral']\n",
    "metrics = ['Cross-Validation Mean Score', 'Computational Time (s)', 'Test Accuracy', 'Test Recall', 'Test ROC AUC']\n",
    "plt.figure(figsize=(14, 8))\n",
    "\n",
    "# Plot bar graphs for each metric\n",
    "for i, metric in enumerate(metrics):\n",
    "    plt.subplot(2, 3, i+1)\n",
    "    sns.barplot(x='Model', y=metric, data=results_df, palette=colors)\n",
    "    plt.title(metric)\n",
    "    plt.ylabel('')\n",
    "    plt.grid(axis='y')\n",
    "\n",
    "# Adjust layout\n",
    "plt.tight_layout()\n",
    "plt.show()\n"
   ]
  },
  {
   "cell_type": "code",
   "execution_count": null,
   "id": "52a62370",
   "metadata": {},
   "outputs": [],
   "source": []
  },
  {
   "cell_type": "code",
   "execution_count": null,
   "id": "e783cf77",
   "metadata": {},
   "outputs": [],
   "source": []
  },
  {
   "cell_type": "code",
   "execution_count": 10,
   "id": "2c88f3ce-adcc-446e-aa2b-e7e18a876229",
   "metadata": {},
   "outputs": [
    {
     "data": {
      "text/plain": [
       "({'C': 0.001, 'penalty': 'l2', 'solver': 'liblinear'}, 0.8204872646733111)"
      ]
     },
     "execution_count": 10,
     "metadata": {},
     "output_type": "execute_result"
    }
   ],
   "source": [
    "from sklearn.model_selection import GridSearchCV\n",
    "\n",
    "# Hyperparameter tuning for Logistic Regression\n",
    "logreg_grid = {\n",
    "    'C': [0.001, 0.01, 0.1, 1, 10, 100],\n",
    "    'penalty': ['l1', 'l2'],\n",
    "    'solver': ['liblinear', 'saga']\n",
    "}\n",
    "\n",
    "logreg = LogisticRegression(max_iter=5000, random_state=42)\n",
    "logreg_cv = GridSearchCV(logreg, logreg_grid, cv=k, scoring='accuracy')\n",
    "logreg_cv.fit(X_train_scaled, y_train)\n",
    "\n",
    "# Best parameters and score for Logistic Regression\n",
    "logreg_best_params = logreg_cv.best_params_\n",
    "logreg_best_score = logreg_cv.best_score_\n",
    "\n",
    "logreg_best_params, logreg_best_score\n"
   ]
  },
  {
   "cell_type": "code",
   "execution_count": 11,
   "id": "cfef2f5f-a214-4bab-97d8-253640a165b2",
   "metadata": {},
   "outputs": [
    {
     "data": {
      "text/plain": [
       "({'C': 0.1, 'gamma': 'scale', 'kernel': 'linear'}, 0.8204872646733111)"
      ]
     },
     "execution_count": 11,
     "metadata": {},
     "output_type": "execute_result"
    }
   ],
   "source": [
    "# Hyperparameter tuning for SVM\n",
    "svm_grid = {\n",
    "    'C': [0.1, 1, 10, 100],\n",
    "    'kernel': ['linear', 'rbf'],\n",
    "    'gamma': ['scale', 'auto']\n",
    "}\n",
    "\n",
    "svm = SVC(random_state=42)\n",
    "svm_cv = GridSearchCV(svm, svm_grid, cv=k, scoring='accuracy')\n",
    "svm_cv.fit(X_train_scaled, y_train)\n",
    "\n",
    "# Best parameters and score for SVM\n",
    "svm_best_params = svm_cv.best_params_\n",
    "svm_best_score = svm_cv.best_score_\n",
    "\n",
    "svm_best_params, svm_best_score\n"
   ]
  },
  {
   "cell_type": "code",
   "execution_count": 12,
   "id": "04d456cb-c7d9-440c-983e-6ebbe6918366",
   "metadata": {},
   "outputs": [
    {
     "data": {
      "text/plain": [
       "(0.7837837837837838,\n",
       " 0.9833333333333333,\n",
       " 0.6993589743589743,\n",
       " 0.7837837837837838,\n",
       " 0.9833333333333333,\n",
       " 0.6993589743589743)"
      ]
     },
     "execution_count": 12,
     "metadata": {},
     "output_type": "execute_result"
    }
   ],
   "source": [
    "# Evaluate improved Logistic Regression on test data\n",
    "logreg_best = LogisticRegression(**logreg_best_params, max_iter=5000, random_state=42)\n",
    "logreg_best.fit(X_train_scaled, y_train)\n",
    "y_pred_logreg = logreg_best.predict(X_test_scaled)\n",
    "\n",
    "# Performance metrics for improved Logistic Regression\n",
    "logreg_test_accuracy = accuracy_score(y_test, y_pred_logreg)\n",
    "logreg_test_recall = recall_score(y_test, y_pred_logreg)\n",
    "logreg_test_roc_auc = roc_auc_score(y_test, y_pred_logreg)\n",
    "\n",
    "# Evaluate improved SVM on test data\n",
    "svm_best = SVC(**svm_best_params, random_state=42)\n",
    "svm_best.fit(X_train_scaled, y_train)\n",
    "y_pred_svm = svm_best.predict(X_test_scaled)\n",
    "\n",
    "# Performance metrics for improved SVM\n",
    "svm_test_accuracy = accuracy_score(y_test, y_pred_svm)\n",
    "svm_test_recall = recall_score(y_test, y_pred_svm)\n",
    "svm_test_roc_auc = roc_auc_score(y_test, y_pred_svm)\n",
    "\n",
    "logreg_test_accuracy, logreg_test_recall, logreg_test_roc_auc, svm_test_accuracy, svm_test_recall, svm_test_roc_auc\n"
   ]
  },
  {
   "cell_type": "code",
   "execution_count": null,
   "id": "b3832470-c11d-473d-ab3c-4824b34e24ce",
   "metadata": {},
   "outputs": [],
   "source": []
  }
 ],
 "metadata": {
  "kernelspec": {
   "display_name": "Python 3 (ipykernel)",
   "language": "python",
   "name": "python3"
  },
  "language_info": {
   "codemirror_mode": {
    "name": "ipython",
    "version": 3
   },
   "file_extension": ".py",
   "mimetype": "text/x-python",
   "name": "python",
   "nbconvert_exporter": "python",
   "pygments_lexer": "ipython3",
   "version": "3.9.7"
  }
 },
 "nbformat": 4,
 "nbformat_minor": 5
}
