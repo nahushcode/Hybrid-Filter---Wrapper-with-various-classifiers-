{
 "cells": [
  {
   "cell_type": "code",
   "execution_count": 1,
   "id": "1dfd107b-06a4-4c7c-a431-58ae1e94aea7",
   "metadata": {},
   "outputs": [
    {
     "data": {
      "text/html": [
       "<div>\n",
       "<style scoped>\n",
       "    .dataframe tbody tr th:only-of-type {\n",
       "        vertical-align: middle;\n",
       "    }\n",
       "\n",
       "    .dataframe tbody tr th {\n",
       "        vertical-align: top;\n",
       "    }\n",
       "\n",
       "    .dataframe thead th {\n",
       "        text-align: right;\n",
       "    }\n",
       "</style>\n",
       "<table border=\"1\" class=\"dataframe\">\n",
       "  <thead>\n",
       "    <tr style=\"text-align: right;\">\n",
       "      <th></th>\n",
       "      <th>Loan_ID</th>\n",
       "      <th>Gender</th>\n",
       "      <th>Married</th>\n",
       "      <th>Dependents</th>\n",
       "      <th>Education</th>\n",
       "      <th>Self_Employed</th>\n",
       "      <th>ApplicantIncome</th>\n",
       "      <th>CoapplicantIncome</th>\n",
       "      <th>LoanAmount</th>\n",
       "      <th>Loan_Amount_Term</th>\n",
       "      <th>Credit_History</th>\n",
       "      <th>Property_Area</th>\n",
       "      <th>Loan_Status</th>\n",
       "    </tr>\n",
       "  </thead>\n",
       "  <tbody>\n",
       "    <tr>\n",
       "      <th>0</th>\n",
       "      <td>LP001002</td>\n",
       "      <td>Male</td>\n",
       "      <td>No</td>\n",
       "      <td>0</td>\n",
       "      <td>Graduate</td>\n",
       "      <td>No</td>\n",
       "      <td>5849</td>\n",
       "      <td>0.0</td>\n",
       "      <td>NaN</td>\n",
       "      <td>360.0</td>\n",
       "      <td>1.0</td>\n",
       "      <td>Urban</td>\n",
       "      <td>Y</td>\n",
       "    </tr>\n",
       "    <tr>\n",
       "      <th>1</th>\n",
       "      <td>LP001003</td>\n",
       "      <td>Male</td>\n",
       "      <td>Yes</td>\n",
       "      <td>1</td>\n",
       "      <td>Graduate</td>\n",
       "      <td>No</td>\n",
       "      <td>4583</td>\n",
       "      <td>1508.0</td>\n",
       "      <td>128.0</td>\n",
       "      <td>360.0</td>\n",
       "      <td>1.0</td>\n",
       "      <td>Rural</td>\n",
       "      <td>N</td>\n",
       "    </tr>\n",
       "    <tr>\n",
       "      <th>2</th>\n",
       "      <td>LP001005</td>\n",
       "      <td>Male</td>\n",
       "      <td>Yes</td>\n",
       "      <td>0</td>\n",
       "      <td>Graduate</td>\n",
       "      <td>Yes</td>\n",
       "      <td>3000</td>\n",
       "      <td>0.0</td>\n",
       "      <td>66.0</td>\n",
       "      <td>360.0</td>\n",
       "      <td>1.0</td>\n",
       "      <td>Urban</td>\n",
       "      <td>Y</td>\n",
       "    </tr>\n",
       "    <tr>\n",
       "      <th>3</th>\n",
       "      <td>LP001006</td>\n",
       "      <td>Male</td>\n",
       "      <td>Yes</td>\n",
       "      <td>0</td>\n",
       "      <td>Not Graduate</td>\n",
       "      <td>No</td>\n",
       "      <td>2583</td>\n",
       "      <td>2358.0</td>\n",
       "      <td>120.0</td>\n",
       "      <td>360.0</td>\n",
       "      <td>1.0</td>\n",
       "      <td>Urban</td>\n",
       "      <td>Y</td>\n",
       "    </tr>\n",
       "    <tr>\n",
       "      <th>4</th>\n",
       "      <td>LP001008</td>\n",
       "      <td>Male</td>\n",
       "      <td>No</td>\n",
       "      <td>0</td>\n",
       "      <td>Graduate</td>\n",
       "      <td>No</td>\n",
       "      <td>6000</td>\n",
       "      <td>0.0</td>\n",
       "      <td>141.0</td>\n",
       "      <td>360.0</td>\n",
       "      <td>1.0</td>\n",
       "      <td>Urban</td>\n",
       "      <td>Y</td>\n",
       "    </tr>\n",
       "  </tbody>\n",
       "</table>\n",
       "</div>"
      ],
      "text/plain": [
       "    Loan_ID Gender Married Dependents     Education Self_Employed  \\\n",
       "0  LP001002   Male      No          0      Graduate            No   \n",
       "1  LP001003   Male     Yes          1      Graduate            No   \n",
       "2  LP001005   Male     Yes          0      Graduate           Yes   \n",
       "3  LP001006   Male     Yes          0  Not Graduate            No   \n",
       "4  LP001008   Male      No          0      Graduate            No   \n",
       "\n",
       "   ApplicantIncome  CoapplicantIncome  LoanAmount  Loan_Amount_Term  \\\n",
       "0             5849                0.0         NaN             360.0   \n",
       "1             4583             1508.0       128.0             360.0   \n",
       "2             3000                0.0        66.0             360.0   \n",
       "3             2583             2358.0       120.0             360.0   \n",
       "4             6000                0.0       141.0             360.0   \n",
       "\n",
       "   Credit_History Property_Area Loan_Status  \n",
       "0             1.0         Urban           Y  \n",
       "1             1.0         Rural           N  \n",
       "2             1.0         Urban           Y  \n",
       "3             1.0         Urban           Y  \n",
       "4             1.0         Urban           Y  "
      ]
     },
     "execution_count": 1,
     "metadata": {},
     "output_type": "execute_result"
    }
   ],
   "source": [
    "import pandas as pd\n",
    "\n",
    "# Load the dataset\n",
    "df = pd.read_csv('loan prediction.csv')\n",
    "\n",
    "# Display the first few rows of the dataset\n",
    "df.head()\n"
   ]
  },
  {
   "cell_type": "code",
   "execution_count": 2,
   "id": "4a384803-b4a2-4ed9-999b-8f35be9befce",
   "metadata": {},
   "outputs": [
    {
     "data": {
      "text/plain": [
       "Loan_ID               0\n",
       "Gender               13\n",
       "Married               3\n",
       "Dependents           15\n",
       "Education             0\n",
       "Self_Employed        32\n",
       "ApplicantIncome       0\n",
       "CoapplicantIncome     0\n",
       "LoanAmount           22\n",
       "Loan_Amount_Term     14\n",
       "Credit_History       50\n",
       "Property_Area         0\n",
       "Loan_Status           0\n",
       "dtype: int64"
      ]
     },
     "execution_count": 2,
     "metadata": {},
     "output_type": "execute_result"
    }
   ],
   "source": [
    "# Check for missing values in the dataset\n",
    "missingvalues = df.isnull().sum()\n",
    "\n",
    "missingvalues\n"
   ]
  },
  {
   "cell_type": "code",
   "execution_count": 3,
   "id": "fbc7a9df-a7f9-4b5f-ac6a-90330cff9f01",
   "metadata": {},
   "outputs": [
    {
     "data": {
      "text/plain": [
       "0"
      ]
     },
     "execution_count": 3,
     "metadata": {},
     "output_type": "execute_result"
    }
   ],
   "source": [
    "# Check for duplicate rows\n",
    "duplicate = data.duplicated().sum()\n",
    "\n",
    "duplicate\n"
   ]
  },
  {
   "cell_type": "code",
   "execution_count": 4,
   "id": "cefc51fa-c3e4-467e-acc4-e2280a3862ed",
   "metadata": {},
   "outputs": [
    {
     "data": {
      "text/plain": [
       "Loan_ID              0\n",
       "Gender               0\n",
       "Married              0\n",
       "Dependents           0\n",
       "Education            0\n",
       "Self_Employed        0\n",
       "ApplicantIncome      0\n",
       "CoapplicantIncome    0\n",
       "LoanAmount           0\n",
       "Loan_Amount_Term     0\n",
       "Credit_History       0\n",
       "Property_Area        0\n",
       "Loan_Status          0\n",
       "dtype: int64"
      ]
     },
     "execution_count": 4,
     "metadata": {},
     "output_type": "execute_result"
    }
   ],
   "source": [
    "# Impute missing values\n",
    "\n",
    "# For categorical columns, impute with mode\n",
    "data = df.copy\n",
    "categorical_cols = ['Gender', 'Married', 'Dependents', 'Self_Employed', 'Loan_Amount_Term', 'Credit_History']\n",
    "for col in categorical_cols:\n",
    "    mode_val = data[col].mode()[0]\n",
    "    data[col].fillna(mode_val, inplace=True)\n",
    "\n",
    "# For LoanAmount, impute with median\n",
    "data['LoanAmount'].fillna(data['LoanAmount'].median(), inplace=True)\n",
    "\n",
    "# Check if all missing values have been addressed\n",
    "missing_after_imputation = data.isnull().sum()\n",
    "\n",
    "missing_after_imputation\n"
   ]
  },
  {
   "cell_type": "code",
   "execution_count": 5,
   "id": "f227d19d-10bf-414b-b572-0aa21f9cf4cd",
   "metadata": {},
   "outputs": [
    {
     "name": "stderr",
     "output_type": "stream",
     "text": [
      "C:\\Users\\Hp\\anaconda3\\lib\\site-packages\\seaborn\\_decorators.py:36: FutureWarning: Pass the following variable as a keyword arg: x. From version 0.12, the only valid positional argument will be `data`, and passing other arguments without an explicit keyword will result in an error or misinterpretation.\n",
      "  warnings.warn(\n",
      "C:\\Users\\Hp\\anaconda3\\lib\\site-packages\\seaborn\\_decorators.py:36: FutureWarning: Pass the following variable as a keyword arg: x. From version 0.12, the only valid positional argument will be `data`, and passing other arguments without an explicit keyword will result in an error or misinterpretation.\n",
      "  warnings.warn(\n",
      "C:\\Users\\Hp\\anaconda3\\lib\\site-packages\\seaborn\\_decorators.py:36: FutureWarning: Pass the following variable as a keyword arg: x. From version 0.12, the only valid positional argument will be `data`, and passing other arguments without an explicit keyword will result in an error or misinterpretation.\n",
      "  warnings.warn(\n"
     ]
    },
    {
     "data": {
      "image/png": "[encoded data removed]",
      "text/plain": [
       "<Figure size 1080x720 with 3 Axes>"
      ]
     },
     "metadata": {
      "needs_background": "light"
     },
     "output_type": "display_data"
    }
   ],
   "source": [
    "import matplotlib.pyplot as plt\n",
    "import seaborn as sns\n",
    "\n",
    "# Set up the figure and axes\n",
    "plt.figure(figsize=(15, 10))\n",
    "\n",
    "# Boxplot for ApplicantIncome\n",
    "plt.subplot(2, 2, 1)\n",
    "sns.boxplot(data['ApplicantIncome'])\n",
    "plt.title('Boxplot of ApplicantIncome')\n",
    "\n",
    "# Boxplot for CoapplicantIncome\n",
    "plt.subplot(2, 2, 2)\n",
    "sns.boxplot(data['CoapplicantIncome'])\n",
    "plt.title('Boxplot of CoapplicantIncome')\n",
    "\n",
    "# Boxplot for LoanAmount\n",
    "plt.subplot(2, 2, 3)\n",
    "sns.boxplot(data['LoanAmount'])\n",
    "plt.title('Boxplot of LoanAmount')\n",
    "\n",
    "# Display the plots\n",
    "plt.tight_layout()\n",
    "plt.show()\n"
   ]
  },
  {
   "cell_type": "code",
   "execution_count": 6,
   "id": "3c676960-e167-4a0f-aa99-a446b27cc285",
   "metadata": {},
   "outputs": [
    {
     "data": {
      "text/plain": [
       "{'ApplicantIncome': 8.143322475570033,\n",
       " 'CoapplicantIncome': 2.9315960912052117,\n",
       " 'LoanAmount': 6.677524429967427}"
      ]
     },
     "execution_count": 6,
     "metadata": {},
     "output_type": "execute_result"
    }
   ],
   "source": [
    "def outlierdetection(column):\n",
    "    \"\"\"\n",
    "    Calculate the percentage of outliers in a given column using the IQR method.\n",
    "    \"\"\"\n",
    "    # Calculate Q1 and Q3\n",
    "    Q1 = column.quantile(0.25)\n",
    "    Q3 = column.quantile(0.75)\n",
    "    \n",
    "    # Compute the IQR\n",
    "    IQR = Q3 - Q1\n",
    "    \n",
    "    # Define lower and upper bounds\n",
    "    lower_bound = Q1 - 1.5 * IQR\n",
    "    upper_bound = Q3 + 1.5 * IQR\n",
    "    \n",
    "    # Count the number of outliers\n",
    "    outlier_count = ((column < lower_bound) | (column > upper_bound)).sum()\n",
    "    \n",
    "    # Calculate the percentage of outliers\n",
    "    outlier_percentage = (outlier_count / len(column)) * 100\n",
    "    \n",
    "    return outlier_percentage\n",
    "\n",
    "# Compute the percentage of outliers for each column\n",
    "outlier_percentages = {\n",
    "    'ApplicantIncome': outlierdetection(data['ApplicantIncome']),\n",
    "    'CoapplicantIncome': outlierdetection(data['CoapplicantIncome']),\n",
    "    'LoanAmount': outlierdetection(data['LoanAmount'])\n",
    "}\n",
    "\n",
    "outlier_percentages\n"
   ]
  },
  {
   "cell_type": "code",
   "execution_count": 7,
   "id": "8066bdcc-bafb-4bba-8488-e338fd0ee46b",
   "metadata": {},
   "outputs": [
    {
     "name": "stderr",
     "output_type": "stream",
     "text": [
      "C:\\Users\\Hp\\AppData\\Local\\Temp/ipykernel_36188/3148930872.py:17: SettingWithCopyWarning: \n",
      "A value is trying to be set on a copy of a slice from a DataFrame\n",
      "\n",
      "See the caveats in the documentation: https://pandas.pydata.org/pandas-docs/stable/user_guide/indexing.html#returning-a-view-versus-a-copy\n",
      "  column.loc[column < lower_bound] = Q1\n",
      "C:\\Users\\Hp\\AppData\\Local\\Temp/ipykernel_36188/3148930872.py:17: SettingWithCopyWarning: \n",
      "A value is trying to be set on a copy of a slice from a DataFrame\n",
      "\n",
      "See the caveats in the documentation: https://pandas.pydata.org/pandas-docs/stable/user_guide/indexing.html#returning-a-view-versus-a-copy\n",
      "  column.loc[column < lower_bound] = Q1\n",
      "C:\\Users\\Hp\\AppData\\Local\\Temp/ipykernel_36188/3148930872.py:18: SettingWithCopyWarning: \n",
      "A value is trying to be set on a copy of a slice from a DataFrame\n",
      "\n",
      "See the caveats in the documentation: https://pandas.pydata.org/pandas-docs/stable/user_guide/indexing.html#returning-a-view-versus-a-copy\n",
      "  column.loc[column > upper_bound] = Q3\n",
      "C:\\Users\\Hp\\AppData\\Local\\Temp/ipykernel_36188/3148930872.py:17: SettingWithCopyWarning: \n",
      "A value is trying to be set on a copy of a slice from a DataFrame\n",
      "\n",
      "See the caveats in the documentation: https://pandas.pydata.org/pandas-docs/stable/user_guide/indexing.html#returning-a-view-versus-a-copy\n",
      "  column.loc[column < lower_bound] = Q1\n",
      "C:\\Users\\Hp\\AppData\\Local\\Temp/ipykernel_36188/3148930872.py:18: SettingWithCopyWarning: \n",
      "A value is trying to be set on a copy of a slice from a DataFrame\n",
      "\n",
      "See the caveats in the documentation: https://pandas.pydata.org/pandas-docs/stable/user_guide/indexing.html#returning-a-view-versus-a-copy\n",
      "  column.loc[column > upper_bound] = Q3\n"
     ]
    },
    {
     "data": {
      "text/plain": [
       "{'ApplicantIncome': 0.0, 'CoapplicantIncome': 0.0, 'LoanAmount': 0.0}"
      ]
     },
     "execution_count": 7,
     "metadata": {},
     "output_type": "execute_result"
    }
   ],
   "source": [
    "def imputation(column):\n",
    "    \"\"\"\n",
    "    Impute outliers in a given column using the IQR method.\n",
    "    \"\"\"\n",
    "    # Calculate Q1 and Q3\n",
    "    Q1 = column.quantile(0.25)\n",
    "    Q3 = column.quantile(0.75)\n",
    "    \n",
    "    # Compute the IQR\n",
    "    IQR = Q3 - Q1\n",
    "    \n",
    "    # Define lower and upper bounds\n",
    "    lower_bound = Q1 - 1.5 * IQR\n",
    "    upper_bound = Q3 + 1.5 * IQR\n",
    "    \n",
    "    # Replace outliers with Q1 and Q3 values\n",
    "    column.loc[column < lower_bound] = Q1\n",
    "    column.loc[column > upper_bound] = Q3\n",
    "    \n",
    "    return column\n",
    "\n",
    "# Impute outliers for each column\n",
    "data['ApplicantIncome'] = imputation(data['ApplicantIncome'])\n",
    "data['CoapplicantIncome'] = imputation(data['CoapplicantIncome'])\n",
    "data['LoanAmount'] = imputation(data['LoanAmount'])\n",
    "\n",
    "# Verify the changes by checking the percentage of outliers again\n",
    "outlier_percentages_after_imputation = {\n",
    "    'ApplicantIncome': outlierdetection(data['ApplicantIncome']),\n",
    "    'CoapplicantIncome': outlierdetection(data['CoapplicantIncome']),\n",
    "    'LoanAmount': outlierdetection(data['LoanAmount'])\n",
    "}\n",
    "\n",
    "outlier_percentages_after_imputation\n"
   ]
  },
  {
   "cell_type": "code",
   "execution_count": 8,
   "id": "e91abf22-9a10-4cb9-a8a8-afc6bd8aeb64",
   "metadata": {},
   "outputs": [
    {
     "data": {
      "text/plain": [
       "'cleaned_loan_prediction.csv'"
      ]
     },
     "execution_count": 8,
     "metadata": {},
     "output_type": "execute_result"
    }
   ],
   "source": [
    "# Save the cleaned dataset to a new CSV file\n",
    "file_path = \"cleaned_loan_prediction.csv\"\n",
    "data.to_csv(file_path, index=False)\n",
    "\n",
    "file_path\n"
   ]
  },
  {
   "cell_type": "code",
   "execution_count": null,
   "id": "f1d92b0c-ecec-4def-b215-92d7879c5621",
   "metadata": {},
   "outputs": [],
   "source": []
  },
  {
   "cell_type": "code",
   "execution_count": null,
   "id": "a20ee129-34f8-40f4-9391-8f3da9635194",
   "metadata": {},
   "outputs": [],
   "source": []
  },
  {
   "cell_type": "code",
   "execution_count": null,
   "id": "8efa3e6d-a422-4de5-b010-ff910758eeee",
   "metadata": {},
   "outputs": [],
   "source": []
  },
  {
   "cell_type": "code",
   "execution_count": null,
   "id": "3730803e-f7d7-4793-9b77-cf63291fe591",
   "metadata": {},
   "outputs": [],
   "source": []
  }
 ],
 "metadata": {
  "kernelspec": {
   "display_name": "Python 3 (ipykernel)",
   "language": "python",
   "name": "python3"
  },
  "language_info": {
   "codemirror_mode": {
    "name": "ipython",
    "version": 3
   },
   "file_extension": ".py",
   "mimetype": "text/x-python",
   "name": "python",
   "nbconvert_exporter": "python",
   "pygments_lexer": "ipython3",
   "version": "3.9.7"
  }
 },
 "nbformat": 4,
 "nbformat_minor": 5
}
