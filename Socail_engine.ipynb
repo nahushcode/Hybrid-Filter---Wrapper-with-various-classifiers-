{
 "cells": [
  {
   "cell_type": "code",
   "execution_count": 2,
   "id": "ca561de8-d675-4a06-be0f-45be1925c98b",
   "metadata": {},
   "outputs": [
    {
     "data": {
      "image/png": "[encoded data removed]",
      "text/plain": [
       "<Figure size 576x432 with 1 Axes>"
      ]
     },
     "metadata": {
      "needs_background": "light"
     },
     "output_type": "display_data"
    }
   ],
   "source": [
    "import matplotlib.pyplot as plt\n",
    "import seaborn as sns\n",
    "import pandas as pd\n",
    "\n",
    "# Load the uploaded dataset\n",
    "df_encoded = pd.read_csv('Social_Network_Ads_Encoded.csv')\n",
    "\n",
    "# Plotting the class distribution in the Purchased variable\n",
    "plt.figure(figsize=(8, 6))\n",
    "sns.countplot(x='Purchased', data=df_encoded)\n",
    "plt.title(\"Class Distribution in 'Purchased' Variable\")\n",
    "plt.ylabel('Number of Instances')\n",
    "plt.xlabel('Purchased')\n",
    "plt.show()\n"
   ]
  },
  {
   "cell_type": "code",
   "execution_count": null,
   "id": "1b5302a8-4607-4559-a04d-a37d7cdb7aad",
   "metadata": {},
   "outputs": [],
   "source": [
    "    # The majority of instances (users) did not make a purchase (represented by the value 0).\n",
    "    # A smaller number of instances (users) made a purchase (represented by the value 1)."
   ]
  },
  {
   "cell_type": "code",
   "execution_count": 3,
   "id": "ab457ad8-6706-40c4-bcfc-9b1e5c11903a",
   "metadata": {},
   "outputs": [
    {
     "data": {
      "text/plain": [
       "((320, 9), (80, 9))"
      ]
     },
     "execution_count": 3,
     "metadata": {},
     "output_type": "execute_result"
    }
   ],
   "source": [
    "from sklearn.model_selection import train_test_split\n",
    "\n",
    "# Dropping the target variable and the original non-encoded columns\n",
    "X = df_encoded.drop(columns=['Purchased', 'Gender', 'AgeBracket'])\n",
    "y = df_encoded['Purchased']\n",
    "\n",
    "# Splitting the data into training (80%) and testing (20%) sets\n",
    "X_train, X_test, y_train, y_test = train_test_split(X, y, test_size=0.2, random_state=42)\n",
    "\n",
    "X_train.shape, X_test.shape\n"
   ]
  },
  {
   "cell_type": "code",
   "execution_count": 4,
   "id": "f31d8c90-0bb2-4e1c-9d78-a51b51d22bba",
   "metadata": {},
   "outputs": [
    {
     "data": {
      "text/plain": [
       "{'Logistic Regression': {'CV Accuracy': 0.79375,\n",
       "  'CV Recall': 0.5393939393939393,\n",
       "  'Test Accuracy': 0.825,\n",
       "  'Test Recall': 0.5714285714285714,\n",
       "  'Test ROC AUC': 0.893543956043956,\n",
       "  'Computation Time (s)': 0.28566813468933105},\n",
       " 'SVM': {'CV Accuracy': 0.78125,\n",
       "  'CV Recall': 0.4545454545454546,\n",
       "  'Test Accuracy': 0.825,\n",
       "  'Test Recall': 0.5,\n",
       "  'Test ROC AUC': 0.7620192307692307,\n",
       "  'Computation Time (s)': 0.4277920722961426},\n",
       " 'Decision Tree': {'CV Accuracy': 0.859375,\n",
       "  'CV Recall': 0.809090909090909,\n",
       "  'Test Accuracy': 0.875,\n",
       "  'Test Recall': 0.8571428571428571,\n",
       "  'Test ROC AUC': 0.8708791208791209,\n",
       "  'Computation Time (s)': 0.11867690086364746}}"
      ]
     },
     "execution_count": 4,
     "metadata": {},
     "output_type": "execute_result"
    }
   ],
   "source": [
    "from sklearn.linear_model import LogisticRegression\n",
    "from sklearn.svm import SVC\n",
    "from sklearn.tree import DecisionTreeClassifier\n",
    "from sklearn.model_selection import cross_val_score\n",
    "from sklearn.metrics import accuracy_score, recall_score, roc_auc_score\n",
    "import time\n",
    "\n",
    "# Defining the classifiers\n",
    "classifiers = {\n",
    "    \"Logistic Regression\": LogisticRegression(max_iter=10000),\n",
    "    \"SVM\": SVC(probability=True),\n",
    "    \"Decision Tree\": DecisionTreeClassifier()\n",
    "}\n",
    "\n",
    "# Initializing a dictionary to store the results\n",
    "results = {}\n",
    "\n",
    "# Using 10-fold cross-validation\n",
    "k = 10\n",
    "for name, clf in classifiers.items():\n",
    "    start_time = time.time()\n",
    "    \n",
    "    # Cross-validation\n",
    "    cv_acc = cross_val_score(clf, X_train, y_train, cv=k, scoring='accuracy').mean()\n",
    "    cv_recall = cross_val_score(clf, X_train, y_train, cv=k, scoring='recall').mean()\n",
    "    \n",
    "    # Training the model and making predictions on the test set\n",
    "    clf.fit(X_train, y_train)\n",
    "    y_pred = clf.predict(X_test)\n",
    "    y_pred_proba = clf.predict_proba(X_test)[:,1]\n",
    "    \n",
    "    # Evaluating the model on the test set\n",
    "    test_acc = accuracy_score(y_test, y_pred)\n",
    "    test_recall = recall_score(y_test, y_pred)\n",
    "    test_roc_auc = roc_auc_score(y_test, y_pred_proba)\n",
    "    \n",
    "    end_time = time.time()\n",
    "    comp_time = end_time - start_time\n",
    "    \n",
    "    # Storing the results\n",
    "    results[name] = {\n",
    "        \"CV Accuracy\": cv_acc,\n",
    "        \"CV Recall\": cv_recall,\n",
    "        \"Test Accuracy\": test_acc,\n",
    "        \"Test Recall\": test_recall,\n",
    "        \"Test ROC AUC\": test_roc_auc,\n",
    "        \"Computation Time (s)\": comp_time\n",
    "    }\n",
    "\n",
    "results\n"
   ]
  },
  {
   "cell_type": "code",
   "execution_count": 5,
   "id": "85f70062-68b6-4544-8016-cb934cd8a7fa",
   "metadata": {},
   "outputs": [
    {
     "data": {
      "text/html": [
       "<div>\n",
       "<style scoped>\n",
       "    .dataframe tbody tr th:only-of-type {\n",
       "        vertical-align: middle;\n",
       "    }\n",
       "\n",
       "    .dataframe tbody tr th {\n",
       "        vertical-align: top;\n",
       "    }\n",
       "\n",
       "    .dataframe thead th {\n",
       "        text-align: right;\n",
       "    }\n",
       "</style>\n",
       "<table border=\"1\" class=\"dataframe\">\n",
       "  <thead>\n",
       "    <tr style=\"text-align: right;\">\n",
       "      <th></th>\n",
       "      <th>CV Accuracy</th>\n",
       "      <th>CV Recall</th>\n",
       "      <th>Test Accuracy</th>\n",
       "      <th>Test Recall</th>\n",
       "      <th>Test ROC AUC</th>\n",
       "      <th>Computation Time (s)</th>\n",
       "    </tr>\n",
       "  </thead>\n",
       "  <tbody>\n",
       "    <tr>\n",
       "      <th>Logistic Regression</th>\n",
       "      <td>0.793750</td>\n",
       "      <td>0.539394</td>\n",
       "      <td>0.825</td>\n",
       "      <td>0.571429</td>\n",
       "      <td>0.893544</td>\n",
       "      <td>0.285668</td>\n",
       "    </tr>\n",
       "    <tr>\n",
       "      <th>SVM</th>\n",
       "      <td>0.781250</td>\n",
       "      <td>0.454545</td>\n",
       "      <td>0.825</td>\n",
       "      <td>0.500000</td>\n",
       "      <td>0.762019</td>\n",
       "      <td>0.427792</td>\n",
       "    </tr>\n",
       "    <tr>\n",
       "      <th>Decision Tree</th>\n",
       "      <td>0.859375</td>\n",
       "      <td>0.809091</td>\n",
       "      <td>0.875</td>\n",
       "      <td>0.857143</td>\n",
       "      <td>0.870879</td>\n",
       "      <td>0.118677</td>\n",
       "    </tr>\n",
       "  </tbody>\n",
       "</table>\n",
       "</div>"
      ],
      "text/plain": [
       "                     CV Accuracy  CV Recall  Test Accuracy  Test Recall  \\\n",
       "Logistic Regression     0.793750   0.539394          0.825     0.571429   \n",
       "SVM                     0.781250   0.454545          0.825     0.500000   \n",
       "Decision Tree           0.859375   0.809091          0.875     0.857143   \n",
       "\n",
       "                     Test ROC AUC  Computation Time (s)  \n",
       "Logistic Regression      0.893544              0.285668  \n",
       "SVM                      0.762019              0.427792  \n",
       "Decision Tree            0.870879              0.118677  "
      ]
     },
     "execution_count": 5,
     "metadata": {},
     "output_type": "execute_result"
    }
   ],
   "source": [
    "# Convert the results into a DataFrame for tabulation\n",
    "results_df = pd.DataFrame(results).T\n",
    "\n",
    "# Displaying the table\n",
    "results_df\n"
   ]
  },
  {
   "cell_type": "code",
   "execution_count": 6,
   "id": "da942b80-204c-49f7-b2f0-95c75000e888",
   "metadata": {},
   "outputs": [
    {
     "data": {
      "image/png": "[encoded data removed]",
      "text/plain": [
       "<Figure size 1080x1080 with 6 Axes>"
      ]
     },
     "metadata": {
      "needs_background": "light"
     },
     "output_type": "display_data"
    }
   ],
   "source": [
    "# Plotting the performance metrics using a bar plot\n",
    "\n",
    "# Setting the colors\n",
    "colors = ['lightblue', 'green', 'purple']\n",
    "\n",
    "# Plotting\n",
    "fig, ax = plt.subplots(3, 2, figsize=(15, 15))\n",
    "\n",
    "metrics = [\"CV Accuracy\", \"CV Recall\", \"Test Accuracy\", \"Test Recall\", \"Test ROC AUC\", \"Computation Time (s)\"]\n",
    "for i, metric in enumerate(metrics):\n",
    "    results_df[metric].plot(kind='bar', ax=ax[i//2, i%2], color=colors)\n",
    "    ax[i//2, i%2].set_title(metric)\n",
    "    ax[i//2, i%2].set_ylabel(metric)\n",
    "    ax[i//2, i%2].set_xlabel('Classifier')\n",
    "    ax[i//2, i%2].set_ylim([0, 1] if \"Time\" not in metric else [0, results_df[metric].max() + 0.1])\n",
    "\n",
    "plt.tight_layout()\n",
    "plt.show()\n"
   ]
  },
  {
   "cell_type": "code",
   "execution_count": null,
   "id": "2f185397-b3c7-4815-b959-2cb1afaf97e7",
   "metadata": {},
   "outputs": [],
   "source": [
    "# Feature scaling "
   ]
  },
  {
   "cell_type": "code",
   "execution_count": 7,
   "id": "4447ed75-1c10-40e9-96a1-7119775b6654",
   "metadata": {},
   "outputs": [
    {
     "data": {
      "text/plain": [
       "array([[-1.19424348, -1.06675246, -0.38634438, -0.70830886,  0.35100302,\n",
       "         1.14020657,  0.32079167, -1.        , -1.5325259 ],\n",
       "       [ 0.21592346,  0.79753468, -1.22993871, -0.85994033, -0.21165105,\n",
       "         0.60677881, -1.51321353,  1.        ,  0.17621378],\n",
       "       [ 0.64683448,  0.11069205,  1.853544  ,  1.51904259, -1.12396229,\n",
       "        -1.11024995,  1.205411  , -1.        ,  0.17621378],\n",
       "       [ 1.68390979,  0.60129393, -0.90995465, -0.60138149, -0.67569728,\n",
       "        -1.4224295 ,  1.21124521, -1.        ,  0.17621378],\n",
       "       [ 0.05222014,  1.87685881, -1.28811763, -0.7427431 ,  0.05631326,\n",
       "        -0.30152217,  1.58678521, -1.        ,  1.88495346]])"
      ]
     },
     "execution_count": 7,
     "metadata": {},
     "output_type": "execute_result"
    }
   ],
   "source": [
    "from sklearn.preprocessing import StandardScaler\n",
    "\n",
    "# Scaling the features\n",
    "scaler = StandardScaler()\n",
    "X_train_scaled = scaler.fit_transform(X_train)\n",
    "X_test_scaled = scaler.transform(X_test)\n",
    "\n",
    "X_train_scaled[:5, :]  # Displaying the first 5 rows of the scaled training data\n"
   ]
  },
  {
   "cell_type": "code",
   "execution_count": 8,
   "id": "978242d2-32ec-485e-953e-28e9c8efbff7",
   "metadata": {},
   "outputs": [
    {
     "data": {
      "text/plain": [
       "{'C': 10, 'penalty': 'l2', 'solver': 'liblinear'}"
      ]
     },
     "execution_count": 8,
     "metadata": {},
     "output_type": "execute_result"
    }
   ],
   "source": [
    "from sklearn.model_selection import GridSearchCV\n",
    "\n",
    "# Hyperparameter grid for Logistic Regression\n",
    "lr_params = {\n",
    "    'C': [0.001, 0.01, 0.1, 1, 10, 100, 1000],\n",
    "    'penalty': ['l1', 'l2'],\n",
    "    'solver': ['liblinear']\n",
    "}\n",
    "\n",
    "# Grid search for Logistic Regression\n",
    "lr_grid = GridSearchCV(LogisticRegression(max_iter=10000), lr_params, cv=k, scoring='accuracy')\n",
    "lr_grid.fit(X_train_scaled, y_train)\n",
    "\n",
    "# Best hyperparameters for Logistic Regression\n",
    "lr_best_params = lr_grid.best_params_\n",
    "lr_best_params\n"
   ]
  },
  {
   "cell_type": "code",
   "execution_count": 1,
   "id": "fa839fed-29ce-4b32-94f0-ebc3a95eabbf",
   "metadata": {},
   "outputs": [
    {
     "ename": "NameError",
     "evalue": "name 'GridSearchCV' is not defined",
     "output_type": "error",
     "traceback": [
      "\u001b[1;31m---------------------------------------------------------------------------\u001b[0m",
      "\u001b[1;31mNameError\u001b[0m                                 Traceback (most recent call last)",
      "\u001b[1;32m~\\AppData\\Local\\Temp/ipykernel_21188/2390771226.py\u001b[0m in \u001b[0;36m<module>\u001b[1;34m\u001b[0m\n\u001b[0;32m      7\u001b[0m \u001b[1;33m\u001b[0m\u001b[0m\n\u001b[0;32m      8\u001b[0m \u001b[1;31m# Grid search for SVM\u001b[0m\u001b[1;33m\u001b[0m\u001b[1;33m\u001b[0m\u001b[0m\n\u001b[1;32m----> 9\u001b[1;33m \u001b[0msvm_grid\u001b[0m \u001b[1;33m=\u001b[0m \u001b[0mGridSearchCV\u001b[0m\u001b[1;33m(\u001b[0m\u001b[0mSVC\u001b[0m\u001b[1;33m(\u001b[0m\u001b[0mprobability\u001b[0m\u001b[1;33m=\u001b[0m\u001b[1;32mTrue\u001b[0m\u001b[1;33m)\u001b[0m\u001b[1;33m,\u001b[0m \u001b[0msvm_params\u001b[0m\u001b[1;33m,\u001b[0m \u001b[0mcv\u001b[0m\u001b[1;33m=\u001b[0m\u001b[0mk\u001b[0m\u001b[1;33m,\u001b[0m \u001b[0mscoring\u001b[0m\u001b[1;33m=\u001b[0m\u001b[1;34m'accuracy'\u001b[0m\u001b[1;33m)\u001b[0m\u001b[1;33m\u001b[0m\u001b[1;33m\u001b[0m\u001b[0m\n\u001b[0m\u001b[0;32m     10\u001b[0m \u001b[0msvm_grid\u001b[0m\u001b[1;33m.\u001b[0m\u001b[0mfit\u001b[0m\u001b[1;33m(\u001b[0m\u001b[0mX_train_scaled\u001b[0m\u001b[1;33m,\u001b[0m \u001b[0my_train\u001b[0m\u001b[1;33m)\u001b[0m\u001b[1;33m\u001b[0m\u001b[1;33m\u001b[0m\u001b[0m\n\u001b[0;32m     11\u001b[0m \u001b[1;33m\u001b[0m\u001b[0m\n",
      "\u001b[1;31mNameError\u001b[0m: name 'GridSearchCV' is not defined"
     ]
    }
   ],
   "source": [
    "# Hyperparameter grid for SVM\n",
    "svm_params = {\n",
    "    'C': [0.001, 0.01, 0.1],\n",
    "    'kernel': ['linear', 'rbf'],\n",
    "    'gamma': ['scale', 'auto']\n",
    "}\n",
    "\n",
    "# Grid search for SVM\n",
    "svm_grid = GridSearchCV(SVC(probability=True), svm_params, cv=k, scoring='accuracy')\n",
    "svm_grid.fit(X_train_scaled, y_train)\n",
    "\n",
    "# Best hyperparameters for SVM\n",
    "svm_best_params = svm_grid.best_params_\n",
    "svm_best_params\n"
   ]
  },
  {
   "cell_type": "code",
   "execution_count": 10,
   "id": "56c90b92-5dde-4d74-a089-9b35fc6f3779",
   "metadata": {},
   "outputs": [
    {
     "data": {
      "text/plain": [
       "{'criterion': 'entropy',\n",
       " 'max_depth': 5,\n",
       " 'min_samples_leaf': 1,\n",
       " 'min_samples_split': 5}"
      ]
     },
     "execution_count": 10,
     "metadata": {},
     "output_type": "execute_result"
    }
   ],
   "source": [
    "# Hyperparameter grid for Decision Tree\n",
    "dt_params = {\n",
    "    'criterion': ['gini', 'entropy'],\n",
    "    'max_depth': [None, 5, 10, 15, 20],\n",
    "    'min_samples_split': [2, 5, 10],\n",
    "    'min_samples_leaf': [1, 2, 4]\n",
    "}\n",
    "\n",
    "# Grid search for Decision Tree\n",
    "dt_grid = GridSearchCV(DecisionTreeClassifier(), dt_params, cv=k, scoring='accuracy')\n",
    "dt_grid.fit(X_train_scaled, y_train)\n",
    "\n",
    "# Best hyperparameters for Decision Tree\n",
    "dt_best_params = dt_grid.best_params_\n",
    "dt_best_params\n"
   ]
  },
  {
   "cell_type": "code",
   "execution_count": 11,
   "id": "477951a4-9229-460b-b071-c79cfc93e0e3",
   "metadata": {},
   "outputs": [
    {
     "data": {
      "text/html": [
       "<div>\n",
       "<style scoped>\n",
       "    .dataframe tbody tr th:only-of-type {\n",
       "        vertical-align: middle;\n",
       "    }\n",
       "\n",
       "    .dataframe tbody tr th {\n",
       "        vertical-align: top;\n",
       "    }\n",
       "\n",
       "    .dataframe thead th {\n",
       "        text-align: right;\n",
       "    }\n",
       "</style>\n",
       "<table border=\"1\" class=\"dataframe\">\n",
       "  <thead>\n",
       "    <tr style=\"text-align: right;\">\n",
       "      <th></th>\n",
       "      <th>Test Accuracy</th>\n",
       "      <th>Test Recall</th>\n",
       "      <th>Test ROC AUC</th>\n",
       "    </tr>\n",
       "  </thead>\n",
       "  <tbody>\n",
       "    <tr>\n",
       "      <th>Logistic Regression</th>\n",
       "      <td>0.9125</td>\n",
       "      <td>0.928571</td>\n",
       "      <td>0.984203</td>\n",
       "    </tr>\n",
       "    <tr>\n",
       "      <th>SVM</th>\n",
       "      <td>0.9375</td>\n",
       "      <td>0.928571</td>\n",
       "      <td>0.975275</td>\n",
       "    </tr>\n",
       "    <tr>\n",
       "      <th>Decision Tree</th>\n",
       "      <td>0.9000</td>\n",
       "      <td>0.928571</td>\n",
       "      <td>0.907967</td>\n",
       "    </tr>\n",
       "  </tbody>\n",
       "</table>\n",
       "</div>"
      ],
      "text/plain": [
       "                     Test Accuracy  Test Recall  Test ROC AUC\n",
       "Logistic Regression         0.9125     0.928571      0.984203\n",
       "SVM                         0.9375     0.928571      0.975275\n",
       "Decision Tree               0.9000     0.928571      0.907967"
      ]
     },
     "execution_count": 11,
     "metadata": {},
     "output_type": "execute_result"
    }
   ],
   "source": [
    "# Initializing a dictionary to store the optimized results\n",
    "optimized_results = {}\n",
    "\n",
    "# Training and evaluating the classifiers with the best hyperparameters\n",
    "for name, clf in classifiers.items():\n",
    "    \n",
    "    if name == \"Logistic Regression\":\n",
    "        clf.set_params(**lr_best_params)\n",
    "    elif name == \"SVM\":\n",
    "        clf.set_params(**svm_best_params)\n",
    "    elif name == \"Decision Tree\":\n",
    "        clf.set_params(**dt_best_params)\n",
    "    \n",
    "    # Training the model and making predictions on the test set\n",
    "    clf.fit(X_train_scaled, y_train)\n",
    "    y_pred = clf.predict(X_test_scaled)\n",
    "    y_pred_proba = clf.predict_proba(X_test_scaled)[:,1]\n",
    "    \n",
    "    # Evaluating the model on the test set\n",
    "    test_acc = accuracy_score(y_test, y_pred)\n",
    "    test_recall = recall_score(y_test, y_pred)\n",
    "    test_roc_auc = roc_auc_score(y_test, y_pred_proba)\n",
    "    \n",
    "    # Storing the results\n",
    "    optimized_results[name] = {\n",
    "        \"Test Accuracy\": test_acc,\n",
    "        \"Test Recall\": test_recall,\n",
    "        \"Test ROC AUC\": test_roc_auc,\n",
    "    }\n",
    "\n",
    "optimized_results_df = pd.DataFrame(optimized_results).T\n",
    "optimized_results_df\n"
   ]
  },
  {
   "cell_type": "code",
   "execution_count": 12,
   "id": "4d7876dc-a829-4909-8fed-93b124e49efb",
   "metadata": {},
   "outputs": [
    {
     "data": {
      "image/png": "[encoded data removed]",
      "text/plain": [
       "<Figure size 1080x360 with 3 Axes>"
      ]
     },
     "metadata": {
      "needs_background": "light"
     },
     "output_type": "display_data"
    }
   ],
   "source": [
    "# Plotting the improved performance metrics using a bar plot\n",
    "\n",
    "# Setting the colors\n",
    "colors = ['lightblue', 'green', 'purple']\n",
    "\n",
    "# Plotting\n",
    "fig, ax = plt.subplots(1, 3, figsize=(15, 5))\n",
    "\n",
    "metrics = [\"Test Accuracy\", \"Test Recall\", \"Test ROC AUC\"]\n",
    "for i, metric in enumerate(metrics):\n",
    "    optimized_results_df[metric].plot(kind='bar', ax=ax[i], color=colors)\n",
    "    ax[i].set_title(metric)\n",
    "    ax[i].set_ylabel(metric)\n",
    "    ax[i].set_xlabel('Classifier')\n",
    "    ax[i].set_ylim([0.8, 1])\n",
    "\n",
    "plt.tight_layout()\n",
    "plt.show()\n"
   ]
  },
  {
   "cell_type": "code",
   "execution_count": 2,
   "id": "0f93668c-791b-4e43-8e46-13316d3041d1",
   "metadata": {},
   "outputs": [
    {
     "ename": "NameError",
     "evalue": "name 'logreg' is not defined",
     "output_type": "error",
     "traceback": [
      "\u001b[1;31m---------------------------------------------------------------------------\u001b[0m",
      "\u001b[1;31mNameError\u001b[0m                                 Traceback (most recent call last)",
      "\u001b[1;32m~\\AppData\\Local\\Temp/ipykernel_21188/4167255735.py\u001b[0m in \u001b[0;36m<module>\u001b[1;34m\u001b[0m\n\u001b[0;32m      2\u001b[0m \u001b[1;33m\u001b[0m\u001b[0m\n\u001b[0;32m      3\u001b[0m \u001b[1;31m# Making predictions on the test set\u001b[0m\u001b[1;33m\u001b[0m\u001b[1;33m\u001b[0m\u001b[0m\n\u001b[1;32m----> 4\u001b[1;33m \u001b[0my_pred\u001b[0m \u001b[1;33m=\u001b[0m \u001b[0mlogreg\u001b[0m\u001b[1;33m.\u001b[0m\u001b[0mpredict\u001b[0m\u001b[1;33m(\u001b[0m\u001b[0mX_test\u001b[0m\u001b[1;33m)\u001b[0m\u001b[1;33m\u001b[0m\u001b[1;33m\u001b[0m\u001b[0m\n\u001b[0m\u001b[0;32m      5\u001b[0m \u001b[0my_pred_proba\u001b[0m \u001b[1;33m=\u001b[0m \u001b[0mlogreg\u001b[0m\u001b[1;33m.\u001b[0m\u001b[0mpredict_proba\u001b[0m\u001b[1;33m(\u001b[0m\u001b[0mX_test\u001b[0m\u001b[1;33m)\u001b[0m\u001b[1;33m[\u001b[0m\u001b[1;33m:\u001b[0m\u001b[1;33m,\u001b[0m \u001b[1;36m1\u001b[0m\u001b[1;33m]\u001b[0m\u001b[1;33m\u001b[0m\u001b[1;33m\u001b[0m\u001b[0m\n\u001b[0;32m      6\u001b[0m \u001b[1;33m\u001b[0m\u001b[0m\n",
      "\u001b[1;31mNameError\u001b[0m: name 'logreg' is not defined"
     ]
    }
   ],
   "source": []
  },
  {
   "cell_type": "code",
   "execution_count": null,
   "id": "518e3896-df1d-41c0-b2b4-8eddf46ddbb5",
   "metadata": {},
   "outputs": [],
   "source": []
  },
  {
   "cell_type": "code",
   "execution_count": null,
   "id": "997b807b-9aa4-4794-8dd3-774fad5e90eb",
   "metadata": {},
   "outputs": [],
   "source": []
  },
  {
   "cell_type": "code",
   "execution_count": null,
   "id": "f92f855d-d6f6-4252-9b61-cdcaca31065c",
   "metadata": {},
   "outputs": [],
   "source": []
  }
 ],
 "metadata": {
  "kernelspec": {
   "display_name": "Python 3 (ipykernel)",
   "language": "python",
   "name": "python3"
  },
  "language_info": {
   "codemirror_mode": {
    "name": "ipython",
    "version": 3
   },
   "file_extension": ".py",
   "mimetype": "text/x-python",
   "name": "python",
   "nbconvert_exporter": "python",
   "pygments_lexer": "ipython3",
   "version": "3.9.7"
  }
 },
 "nbformat": 4,
 "nbformat_minor": 5
}
