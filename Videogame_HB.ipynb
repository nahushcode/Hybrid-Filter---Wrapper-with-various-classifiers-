{
 "cells": [
  {
   "cell_type": "code",
   "execution_count": 1,
   "id": "46d008fe-76c0-4152-8111-ae3bc6c4e673",
   "metadata": {},
   "outputs": [
    {
     "data": {
      "text/html": [
       "<div>\n",
       "<style scoped>\n",
       "    .dataframe tbody tr th:only-of-type {\n",
       "        vertical-align: middle;\n",
       "    }\n",
       "\n",
       "    .dataframe tbody tr th {\n",
       "        vertical-align: top;\n",
       "    }\n",
       "\n",
       "    .dataframe thead th {\n",
       "        text-align: right;\n",
       "    }\n",
       "</style>\n",
       "<table border=\"1\" class=\"dataframe\">\n",
       "  <thead>\n",
       "    <tr style=\"text-align: right;\">\n",
       "      <th></th>\n",
       "      <th>GameID</th>\n",
       "      <th>GameName</th>\n",
       "      <th>Genre</th>\n",
       "      <th>Platform</th>\n",
       "      <th>ReleaseYear</th>\n",
       "      <th>Rating</th>\n",
       "      <th>Multiplayer</th>\n",
       "      <th>GameLength</th>\n",
       "      <th>GraphicsQuality</th>\n",
       "      <th>StoryDepth</th>\n",
       "      <th>DifficultyLevel</th>\n",
       "    </tr>\n",
       "  </thead>\n",
       "  <tbody>\n",
       "    <tr>\n",
       "      <th>0</th>\n",
       "      <td>1</td>\n",
       "      <td>GameDelta_1</td>\n",
       "      <td>4</td>\n",
       "      <td>0</td>\n",
       "      <td>2013</td>\n",
       "      <td>7.0</td>\n",
       "      <td>0</td>\n",
       "      <td>18</td>\n",
       "      <td>4</td>\n",
       "      <td>3</td>\n",
       "      <td>2</td>\n",
       "    </tr>\n",
       "    <tr>\n",
       "      <th>1</th>\n",
       "      <td>2</td>\n",
       "      <td>GameOmega_2</td>\n",
       "      <td>0</td>\n",
       "      <td>3</td>\n",
       "      <td>2018</td>\n",
       "      <td>9.7</td>\n",
       "      <td>1</td>\n",
       "      <td>30</td>\n",
       "      <td>5</td>\n",
       "      <td>4</td>\n",
       "      <td>1</td>\n",
       "    </tr>\n",
       "    <tr>\n",
       "      <th>2</th>\n",
       "      <td>3</td>\n",
       "      <td>GameDelta_3</td>\n",
       "      <td>4</td>\n",
       "      <td>1</td>\n",
       "      <td>2021</td>\n",
       "      <td>6.1</td>\n",
       "      <td>0</td>\n",
       "      <td>3</td>\n",
       "      <td>2</td>\n",
       "      <td>3</td>\n",
       "      <td>0</td>\n",
       "    </tr>\n",
       "    <tr>\n",
       "      <th>3</th>\n",
       "      <td>4</td>\n",
       "      <td>GameAlpha_4</td>\n",
       "      <td>4</td>\n",
       "      <td>3</td>\n",
       "      <td>2007</td>\n",
       "      <td>6.6</td>\n",
       "      <td>1</td>\n",
       "      <td>4</td>\n",
       "      <td>1</td>\n",
       "      <td>2</td>\n",
       "      <td>0</td>\n",
       "    </tr>\n",
       "    <tr>\n",
       "      <th>4</th>\n",
       "      <td>5</td>\n",
       "      <td>GameZeta_5</td>\n",
       "      <td>3</td>\n",
       "      <td>0</td>\n",
       "      <td>2018</td>\n",
       "      <td>9.5</td>\n",
       "      <td>0</td>\n",
       "      <td>26</td>\n",
       "      <td>5</td>\n",
       "      <td>5</td>\n",
       "      <td>1</td>\n",
       "    </tr>\n",
       "  </tbody>\n",
       "</table>\n",
       "</div>"
      ],
      "text/plain": [
       "   GameID     GameName  Genre  Platform  ReleaseYear  Rating  Multiplayer  \\\n",
       "0       1  GameDelta_1      4         0         2013     7.0            0   \n",
       "1       2  GameOmega_2      0         3         2018     9.7            1   \n",
       "2       3  GameDelta_3      4         1         2021     6.1            0   \n",
       "3       4  GameAlpha_4      4         3         2007     6.6            1   \n",
       "4       5   GameZeta_5      3         0         2018     9.5            0   \n",
       "\n",
       "   GameLength  GraphicsQuality  StoryDepth  DifficultyLevel  \n",
       "0          18                4           3                2  \n",
       "1          30                5           4                1  \n",
       "2           3                2           3                0  \n",
       "3           4                1           2                0  \n",
       "4          26                5           5                1  "
      ]
     },
     "execution_count": 1,
     "metadata": {},
     "output_type": "execute_result"
    }
   ],
   "source": [
    "import pandas as pd\n",
    "\n",
    "# Load the data\n",
    "data = pd.read_csv('videogame_encoded.csv')\n",
    "\n",
    "# Display the first few rows of the dataset\n",
    "data.head()\n"
   ]
  },
  {
   "cell_type": "code",
   "execution_count": 2,
   "id": "4222525c-2109-4bdf-944b-0c5da2cf2f3b",
   "metadata": {},
   "outputs": [
    {
     "data": {
      "text/plain": [
       "Rating             0.607108\n",
       "GraphicsQuality    0.517863\n",
       "GameLength         0.478362\n",
       "StoryDepth         0.367762\n",
       "ReleaseYear        0.033347\n",
       "Multiplayer        0.018931\n",
       "Genre              0.016516\n",
       "Platform           0.012724\n",
       "dtype: float64"
      ]
     },
     "execution_count": 2,
     "metadata": {},
     "output_type": "execute_result"
    }
   ],
   "source": [
    "# Drop the non-numeric columns and target column for feature selection\n",
    "features = data.drop(columns=[\"GameID\", \"GameName\", \"DifficultyLevel\"])\n",
    "\n",
    "# Calculate the Pearson correlation coefficients\n",
    "correlationmatrix = features.corrwith(data[\"DifficultyLevel\"]).abs()\n",
    "\n",
    "# Sort the features based on their absolute correlation values\n",
    "sortedcorrelation = correlationmatrix.sort_values(ascending=False)\n",
    "\n",
    "# Display the sorted correlations\n",
    "sortedcorrelation\n"
   ]
  },
  {
   "cell_type": "code",
   "execution_count": 3,
   "id": "b862b16c-f382-4014-8a7e-37b9ee862359",
   "metadata": {},
   "outputs": [
    {
     "data": {
      "text/plain": [
       "GameLength         1\n",
       "Rating             2\n",
       "GraphicsQuality    3\n",
       "StoryDepth         4\n",
       "ReleaseYear        5\n",
       "dtype: int32"
      ]
     },
     "execution_count": 3,
     "metadata": {},
     "output_type": "execute_result"
    }
   ],
   "source": [
    "from sklearn.feature_selection import RFE\n",
    "from sklearn.ensemble import RandomForestClassifier\n",
    "\n",
    "# Select top 5 features based on correlation\n",
    "selectedattributes = sortedcorrelation.index[:5]\n",
    "\n",
    "# Initialize Random Forest and RFE\n",
    "rf = RandomForestClassifier()\n",
    "rfe = RFE(estimator=rf, n_features_to_select=1)\n",
    "\n",
    "# Fit RFE on selected features and target\n",
    "rfe.fit(features[selectedattributes], data[\"DifficultyLevel\"])\n",
    "\n",
    "# Get the ranking of the features\n",
    "feature_ranking = pd.Series(rfe.ranking_, index=selectedattributes)\n",
    "\n",
    "# Display the feature ranking\n",
    "feature_ranking.sort_values()\n"
   ]
  },
  {
   "cell_type": "code",
   "execution_count": 4,
   "id": "f55c8895-cdf0-47e0-b236-f473b3304576",
   "metadata": {},
   "outputs": [
    {
     "data": {
      "text/plain": [
       "((2400, 5), (600, 5))"
      ]
     },
     "execution_count": 4,
     "metadata": {},
     "output_type": "execute_result"
    }
   ],
   "source": [
    "from sklearn.model_selection import train_test_split\n",
    "\n",
    "# Select the relevant features and target\n",
    "X = data[[\"Rating\", \"GameLength\", \"GraphicsQuality\", \"StoryDepth\", \"ReleaseYear\"]]\n",
    "y = data[\"DifficultyLevel\"]\n",
    "\n",
    "# Split the data into training and test sets (80% training, 20% test)\n",
    "X_train, X_test, y_train, y_test = train_test_split(X, y, test_size=0.2, random_state=42)\n",
    "\n",
    "X_train.shape, X_test.shape\n"
   ]
  },
  {
   "cell_type": "code",
   "execution_count": 5,
   "id": "adec31c2-a64c-43a9-ad07-fd609f4869d7",
   "metadata": {},
   "outputs": [
    {
     "data": {
      "text/plain": [
       "({'C': 0.1, 'penalty': 'l1', 'solver': 'liblinear'}, 23.00178050994873)"
      ]
     },
     "execution_count": 5,
     "metadata": {},
     "output_type": "execute_result"
    }
   ],
   "source": [
    "# Logistic Regression \n",
    "from sklearn.linear_model import LogisticRegression\n",
    "from sklearn.model_selection import GridSearchCV\n",
    "import time\n",
    "\n",
    "# Define hyperparameters to tune\n",
    "pgrid = {\n",
    "    'C': [0.001, 0.01, 0.1],\n",
    "    'penalty': ['l1', 'l2'],\n",
    "    'solver': ['liblinear']\n",
    "}\n",
    "\n",
    "# Initialize the Logistic Regression model and GridSearchCV\n",
    "log_reg = LogisticRegression(max_iter=10000)\n",
    "grid_search = GridSearchCV(log_reg, pgrid, scoring='accuracy', cv=5)\n",
    "\n",
    "# Start time\n",
    "start_time = time.time()\n",
    "\n",
    "# Fit the GridSearchCV to the data\n",
    "grid_search.fit(X_train, y_train)\n",
    "\n",
    "# End time\n",
    "end_time = time.time()\n",
    "\n",
    "# Calculate the time taken for hyperparameter tuning\n",
    "time_taken = end_time - start_time\n",
    "\n",
    "# Display the best hyperparameters\n",
    "best_params = grid_search.best_params_\n",
    "best_params, time_taken\n"
   ]
  },
  {
   "cell_type": "code",
   "execution_count": 6,
   "id": "1214d948-9879-439c-bc19-380cf015dfa6",
   "metadata": {},
   "outputs": [
    {
     "ename": "ValueError",
     "evalue": "multi_class must be in ('ovo', 'ovr')",
     "output_type": "error",
     "traceback": [
      "\u001b[1;31m---------------------------------------------------------------------------\u001b[0m",
      "\u001b[1;31mValueError\u001b[0m                                Traceback (most recent call last)",
      "\u001b[1;32m~\\AppData\\Local\\Temp/ipykernel_38892/3646866751.py\u001b[0m in \u001b[0;36m<module>\u001b[1;34m\u001b[0m\n\u001b[0;32m     20\u001b[0m \u001b[1;31m# Since Logistic Regression is a binary classification, we need to get prediction probabilities for ROC-AUC\u001b[0m\u001b[1;33m\u001b[0m\u001b[1;33m\u001b[0m\u001b[0m\n\u001b[0;32m     21\u001b[0m \u001b[0my_prob\u001b[0m \u001b[1;33m=\u001b[0m \u001b[0mlog_reg_best\u001b[0m\u001b[1;33m.\u001b[0m\u001b[0mpredict_proba\u001b[0m\u001b[1;33m(\u001b[0m\u001b[0mX_test\u001b[0m\u001b[1;33m)\u001b[0m\u001b[1;33m[\u001b[0m\u001b[1;33m:\u001b[0m\u001b[1;33m,\u001b[0m \u001b[1;36m1\u001b[0m\u001b[1;33m]\u001b[0m\u001b[1;33m\u001b[0m\u001b[1;33m\u001b[0m\u001b[0m\n\u001b[1;32m---> 22\u001b[1;33m \u001b[0mroc_auc\u001b[0m \u001b[1;33m=\u001b[0m \u001b[0mroc_auc_score\u001b[0m\u001b[1;33m(\u001b[0m\u001b[0my_test\u001b[0m\u001b[1;33m,\u001b[0m \u001b[0my_prob\u001b[0m\u001b[1;33m)\u001b[0m\u001b[1;33m\u001b[0m\u001b[1;33m\u001b[0m\u001b[0m\n\u001b[0m\u001b[0;32m     23\u001b[0m \u001b[1;33m\u001b[0m\u001b[0m\n\u001b[0;32m     24\u001b[0m \u001b[0maccuracy\u001b[0m\u001b[1;33m,\u001b[0m \u001b[0mf1\u001b[0m\u001b[1;33m,\u001b[0m \u001b[0mroc_auc\u001b[0m\u001b[1;33m,\u001b[0m \u001b[0mcv_scores\u001b[0m\u001b[1;33m.\u001b[0m\u001b[0mmean\u001b[0m\u001b[1;33m(\u001b[0m\u001b[1;33m)\u001b[0m\u001b[1;33m\u001b[0m\u001b[1;33m\u001b[0m\u001b[0m\n",
      "\u001b[1;32m~\\anaconda3\\lib\\site-packages\\sklearn\\metrics\\_ranking.py\u001b[0m in \u001b[0;36mroc_auc_score\u001b[1;34m(y_true, y_score, average, sample_weight, max_fpr, multi_class, labels)\u001b[0m\n\u001b[0;32m    563\u001b[0m             )\n\u001b[0;32m    564\u001b[0m         \u001b[1;32mif\u001b[0m \u001b[0mmulti_class\u001b[0m \u001b[1;33m==\u001b[0m \u001b[1;34m\"raise\"\u001b[0m\u001b[1;33m:\u001b[0m\u001b[1;33m\u001b[0m\u001b[1;33m\u001b[0m\u001b[0m\n\u001b[1;32m--> 565\u001b[1;33m             \u001b[1;32mraise\u001b[0m \u001b[0mValueError\u001b[0m\u001b[1;33m(\u001b[0m\u001b[1;34m\"multi_class must be in ('ovo', 'ovr')\"\u001b[0m\u001b[1;33m)\u001b[0m\u001b[1;33m\u001b[0m\u001b[1;33m\u001b[0m\u001b[0m\n\u001b[0m\u001b[0;32m    566\u001b[0m         return _multiclass_roc_auc_score(\n\u001b[0;32m    567\u001b[0m             \u001b[0my_true\u001b[0m\u001b[1;33m,\u001b[0m \u001b[0my_score\u001b[0m\u001b[1;33m,\u001b[0m \u001b[0mlabels\u001b[0m\u001b[1;33m,\u001b[0m \u001b[0mmulti_class\u001b[0m\u001b[1;33m,\u001b[0m \u001b[0maverage\u001b[0m\u001b[1;33m,\u001b[0m \u001b[0msample_weight\u001b[0m\u001b[1;33m\u001b[0m\u001b[1;33m\u001b[0m\u001b[0m\n",
      "\u001b[1;31mValueError\u001b[0m: multi_class must be in ('ovo', 'ovr')"
     ]
    }
   ],
   "source": [
    "from sklearn.metrics import accuracy_score, f1_score, roc_auc_score, confusion_matrix\n",
    "from sklearn.model_selection import cross_val_score\n",
    "\n",
    "# Initialize Logistic Regression with best hyperparameters\n",
    "log_reg_best = LogisticRegression(C=0.1, penalty='l1', solver='liblinear', max_iter=10000)\n",
    "\n",
    "# Train the model\n",
    "log_reg_best.fit(X_train, y_train)\n",
    "\n",
    "# Perform K-Fold Cross Validation\n",
    "cv_scores = cross_val_score(log_reg_best, X_train, y_train, cv=5, scoring='accuracy')\n",
    "\n",
    "# Predictions on the test set\n",
    "y_pred = log_reg_best.predict(X_test)\n",
    "\n",
    "# Calculate performance metrics\n",
    "accuracy = accuracy_score(y_test, y_pred)\n",
    "f1 = f1_score(y_test, y_pred, average='weighted')\n",
    "\n",
    "# Since Logistic Regression is a binary classification, we need to get prediction probabilities for ROC-AUC\n",
    "y_prob = log_reg_best.predict_proba(X_test)[:, 1]\n",
    "roc_auc = roc_auc_score(y_test, y_prob)\n",
    "\n",
    "accuracy, f1, roc_auc, cv_scores.mean()\n"
   ]
  },
  {
   "cell_type": "code",
   "execution_count": 7,
   "id": "b64f30f1-3eae-44fd-905b-f4ba47a66838",
   "metadata": {},
   "outputs": [
    {
     "data": {
      "text/plain": [
       "(0.9583333333333334, 0.9580824212378761, 0.9948743107263813, 0.9625)"
      ]
     },
     "execution_count": 7,
     "metadata": {},
     "output_type": "execute_result"
    }
   ],
   "source": [
    "# Calculate multi-class ROC-AUC using OvR strategy\n",
    "roc_auc_multi = roc_auc_score(y_test, log_reg_best.predict_proba(X_test), multi_class='ovr', average='weighted')\n",
    "\n",
    "accuracy, f1, roc_auc_multi, cv_scores.mean()\n"
   ]
  },
  {
   "cell_type": "code",
   "execution_count": null,
   "id": "24244236-2090-4f9d-8ea0-1154903d1d5f",
   "metadata": {},
   "outputs": [],
   "source": [
    "    # Accuracy: 95.67%95.67%\n",
    "    # F1-Score (Weighted): 95.64%95.64%\n",
    "    # ROC-AUC (One-vs-Rest, Weighted): 99.48%99.48%\n",
    "    # K-Fold Cross-Validation Mean Accuracy: 96.04%96.04%"
   ]
  },
  {
   "cell_type": "code",
   "execution_count": 8,
   "id": "e3dce546-6d79-4ec0-a2b5-f91e2b8c9686",
   "metadata": {},
   "outputs": [
    {
     "data": {
      "text/plain": [
       "({'C': 1, 'gamma': 'auto', 'kernel': 'linear'}, 6.654212474822998)"
      ]
     },
     "execution_count": 8,
     "metadata": {},
     "output_type": "execute_result"
    }
   ],
   "source": [
    "# SVM \n",
    "from sklearn.svm import SVC\n",
    "\n",
    "# Define a smaller grid of hyperparameters to tune for SVM\n",
    "paramgridsvm = {\n",
    "    'C': [0.1, 1,],\n",
    "    'kernel': ['linear', 'rbf'],\n",
    "    'gamma': [ 'auto']\n",
    "}\n",
    "\n",
    "# Initialize the SVM model and GridSearchCV\n",
    "svm = SVC(probability=True)\n",
    "grid_search_svm = GridSearchCV(svm, paramgridsvm, scoring='accuracy', cv=5)\n",
    "\n",
    "# Start time\n",
    "start_time_svm = time.time()\n",
    "\n",
    "# Fit the GridSearchCV to the data\n",
    "grid_search_svm.fit(X_train, y_train)\n",
    "\n",
    "# End time\n",
    "end_time_svm = time.time()\n",
    "\n",
    "# Calculate the time taken for hyperparameter tuning\n",
    "time_taken_svm = end_time_svm - start_time_svm\n",
    "\n",
    "# Display the best hyperparameters\n",
    "best_params_svm = grid_search_svm.best_params_\n",
    "best_params_svm, time_taken_svm\n",
    "\n"
   ]
  },
  {
   "cell_type": "code",
   "execution_count": 9,
   "id": "dbac90f0-398b-4c60-8cb8-bda9c0dcf716",
   "metadata": {},
   "outputs": [
    {
     "data": {
      "text/plain": [
       "(0.9683333333333334,\n",
       " 0.9683233742833742,\n",
       " 0.9981987084652785,\n",
       " 0.9729166666666667)"
      ]
     },
     "execution_count": 9,
     "metadata": {},
     "output_type": "execute_result"
    }
   ],
   "source": [
    "# Initialize SVM with best hyperparameters\n",
    "svm_best = SVC(C=1, gamma='scale', kernel='linear', probability=True)\n",
    "\n",
    "# Train the model\n",
    "svm_best.fit(X_train, y_train)\n",
    "\n",
    "# Perform K-Fold Cross Validation\n",
    "cv_scores_svm = cross_val_score(svm_best, X_train, y_train, cv=5, scoring='accuracy')\n",
    "\n",
    "# Predictions on the test set\n",
    "y_pred_svm = svm_best.predict(X_test)\n",
    "\n",
    "# Calculate performance metrics\n",
    "accuracy_svm = accuracy_score(y_test, y_pred_svm)\n",
    "f1_svm = f1_score(y_test, y_pred_svm, average='weighted')\n",
    "\n",
    "# Calculate multi-class ROC-AUC using OvR strategy\n",
    "roc_auc_svm = roc_auc_score(y_test, svm_best.predict_proba(X_test), multi_class='ovr', average='weighted')\n",
    "\n",
    "accuracy_svm, f1_svm, roc_auc_svm, cv_scores_svm.mean()\n"
   ]
  },
  {
   "cell_type": "code",
   "execution_count": null,
   "id": "8309af7b-7694-4349-8416-66360b56abc1",
   "metadata": {},
   "outputs": [],
   "source": [
    "    # Accuracy: 96.83%96.83%\n",
    "    # F1-Score (Weighted): 96.83%96.83%\n",
    "    # ROC-AUC (One-vs-Rest, Weighted): 99.82%99.82%\n",
    "    # K-Fold Cross-Validation Mean Accuracy: 97.29%97.29%"
   ]
  },
  {
   "cell_type": "code",
   "execution_count": null,
   "id": "eaa1ba4c-c37e-4beb-96f0-afb6519b477c",
   "metadata": {},
   "outputs": [],
   "source": [
    "# Decision tree"
   ]
  },
  {
   "cell_type": "code",
   "execution_count": 10,
   "id": "14673f45-a3ca-4ba6-9f2e-f2ee952bc657",
   "metadata": {},
   "outputs": [
    {
     "data": {
      "text/plain": [
       "({'criterion': 'gini',\n",
       "  'max_depth': 5,\n",
       "  'min_samples_leaf': 2,\n",
       "  'min_samples_split': 2},\n",
       " 1.3622345924377441)"
      ]
     },
     "execution_count": 10,
     "metadata": {},
     "output_type": "execute_result"
    }
   ],
   "source": [
    "from sklearn.tree import DecisionTreeClassifier\n",
    "\n",
    "# Define a smaller grid of hyperparameters for Decision Tree\n",
    "param_grid_dt = {\n",
    "    'criterion': ['gini', 'entropy'],\n",
    "    'max_depth': [None, 5, 10, 15],\n",
    "    'min_samples_split': [2, 5, 10],\n",
    "    'min_samples_leaf': [1, 2, 4]\n",
    "}\n",
    "\n",
    "# Initialize the Decision Tree model and GridSearchCV\n",
    "dt = DecisionTreeClassifier()\n",
    "grid_search_dt = GridSearchCV(dt, param_grid_dt, scoring='accuracy', cv=5)\n",
    "\n",
    "# Start time\n",
    "start_time_dt = time.time()\n",
    "\n",
    "# Fit the GridSearchCV to the data\n",
    "grid_search_dt.fit(X_train, y_train)\n",
    "\n",
    "# End time\n",
    "end_time_dt = time.time()\n",
    "\n",
    "# Calculate the time taken for hyperparameter tuning\n",
    "time_taken_dt = end_time_dt - start_time_dt\n",
    "\n",
    "# Display the best hyperparameters\n",
    "best_params_dt = grid_search_dt.best_params_\n",
    "best_params_dt, time_taken_dt\n"
   ]
  },
  {
   "cell_type": "code",
   "execution_count": 11,
   "id": "d60213a7-36db-4f28-a045-0cb101bf7b54",
   "metadata": {},
   "outputs": [
    {
     "data": {
      "text/plain": [
       "(0.9816666666666667,\n",
       " 0.9816419641229245,\n",
       " 0.9920862931853102,\n",
       " 0.9791666666666667)"
      ]
     },
     "execution_count": 11,
     "metadata": {},
     "output_type": "execute_result"
    }
   ],
   "source": [
    "# Initialize Decision Tree with best hyperparameters\n",
    "dt_best = DecisionTreeClassifier(**best_params_dt)\n",
    "\n",
    "# Train the model\n",
    "dt_best.fit(X_train, y_train)\n",
    "\n",
    "# Perform K-Fold Cross Validation\n",
    "cv_scores_dt = cross_val_score(dt_best, X_train, y_train, cv=5, scoring='accuracy')\n",
    "\n",
    "# Predictions on the test set\n",
    "y_pred_dt = dt_best.predict(X_test)\n",
    "\n",
    "# Calculate performance metrics\n",
    "accuracy_dt = accuracy_score(y_test, y_pred_dt)\n",
    "f1_dt = f1_score(y_test, y_pred_dt, average='weighted')\n",
    "\n",
    "# Calculate multi-class ROC-AUC using OvR strategy\n",
    "roc_auc_dt = roc_auc_score(y_test, dt_best.predict_proba(X_test), multi_class='ovr', average='weighted')\n",
    "\n",
    "accuracy_dt, f1_dt, roc_auc_dt, cv_scores_dt.mean()\n"
   ]
  },
  {
   "cell_type": "code",
   "execution_count": null,
   "id": "e6787799-4a2f-45f9-b5f6-ece52e56164e",
   "metadata": {},
   "outputs": [],
   "source": [
    "# The Decision Tree model exhibits outstanding performance on the test data with high values for accuracy, F1-score, and ROC-AUC."
   ]
  },
  {
   "cell_type": "code",
   "execution_count": 12,
   "id": "5ff8f60c-fff0-487e-9aa9-e457e718126e",
   "metadata": {},
   "outputs": [
    {
     "data": {
      "text/html": [
       "<div>\n",
       "<style scoped>\n",
       "    .dataframe tbody tr th:only-of-type {\n",
       "        vertical-align: middle;\n",
       "    }\n",
       "\n",
       "    .dataframe tbody tr th {\n",
       "        vertical-align: top;\n",
       "    }\n",
       "\n",
       "    .dataframe thead th {\n",
       "        text-align: right;\n",
       "    }\n",
       "</style>\n",
       "<table border=\"1\" class=\"dataframe\">\n",
       "  <thead>\n",
       "    <tr style=\"text-align: right;\">\n",
       "      <th></th>\n",
       "      <th>Model</th>\n",
       "      <th>Accuracy</th>\n",
       "      <th>F1-Score (Weighted)</th>\n",
       "      <th>ROC-AUC (One-vs-Rest, Weighted)</th>\n",
       "      <th>K-Fold CV Mean Accuracy</th>\n",
       "      <th>Computation Time (s)</th>\n",
       "    </tr>\n",
       "  </thead>\n",
       "  <tbody>\n",
       "    <tr>\n",
       "      <th>0</th>\n",
       "      <td>Logistic Regression</td>\n",
       "      <td>0.958333</td>\n",
       "      <td>0.958082</td>\n",
       "      <td>0.994874</td>\n",
       "      <td>0.962500</td>\n",
       "      <td>23.001781</td>\n",
       "    </tr>\n",
       "    <tr>\n",
       "      <th>1</th>\n",
       "      <td>SVM</td>\n",
       "      <td>0.968333</td>\n",
       "      <td>0.968323</td>\n",
       "      <td>0.998199</td>\n",
       "      <td>0.972917</td>\n",
       "      <td>6.654212</td>\n",
       "    </tr>\n",
       "    <tr>\n",
       "      <th>2</th>\n",
       "      <td>Decision Tree</td>\n",
       "      <td>0.981667</td>\n",
       "      <td>0.981642</td>\n",
       "      <td>0.992086</td>\n",
       "      <td>0.979167</td>\n",
       "      <td>1.362235</td>\n",
       "    </tr>\n",
       "  </tbody>\n",
       "</table>\n",
       "</div>"
      ],
      "text/plain": [
       "                 Model  Accuracy  F1-Score (Weighted)  \\\n",
       "0  Logistic Regression  0.958333             0.958082   \n",
       "1                  SVM  0.968333             0.968323   \n",
       "2        Decision Tree  0.981667             0.981642   \n",
       "\n",
       "   ROC-AUC (One-vs-Rest, Weighted)  K-Fold CV Mean Accuracy  \\\n",
       "0                         0.994874                 0.962500   \n",
       "1                         0.998199                 0.972917   \n",
       "2                         0.992086                 0.979167   \n",
       "\n",
       "   Computation Time (s)  \n",
       "0             23.001781  \n",
       "1              6.654212  \n",
       "2              1.362235  "
      ]
     },
     "execution_count": 12,
     "metadata": {},
     "output_type": "execute_result"
    }
   ],
   "source": [
    "# Create a summary table\n",
    "summary_data = {\n",
    "    \"Model\": [\"Logistic Regression\", \"SVM\", \"Decision Tree\"],\n",
    "    \"Accuracy\": [accuracy, accuracy_svm, accuracy_dt],\n",
    "    \"F1-Score (Weighted)\": [f1, f1_svm, f1_dt],\n",
    "    \"ROC-AUC (One-vs-Rest, Weighted)\": [roc_auc_multi, roc_auc_svm, roc_auc_dt],\n",
    "    \"K-Fold CV Mean Accuracy\": [cv_scores.mean(), cv_scores_svm.mean(), cv_scores_dt.mean()],\n",
    "    \"Computation Time (s)\": [time_taken, time_taken_svm, time_taken_dt]\n",
    "}\n",
    "\n",
    "summary_df = pd.DataFrame(summary_data)\n",
    "summary_df\n"
   ]
  },
  {
   "cell_type": "code",
   "execution_count": 16,
   "id": "dc2febce-6b5d-4654-accf-2928afec73fb",
   "metadata": {},
   "outputs": [
    {
     "name": "stderr",
     "output_type": "stream",
     "text": [
      "C:\\Users\\Hp\\AppData\\Local\\Temp/ipykernel_38892/3176923013.py:21: UserWarning: Tight layout not applied. The bottom and top margins cannot be made large enough to accommodate all axes decorations. \n",
      "  plt.tight_layout()\n"
     ]
    },
    {
     "ename": "MemoryError",
     "evalue": "",
     "output_type": "error",
     "traceback": [
      "\u001b[1;31m---------------------------------------------------------------------------\u001b[0m",
      "\u001b[1;31mMemoryError\u001b[0m                               Traceback (most recent call last)",
      "\u001b[1;32m~\\anaconda3\\lib\\site-packages\\IPython\\core\\formatters.py\u001b[0m in \u001b[0;36m__call__\u001b[1;34m(self, obj)\u001b[0m\n\u001b[0;32m    339\u001b[0m                 \u001b[1;32mpass\u001b[0m\u001b[1;33m\u001b[0m\u001b[1;33m\u001b[0m\u001b[0m\n\u001b[0;32m    340\u001b[0m             \u001b[1;32melse\u001b[0m\u001b[1;33m:\u001b[0m\u001b[1;33m\u001b[0m\u001b[1;33m\u001b[0m\u001b[0m\n\u001b[1;32m--> 341\u001b[1;33m                 \u001b[1;32mreturn\u001b[0m \u001b[0mprinter\u001b[0m\u001b[1;33m(\u001b[0m\u001b[0mobj\u001b[0m\u001b[1;33m)\u001b[0m\u001b[1;33m\u001b[0m\u001b[1;33m\u001b[0m\u001b[0m\n\u001b[0m\u001b[0;32m    342\u001b[0m             \u001b[1;31m# Finally look for special method names\u001b[0m\u001b[1;33m\u001b[0m\u001b[1;33m\u001b[0m\u001b[0m\n\u001b[0;32m    343\u001b[0m             \u001b[0mmethod\u001b[0m \u001b[1;33m=\u001b[0m \u001b[0mget_real_method\u001b[0m\u001b[1;33m(\u001b[0m\u001b[0mobj\u001b[0m\u001b[1;33m,\u001b[0m \u001b[0mself\u001b[0m\u001b[1;33m.\u001b[0m\u001b[0mprint_method\u001b[0m\u001b[1;33m)\u001b[0m\u001b[1;33m\u001b[0m\u001b[1;33m\u001b[0m\u001b[0m\n",
      "\u001b[1;32m~\\anaconda3\\lib\\site-packages\\IPython\\core\\pylabtools.py\u001b[0m in \u001b[0;36mprint_figure\u001b[1;34m(fig, fmt, bbox_inches, base64, **kwargs)\u001b[0m\n\u001b[0;32m    149\u001b[0m         \u001b[0mFigureCanvasBase\u001b[0m\u001b[1;33m(\u001b[0m\u001b[0mfig\u001b[0m\u001b[1;33m)\u001b[0m\u001b[1;33m\u001b[0m\u001b[1;33m\u001b[0m\u001b[0m\n\u001b[0;32m    150\u001b[0m \u001b[1;33m\u001b[0m\u001b[0m\n\u001b[1;32m--> 151\u001b[1;33m     \u001b[0mfig\u001b[0m\u001b[1;33m.\u001b[0m\u001b[0mcanvas\u001b[0m\u001b[1;33m.\u001b[0m\u001b[0mprint_figure\u001b[0m\u001b[1;33m(\u001b[0m\u001b[0mbytes_io\u001b[0m\u001b[1;33m,\u001b[0m \u001b[1;33m**\u001b[0m\u001b[0mkw\u001b[0m\u001b[1;33m)\u001b[0m\u001b[1;33m\u001b[0m\u001b[1;33m\u001b[0m\u001b[0m\n\u001b[0m\u001b[0;32m    152\u001b[0m     \u001b[0mdata\u001b[0m \u001b[1;33m=\u001b[0m \u001b[0mbytes_io\u001b[0m\u001b[1;33m.\u001b[0m\u001b[0mgetvalue\u001b[0m\u001b[1;33m(\u001b[0m\u001b[1;33m)\u001b[0m\u001b[1;33m\u001b[0m\u001b[1;33m\u001b[0m\u001b[0m\n\u001b[0;32m    153\u001b[0m     \u001b[1;32mif\u001b[0m \u001b[0mfmt\u001b[0m \u001b[1;33m==\u001b[0m \u001b[1;34m'svg'\u001b[0m\u001b[1;33m:\u001b[0m\u001b[1;33m\u001b[0m\u001b[1;33m\u001b[0m\u001b[0m\n",
      "\u001b[1;32m~\\anaconda3\\lib\\site-packages\\matplotlib\\backend_bases.py\u001b[0m in \u001b[0;36mprint_figure\u001b[1;34m(self, filename, dpi, facecolor, edgecolor, orientation, format, bbox_inches, pad_inches, bbox_extra_artists, backend, **kwargs)\u001b[0m\n\u001b[0;32m   2253\u001b[0m                 \u001b[1;31m# force the figure dpi to 72), so we need to set it again here.\u001b[0m\u001b[1;33m\u001b[0m\u001b[1;33m\u001b[0m\u001b[0m\n\u001b[0;32m   2254\u001b[0m                 \u001b[1;32mwith\u001b[0m \u001b[0mcbook\u001b[0m\u001b[1;33m.\u001b[0m\u001b[0m_setattr_cm\u001b[0m\u001b[1;33m(\u001b[0m\u001b[0mself\u001b[0m\u001b[1;33m.\u001b[0m\u001b[0mfigure\u001b[0m\u001b[1;33m,\u001b[0m \u001b[0mdpi\u001b[0m\u001b[1;33m=\u001b[0m\u001b[0mdpi\u001b[0m\u001b[1;33m)\u001b[0m\u001b[1;33m:\u001b[0m\u001b[1;33m\u001b[0m\u001b[1;33m\u001b[0m\u001b[0m\n\u001b[1;32m-> 2255\u001b[1;33m                     result = print_method(\n\u001b[0m\u001b[0;32m   2256\u001b[0m                         \u001b[0mfilename\u001b[0m\u001b[1;33m,\u001b[0m\u001b[1;33m\u001b[0m\u001b[1;33m\u001b[0m\u001b[0m\n\u001b[0;32m   2257\u001b[0m                         \u001b[0mfacecolor\u001b[0m\u001b[1;33m=\u001b[0m\u001b[0mfacecolor\u001b[0m\u001b[1;33m,\u001b[0m\u001b[1;33m\u001b[0m\u001b[1;33m\u001b[0m\u001b[0m\n",
      "\u001b[1;32m~\\anaconda3\\lib\\site-packages\\matplotlib\\backend_bases.py\u001b[0m in \u001b[0;36mwrapper\u001b[1;34m(*args, **kwargs)\u001b[0m\n\u001b[0;32m   1667\u001b[0m             \u001b[0mkwargs\u001b[0m\u001b[1;33m.\u001b[0m\u001b[0mpop\u001b[0m\u001b[1;33m(\u001b[0m\u001b[0marg\u001b[0m\u001b[1;33m)\u001b[0m\u001b[1;33m\u001b[0m\u001b[1;33m\u001b[0m\u001b[0m\n\u001b[0;32m   1668\u001b[0m \u001b[1;33m\u001b[0m\u001b[0m\n\u001b[1;32m-> 1669\u001b[1;33m         \u001b[1;32mreturn\u001b[0m \u001b[0mfunc\u001b[0m\u001b[1;33m(\u001b[0m\u001b[1;33m*\u001b[0m\u001b[0margs\u001b[0m\u001b[1;33m,\u001b[0m \u001b[1;33m**\u001b[0m\u001b[0mkwargs\u001b[0m\u001b[1;33m)\u001b[0m\u001b[1;33m\u001b[0m\u001b[1;33m\u001b[0m\u001b[0m\n\u001b[0m\u001b[0;32m   1670\u001b[0m \u001b[1;33m\u001b[0m\u001b[0m\n\u001b[0;32m   1671\u001b[0m     \u001b[1;32mreturn\u001b[0m \u001b[0mwrapper\u001b[0m\u001b[1;33m\u001b[0m\u001b[1;33m\u001b[0m\u001b[0m\n",
      "\u001b[1;32m~\\anaconda3\\lib\\site-packages\\matplotlib\\backends\\backend_agg.py\u001b[0m in \u001b[0;36mprint_png\u001b[1;34m(self, filename_or_obj, metadata, pil_kwargs, *args)\u001b[0m\n\u001b[0;32m    507\u001b[0m         \"\"\"\n\u001b[0;32m    508\u001b[0m         \u001b[0mFigureCanvasAgg\u001b[0m\u001b[1;33m.\u001b[0m\u001b[0mdraw\u001b[0m\u001b[1;33m(\u001b[0m\u001b[0mself\u001b[0m\u001b[1;33m)\u001b[0m\u001b[1;33m\u001b[0m\u001b[1;33m\u001b[0m\u001b[0m\n\u001b[1;32m--> 509\u001b[1;33m         mpl.image.imsave(\n\u001b[0m\u001b[0;32m    510\u001b[0m             \u001b[0mfilename_or_obj\u001b[0m\u001b[1;33m,\u001b[0m \u001b[0mself\u001b[0m\u001b[1;33m.\u001b[0m\u001b[0mbuffer_rgba\u001b[0m\u001b[1;33m(\u001b[0m\u001b[1;33m)\u001b[0m\u001b[1;33m,\u001b[0m \u001b[0mformat\u001b[0m\u001b[1;33m=\u001b[0m\u001b[1;34m\"png\"\u001b[0m\u001b[1;33m,\u001b[0m \u001b[0morigin\u001b[0m\u001b[1;33m=\u001b[0m\u001b[1;34m\"upper\"\u001b[0m\u001b[1;33m,\u001b[0m\u001b[1;33m\u001b[0m\u001b[1;33m\u001b[0m\u001b[0m\n\u001b[0;32m    511\u001b[0m             dpi=self.figure.dpi, metadata=metadata, pil_kwargs=pil_kwargs)\n",
      "\u001b[1;32m~\\anaconda3\\lib\\site-packages\\matplotlib\\image.py\u001b[0m in \u001b[0;36mimsave\u001b[1;34m(fname, arr, vmin, vmax, cmap, format, origin, dpi, metadata, pil_kwargs)\u001b[0m\n\u001b[0;32m   1614\u001b[0m         \u001b[0mpil_kwargs\u001b[0m\u001b[1;33m.\u001b[0m\u001b[0msetdefault\u001b[0m\u001b[1;33m(\u001b[0m\u001b[1;34m\"format\"\u001b[0m\u001b[1;33m,\u001b[0m \u001b[0mformat\u001b[0m\u001b[1;33m)\u001b[0m\u001b[1;33m\u001b[0m\u001b[1;33m\u001b[0m\u001b[0m\n\u001b[0;32m   1615\u001b[0m         \u001b[0mpil_kwargs\u001b[0m\u001b[1;33m.\u001b[0m\u001b[0msetdefault\u001b[0m\u001b[1;33m(\u001b[0m\u001b[1;34m\"dpi\"\u001b[0m\u001b[1;33m,\u001b[0m \u001b[1;33m(\u001b[0m\u001b[0mdpi\u001b[0m\u001b[1;33m,\u001b[0m \u001b[0mdpi\u001b[0m\u001b[1;33m)\u001b[0m\u001b[1;33m)\u001b[0m\u001b[1;33m\u001b[0m\u001b[1;33m\u001b[0m\u001b[0m\n\u001b[1;32m-> 1616\u001b[1;33m         \u001b[0mimage\u001b[0m\u001b[1;33m.\u001b[0m\u001b[0msave\u001b[0m\u001b[1;33m(\u001b[0m\u001b[0mfname\u001b[0m\u001b[1;33m,\u001b[0m \u001b[1;33m**\u001b[0m\u001b[0mpil_kwargs\u001b[0m\u001b[1;33m)\u001b[0m\u001b[1;33m\u001b[0m\u001b[1;33m\u001b[0m\u001b[0m\n\u001b[0m\u001b[0;32m   1617\u001b[0m \u001b[1;33m\u001b[0m\u001b[0m\n\u001b[0;32m   1618\u001b[0m \u001b[1;33m\u001b[0m\u001b[0m\n",
      "\u001b[1;32m~\\anaconda3\\lib\\site-packages\\PIL\\Image.py\u001b[0m in \u001b[0;36msave\u001b[1;34m(self, fp, format, **params)\u001b[0m\n\u001b[0;32m   2204\u001b[0m \u001b[1;33m\u001b[0m\u001b[0m\n\u001b[0;32m   2205\u001b[0m         \u001b[1;31m# may mutate self!\u001b[0m\u001b[1;33m\u001b[0m\u001b[1;33m\u001b[0m\u001b[0m\n\u001b[1;32m-> 2206\u001b[1;33m         \u001b[0mself\u001b[0m\u001b[1;33m.\u001b[0m\u001b[0m_ensure_mutable\u001b[0m\u001b[1;33m(\u001b[0m\u001b[1;33m)\u001b[0m\u001b[1;33m\u001b[0m\u001b[1;33m\u001b[0m\u001b[0m\n\u001b[0m\u001b[0;32m   2207\u001b[0m \u001b[1;33m\u001b[0m\u001b[0m\n\u001b[0;32m   2208\u001b[0m         \u001b[0msave_all\u001b[0m \u001b[1;33m=\u001b[0m \u001b[0mparams\u001b[0m\u001b[1;33m.\u001b[0m\u001b[0mpop\u001b[0m\u001b[1;33m(\u001b[0m\u001b[1;34m\"save_all\"\u001b[0m\u001b[1;33m,\u001b[0m \u001b[1;32mFalse\u001b[0m\u001b[1;33m)\u001b[0m\u001b[1;33m\u001b[0m\u001b[1;33m\u001b[0m\u001b[0m\n",
      "\u001b[1;32m~\\anaconda3\\lib\\site-packages\\PIL\\Image.py\u001b[0m in \u001b[0;36m_ensure_mutable\u001b[1;34m(self)\u001b[0m\n\u001b[0;32m    622\u001b[0m     \u001b[1;32mdef\u001b[0m \u001b[0m_ensure_mutable\u001b[0m\u001b[1;33m(\u001b[0m\u001b[0mself\u001b[0m\u001b[1;33m)\u001b[0m\u001b[1;33m:\u001b[0m\u001b[1;33m\u001b[0m\u001b[1;33m\u001b[0m\u001b[0m\n\u001b[0;32m    623\u001b[0m         \u001b[1;32mif\u001b[0m \u001b[0mself\u001b[0m\u001b[1;33m.\u001b[0m\u001b[0mreadonly\u001b[0m\u001b[1;33m:\u001b[0m\u001b[1;33m\u001b[0m\u001b[1;33m\u001b[0m\u001b[0m\n\u001b[1;32m--> 624\u001b[1;33m             \u001b[0mself\u001b[0m\u001b[1;33m.\u001b[0m\u001b[0m_copy\u001b[0m\u001b[1;33m(\u001b[0m\u001b[1;33m)\u001b[0m\u001b[1;33m\u001b[0m\u001b[1;33m\u001b[0m\u001b[0m\n\u001b[0m\u001b[0;32m    625\u001b[0m         \u001b[1;32melse\u001b[0m\u001b[1;33m:\u001b[0m\u001b[1;33m\u001b[0m\u001b[1;33m\u001b[0m\u001b[0m\n\u001b[0;32m    626\u001b[0m             \u001b[0mself\u001b[0m\u001b[1;33m.\u001b[0m\u001b[0mload\u001b[0m\u001b[1;33m(\u001b[0m\u001b[1;33m)\u001b[0m\u001b[1;33m\u001b[0m\u001b[1;33m\u001b[0m\u001b[0m\n",
      "\u001b[1;32m~\\anaconda3\\lib\\site-packages\\PIL\\Image.py\u001b[0m in \u001b[0;36m_copy\u001b[1;34m(self)\u001b[0m\n\u001b[0;32m    616\u001b[0m     \u001b[1;32mdef\u001b[0m \u001b[0m_copy\u001b[0m\u001b[1;33m(\u001b[0m\u001b[0mself\u001b[0m\u001b[1;33m)\u001b[0m\u001b[1;33m:\u001b[0m\u001b[1;33m\u001b[0m\u001b[1;33m\u001b[0m\u001b[0m\n\u001b[0;32m    617\u001b[0m         \u001b[0mself\u001b[0m\u001b[1;33m.\u001b[0m\u001b[0mload\u001b[0m\u001b[1;33m(\u001b[0m\u001b[1;33m)\u001b[0m\u001b[1;33m\u001b[0m\u001b[1;33m\u001b[0m\u001b[0m\n\u001b[1;32m--> 618\u001b[1;33m         \u001b[0mself\u001b[0m\u001b[1;33m.\u001b[0m\u001b[0mim\u001b[0m \u001b[1;33m=\u001b[0m \u001b[0mself\u001b[0m\u001b[1;33m.\u001b[0m\u001b[0mim\u001b[0m\u001b[1;33m.\u001b[0m\u001b[0mcopy\u001b[0m\u001b[1;33m(\u001b[0m\u001b[1;33m)\u001b[0m\u001b[1;33m\u001b[0m\u001b[1;33m\u001b[0m\u001b[0m\n\u001b[0m\u001b[0;32m    619\u001b[0m         \u001b[0mself\u001b[0m\u001b[1;33m.\u001b[0m\u001b[0mpyaccess\u001b[0m \u001b[1;33m=\u001b[0m \u001b[1;32mNone\u001b[0m\u001b[1;33m\u001b[0m\u001b[1;33m\u001b[0m\u001b[0m\n\u001b[0;32m    620\u001b[0m         \u001b[0mself\u001b[0m\u001b[1;33m.\u001b[0m\u001b[0mreadonly\u001b[0m \u001b[1;33m=\u001b[0m \u001b[1;36m0\u001b[0m\u001b[1;33m\u001b[0m\u001b[1;33m\u001b[0m\u001b[0m\n",
      "\u001b[1;31mMemoryError\u001b[0m: "
     ]
    },
    {
     "data": {
      "text/plain": [
       "<Figure size 1080x720 with 4 Axes>"
      ]
     },
     "metadata": {
      "needs_background": "light"
     },
     "output_type": "display_data"
    }
   ],
   "source": [
    "import matplotlib.pyplot as plt\n",
    "\n",
    "# Setting up the figure and axes\n",
    "fig, axs = plt.subplots(nrows=2, ncols=2, figsize=(15, 10))\n",
    "\n",
    "# Plotting Accuracy, F1-Score, ROC-AUC, and Computation Time\n",
    "metrics = ['Accuracy', 'F1-Score (Weighted)', 'ROC-AUC (One-vs-Rest, Weighted)', 'K-Fold CV Mean Accuracy']\n",
    "for i, metric in enumerate(metrics):\n",
    "    axs[i//2, i%2].bar(summary_df[\"Model\"], summary_df[metric], color=['blue', 'green', 'red'])\n",
    "    axs[i//2, i%2].set_title(metric)\n",
    "    axs[i//2, i%2].set_ylim(0.9, 1.05)\n",
    "    for index, value in enumerate(summary_df[metric]):\n",
    "        axs[i//2, i%2].text(index, value - 0.05, f\"{value:.2%}\", ha='center', va='bottom', color='white', fontsize=10)\n",
    "\n",
    "# Plotting Computation Time\n",
    "axs[1, 1].bar(summary_df[\"Model\"], summary_df[\"Computation Time (s)\"], color=['blue', 'green', 'red'])\n",
    "axs[1, 1].set_title(\"Computation Time (s)\")\n",
    "for index, value in enumerate(summary_df[\"Computation Time (s)\"]):\n",
    "    axs[1, 1].text(index, value - 3, f\"{value:.2f}s\", ha='center', va='bottom', color='white', fontsize=10)\n",
    "\n",
    "plt.tight_layout()\n",
    "plt.show()\n"
   ]
  },
  {
   "cell_type": "code",
   "execution_count": 17,
   "id": "badae7cd-876c-4f59-b4b6-f90239e77904",
   "metadata": {},
   "outputs": [
    {
     "ename": "IndexError",
     "evalue": "index 3 is out of bounds for axis 0 with size 3",
     "output_type": "error",
     "traceback": [
      "\u001b[1;31m---------------------------------------------------------------------------\u001b[0m",
      "\u001b[1;31mIndexError\u001b[0m                                Traceback (most recent call last)",
      "\u001b[1;32m~\\AppData\\Local\\Temp/ipykernel_38892/4280366400.py\u001b[0m in \u001b[0;36m<module>\u001b[1;34m\u001b[0m\n\u001b[0;32m      4\u001b[0m \u001b[1;31m# Plotting Accuracy, F1-Score, ROC-AUC, and Computation Time\u001b[0m\u001b[1;33m\u001b[0m\u001b[1;33m\u001b[0m\u001b[0m\n\u001b[0;32m      5\u001b[0m \u001b[1;32mfor\u001b[0m \u001b[0mi\u001b[0m\u001b[1;33m,\u001b[0m \u001b[0mmetric\u001b[0m \u001b[1;32min\u001b[0m \u001b[0menumerate\u001b[0m\u001b[1;33m(\u001b[0m\u001b[0mmetrics\u001b[0m\u001b[1;33m)\u001b[0m\u001b[1;33m:\u001b[0m\u001b[1;33m\u001b[0m\u001b[1;33m\u001b[0m\u001b[0m\n\u001b[1;32m----> 6\u001b[1;33m     \u001b[0maxs\u001b[0m\u001b[1;33m[\u001b[0m\u001b[0mi\u001b[0m\u001b[1;33m,\u001b[0m \u001b[1;36m0\u001b[0m\u001b[1;33m]\u001b[0m\u001b[1;33m.\u001b[0m\u001b[0mbar\u001b[0m\u001b[1;33m(\u001b[0m\u001b[0msummary_df\u001b[0m\u001b[1;33m[\u001b[0m\u001b[1;34m\"Model\"\u001b[0m\u001b[1;33m]\u001b[0m\u001b[1;33m,\u001b[0m \u001b[0msummary_df\u001b[0m\u001b[1;33m[\u001b[0m\u001b[0mmetric\u001b[0m\u001b[1;33m]\u001b[0m\u001b[1;33m,\u001b[0m \u001b[0mcolor\u001b[0m\u001b[1;33m=\u001b[0m\u001b[1;33m[\u001b[0m\u001b[1;34m'blue'\u001b[0m\u001b[1;33m,\u001b[0m \u001b[1;34m'green'\u001b[0m\u001b[1;33m,\u001b[0m \u001b[1;34m'red'\u001b[0m\u001b[1;33m]\u001b[0m\u001b[1;33m)\u001b[0m\u001b[1;33m\u001b[0m\u001b[1;33m\u001b[0m\u001b[0m\n\u001b[0m\u001b[0;32m      7\u001b[0m     \u001b[0maxs\u001b[0m\u001b[1;33m[\u001b[0m\u001b[0mi\u001b[0m\u001b[1;33m,\u001b[0m \u001b[1;36m0\u001b[0m\u001b[1;33m]\u001b[0m\u001b[1;33m.\u001b[0m\u001b[0mset_title\u001b[0m\u001b[1;33m(\u001b[0m\u001b[0mmetric\u001b[0m\u001b[1;33m)\u001b[0m\u001b[1;33m\u001b[0m\u001b[1;33m\u001b[0m\u001b[0m\n\u001b[0;32m      8\u001b[0m     \u001b[0maxs\u001b[0m\u001b[1;33m[\u001b[0m\u001b[0mi\u001b[0m\u001b[1;33m,\u001b[0m \u001b[1;36m0\u001b[0m\u001b[1;33m]\u001b[0m\u001b[1;33m.\u001b[0m\u001b[0mset_ylim\u001b[0m\u001b[1;33m(\u001b[0m\u001b[1;36m0.9\u001b[0m\u001b[1;33m,\u001b[0m \u001b[1;36m1.05\u001b[0m\u001b[1;33m)\u001b[0m\u001b[1;33m\u001b[0m\u001b[1;33m\u001b[0m\u001b[0m\n",
      "\u001b[1;31mIndexError\u001b[0m: index 3 is out of bounds for axis 0 with size 3"
     ]
    },
    {
     "data": {
      "image/png": "[encoded data removed]",
      "text/plain": [
       "<Figure size 1080x1080 with 6 Axes>"
      ]
     },
     "metadata": {
      "needs_background": "light"
     },
     "output_type": "display_data"
    }
   ],
   "source": [
    "# Adjusting the figure size and layout for better visualization\n",
    "fig, axs = plt.subplots(nrows=3, ncols=2, figsize=(15, 15))\n",
    "\n",
    "# Plotting Accuracy, F1-Score, ROC-AUC, and Computation Time\n",
    "for i, metric in enumerate(metrics):\n",
    "    axs[i, 0].bar(summary_df[\"Model\"], summary_df[metric], color=['blue', 'green', 'red'])\n",
    "    axs[i, 0].set_title(metric)\n",
    "    axs[i, 0].set_ylim(0.9, 1.05)\n",
    "    for index, value in enumerate(summary_df[metric]):\n",
    "        axs[i, 0].text(index, value - 0.05, f\"{value:.2%}\", ha='center', va='bottom', color='white', fontsize=10)\n",
    "\n",
    "# Plotting Computation Time\n",
    "axs[0, 1].bar(summary_df[\"Model\"], summary_df[\"Computation Time (s)\"], color=['blue', 'green', 'red'])\n",
    "axs[0, 1].set_title(\"Computation Time (s)\")\n",
    "for index, value in enumerate(summary_df[\"Computation Time (s)\"]):\n",
    "    axs[0, 1].text(index, value - 3, f\"{value:.2f}s\", ha='center', va='bottom', color='white', fontsize=10)\n",
    "\n",
    "# Remove unused subplots\n",
    "axs[1, 1].axis('off')\n",
    "axs[2, 1].axis('off')\n",
    "\n",
    "plt.tight_layout()\n",
    "plt.show()\n"
   ]
  },
  {
   "cell_type": "code",
   "execution_count": 18,
   "id": "49be6013-550f-4b33-b380-d5c9cafcd540",
   "metadata": {},
   "outputs": [
    {
     "data": {
      "image/png": "[encoded data removed]",
      "text/plain": [
       "<Figure size 720x1440 with 5 Axes>"
      ]
     },
     "metadata": {
      "needs_background": "light"
     },
     "output_type": "display_data"
    }
   ],
   "source": [
    "# Reformatting the data in percentages for the metrics\n",
    "summary_df['Accuracy'] = summary_df['Accuracy'] * 100\n",
    "summary_df['F1-Score (Weighted)'] = summary_df['F1-Score (Weighted)'] * 100\n",
    "summary_df['ROC-AUC (One-vs-Rest, Weighted)'] = summary_df['ROC-AUC (One-vs-Rest, Weighted)'] * 100\n",
    "summary_df['K-Fold CV Mean Accuracy'] = summary_df['K-Fold CV Mean Accuracy'] * 100\n",
    "\n",
    "# Plotting bar charts for each metric\n",
    "fig, axs = plt.subplots(nrows=5, figsize=(10, 20))\n",
    "\n",
    "# List of metrics for plotting\n",
    "metrics_to_plot = ['Accuracy', 'F1-Score (Weighted)', 'ROC-AUC (One-vs-Rest, Weighted)', 'K-Fold CV Mean Accuracy', 'Computation Time (s)']\n",
    "\n",
    "for i, metric in enumerate(metrics_to_plot):\n",
    "    axs[i].bar(summary_df[\"Model\"], summary_df[metric], color=['blue', 'green', 'red'])\n",
    "    axs[i].set_title(metric)\n",
    "    axs[i].set_ylim(0, 100)  # Setting scale from 0 to 100\n",
    "    for index, value in enumerate(summary_df[metric]):\n",
    "        if metric != \"Computation Time (s)\":\n",
    "            axs[i].text(index, value - 5, f\"{value:.2f}%\", ha='center', va='bottom', color='white', fontsize=10)\n",
    "        else:\n",
    "            axs[i].text(index, value - 5, f\"{value:.2f}s\", ha='center', va='bottom', color='white', fontsize=10)\n",
    "\n",
    "plt.tight_layout()\n",
    "plt.show()\n"
   ]
  },
  {
   "cell_type": "code",
   "execution_count": null,
   "id": "c14dd8ff-38cb-4d2e-ab29-4f1d3913f476",
   "metadata": {},
   "outputs": [],
   "source": []
  }
 ],
 "metadata": {
  "kernelspec": {
   "display_name": "Python 3 (ipykernel)",
   "language": "python",
   "name": "python3"
  },
  "language_info": {
   "codemirror_mode": {
    "name": "ipython",
    "version": 3
   },
   "file_extension": ".py",
   "mimetype": "text/x-python",
   "name": "python",
   "nbconvert_exporter": "python",
   "pygments_lexer": "ipython3",
   "version": "3.9.7"
  }
 },
 "nbformat": 4,
 "nbformat_minor": 5
}
