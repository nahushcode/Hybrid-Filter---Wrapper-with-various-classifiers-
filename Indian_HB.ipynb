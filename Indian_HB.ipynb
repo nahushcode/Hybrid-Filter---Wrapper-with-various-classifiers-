{
 "cells": [
  {
   "cell_type": "code",
   "execution_count": 1,
   "id": "59b052c0-bbbf-44b2-b2f8-03077c80e196",
   "metadata": {},
   "outputs": [
    {
     "data": {
      "text/html": [
       "<div>\n",
       "<style scoped>\n",
       "    .dataframe tbody tr th:only-of-type {\n",
       "        vertical-align: middle;\n",
       "    }\n",
       "\n",
       "    .dataframe tbody tr th {\n",
       "        vertical-align: top;\n",
       "    }\n",
       "\n",
       "    .dataframe thead th {\n",
       "        text-align: right;\n",
       "    }\n",
       "</style>\n",
       "<table border=\"1\" class=\"dataframe\">\n",
       "  <thead>\n",
       "    <tr style=\"text-align: right;\">\n",
       "      <th></th>\n",
       "      <th>Pregnancies</th>\n",
       "      <th>Glucose</th>\n",
       "      <th>BloodPressure</th>\n",
       "      <th>SkinThickness</th>\n",
       "      <th>Insulin</th>\n",
       "      <th>BMI</th>\n",
       "      <th>DiabetesPedigreeFunction</th>\n",
       "      <th>Age</th>\n",
       "      <th>Outcome</th>\n",
       "    </tr>\n",
       "  </thead>\n",
       "  <tbody>\n",
       "    <tr>\n",
       "      <th>0</th>\n",
       "      <td>6</td>\n",
       "      <td>148.0</td>\n",
       "      <td>72.0</td>\n",
       "      <td>35.0</td>\n",
       "      <td>125.0</td>\n",
       "      <td>33.6</td>\n",
       "      <td>0.627</td>\n",
       "      <td>50</td>\n",
       "      <td>1</td>\n",
       "    </tr>\n",
       "    <tr>\n",
       "      <th>1</th>\n",
       "      <td>1</td>\n",
       "      <td>85.0</td>\n",
       "      <td>66.0</td>\n",
       "      <td>29.0</td>\n",
       "      <td>125.0</td>\n",
       "      <td>26.6</td>\n",
       "      <td>0.351</td>\n",
       "      <td>31</td>\n",
       "      <td>0</td>\n",
       "    </tr>\n",
       "    <tr>\n",
       "      <th>2</th>\n",
       "      <td>8</td>\n",
       "      <td>183.0</td>\n",
       "      <td>64.0</td>\n",
       "      <td>29.0</td>\n",
       "      <td>125.0</td>\n",
       "      <td>23.3</td>\n",
       "      <td>0.672</td>\n",
       "      <td>32</td>\n",
       "      <td>1</td>\n",
       "    </tr>\n",
       "    <tr>\n",
       "      <th>3</th>\n",
       "      <td>1</td>\n",
       "      <td>89.0</td>\n",
       "      <td>66.0</td>\n",
       "      <td>23.0</td>\n",
       "      <td>94.0</td>\n",
       "      <td>28.1</td>\n",
       "      <td>0.167</td>\n",
       "      <td>21</td>\n",
       "      <td>0</td>\n",
       "    </tr>\n",
       "    <tr>\n",
       "      <th>4</th>\n",
       "      <td>0</td>\n",
       "      <td>137.0</td>\n",
       "      <td>40.0</td>\n",
       "      <td>35.0</td>\n",
       "      <td>168.0</td>\n",
       "      <td>43.1</td>\n",
       "      <td>2.288</td>\n",
       "      <td>33</td>\n",
       "      <td>1</td>\n",
       "    </tr>\n",
       "  </tbody>\n",
       "</table>\n",
       "</div>"
      ],
      "text/plain": [
       "   Pregnancies  Glucose  BloodPressure  SkinThickness  Insulin   BMI  \\\n",
       "0            6    148.0           72.0           35.0    125.0  33.6   \n",
       "1            1     85.0           66.0           29.0    125.0  26.6   \n",
       "2            8    183.0           64.0           29.0    125.0  23.3   \n",
       "3            1     89.0           66.0           23.0     94.0  28.1   \n",
       "4            0    137.0           40.0           35.0    168.0  43.1   \n",
       "\n",
       "   DiabetesPedigreeFunction  Age  Outcome  \n",
       "0                     0.627   50        1  \n",
       "1                     0.351   31        0  \n",
       "2                     0.672   32        1  \n",
       "3                     0.167   21        0  \n",
       "4                     2.288   33        1  "
      ]
     },
     "execution_count": 1,
     "metadata": {},
     "output_type": "execute_result"
    }
   ],
   "source": [
    "import pandas as pd\n",
    "\n",
    "# Load the data\n",
    "df = pd.read_csv('cleaned_Indian_diab.csv')\n",
    "df.head()\n"
   ]
  },
  {
   "cell_type": "code",
   "execution_count": 2,
   "id": "c79d2e6f-cdcd-426c-bce6-5f17a6b98cdf",
   "metadata": {},
   "outputs": [
    {
     "data": {
      "text/plain": [
       "Outcome                     1.000000\n",
       "Glucose                     0.492782\n",
       "BMI                         0.312038\n",
       "Age                         0.238356\n",
       "Pregnancies                 0.221898\n",
       "SkinThickness               0.214873\n",
       "Insulin                     0.203790\n",
       "DiabetesPedigreeFunction    0.173844\n",
       "BloodPressure               0.165723\n",
       "Name: Outcome, dtype: float64"
      ]
     },
     "execution_count": 2,
     "metadata": {},
     "output_type": "execute_result"
    }
   ],
   "source": [
    "# Compute the Pearson correlation between each feature and the target variable\n",
    "\n",
    "correlation = data.corr()['Outcome'].sort_values(ascending=False)\n",
    "data = df.copy()\n",
    "correlation\n"
   ]
  },
  {
   "cell_type": "code",
   "execution_count": 3,
   "id": "aee0330a-ea34-4c0f-a017-d5134bc64d8b",
   "metadata": {},
   "outputs": [
    {
     "data": {
      "text/html": [
       "<div>\n",
       "<style scoped>\n",
       "    .dataframe tbody tr th:only-of-type {\n",
       "        vertical-align: middle;\n",
       "    }\n",
       "\n",
       "    .dataframe tbody tr th {\n",
       "        vertical-align: top;\n",
       "    }\n",
       "\n",
       "    .dataframe thead th {\n",
       "        text-align: right;\n",
       "    }\n",
       "</style>\n",
       "<table border=\"1\" class=\"dataframe\">\n",
       "  <thead>\n",
       "    <tr style=\"text-align: right;\">\n",
       "      <th></th>\n",
       "      <th>Feature</th>\n",
       "      <th>Rank</th>\n",
       "    </tr>\n",
       "  </thead>\n",
       "  <tbody>\n",
       "    <tr>\n",
       "      <th>1</th>\n",
       "      <td>Glucose</td>\n",
       "      <td>1</td>\n",
       "    </tr>\n",
       "    <tr>\n",
       "      <th>5</th>\n",
       "      <td>BMI</td>\n",
       "      <td>2</td>\n",
       "    </tr>\n",
       "    <tr>\n",
       "      <th>6</th>\n",
       "      <td>DiabetesPedigreeFunction</td>\n",
       "      <td>3</td>\n",
       "    </tr>\n",
       "    <tr>\n",
       "      <th>7</th>\n",
       "      <td>Age</td>\n",
       "      <td>4</td>\n",
       "    </tr>\n",
       "    <tr>\n",
       "      <th>4</th>\n",
       "      <td>Insulin</td>\n",
       "      <td>5</td>\n",
       "    </tr>\n",
       "    <tr>\n",
       "      <th>2</th>\n",
       "      <td>BloodPressure</td>\n",
       "      <td>6</td>\n",
       "    </tr>\n",
       "    <tr>\n",
       "      <th>0</th>\n",
       "      <td>Pregnancies</td>\n",
       "      <td>7</td>\n",
       "    </tr>\n",
       "    <tr>\n",
       "      <th>3</th>\n",
       "      <td>SkinThickness</td>\n",
       "      <td>8</td>\n",
       "    </tr>\n",
       "  </tbody>\n",
       "</table>\n",
       "</div>"
      ],
      "text/plain": [
       "                    Feature  Rank\n",
       "1                   Glucose     1\n",
       "5                       BMI     2\n",
       "6  DiabetesPedigreeFunction     3\n",
       "7                       Age     4\n",
       "4                   Insulin     5\n",
       "2             BloodPressure     6\n",
       "0               Pregnancies     7\n",
       "3             SkinThickness     8"
      ]
     },
     "execution_count": 3,
     "metadata": {},
     "output_type": "execute_result"
    }
   ],
   "source": [
    "from sklearn.feature_selection import RFE\n",
    "from sklearn.ensemble import RandomForestClassifier\n",
    "\n",
    "# Define the features and target variable\n",
    "X = data.drop('Outcome', axis=1)\n",
    "y = data['Outcome']\n",
    "\n",
    "# Initialize the Random Forest classifier\n",
    "rf = RandomForestClassifier(n_estimators=100, random_state=42)\n",
    "\n",
    "# Use RFE to rank the features\n",
    "selector = RFE(rf, n_features_to_select=1, step=1)\n",
    "selector = selector.fit(X, y)\n",
    "\n",
    "# Create a dataframe to display feature rankings\n",
    "feature_ranking = pd.DataFrame({\n",
    "    'Feature': X.columns,\n",
    "    'Rank': selector.ranking_\n",
    "}).sort_values(by='Rank')\n",
    "\n",
    "feature_ranking\n"
   ]
  },
  {
   "cell_type": "code",
   "execution_count": null,
   "id": "c4e6d78a-4410-4f92-b6eb-f4edb95c5c05",
   "metadata": {},
   "outputs": [],
   "source": [
    "# Glucose and BMI consistently rank as the top two features."
   ]
  },
  {
   "cell_type": "code",
   "execution_count": 4,
   "id": "617414ad-0d01-449f-a35f-7e5b5380be04",
   "metadata": {},
   "outputs": [
    {
     "data": {
      "image/png": "[encoded data removed]",
      "text/plain": [
       "<Figure size 576x432 with 1 Axes>"
      ]
     },
     "metadata": {
      "needs_background": "light"
     },
     "output_type": "display_data"
    },
    {
     "data": {
      "image/png": "[encoded data removed]",
      "text/plain": [
       "<Figure size 576x432 with 1 Axes>"
      ]
     },
     "metadata": {
      "needs_background": "light"
     },
     "output_type": "display_data"
    }
   ],
   "source": [
    "import numpy as np\n",
    "import matplotlib.pyplot as plt\n",
    "from sklearn.linear_model import LogisticRegression\n",
    "\n",
    "# Function to plot the sigmoid curve\n",
    "def plot_sigmoid(X, y, feature_name):\n",
    "    # Reshape the data\n",
    "    X = X.values.reshape(-1, 1)\n",
    "    \n",
    "    # Fit logistic regression\n",
    "    model = LogisticRegression()\n",
    "    model.fit(X, y)\n",
    "    \n",
    "    # Predict probabilities\n",
    "    X_test = np.linspace(X.min(), X.max(), 300)\n",
    "    y_prob = model.predict_proba(X_test.reshape(-1, 1))[:, 1]\n",
    "    \n",
    "    # Plot the sigmoid curve\n",
    "    plt.figure(figsize=(8, 6))\n",
    "    plt.scatter(X, y, color='blue', edgecolors='k', s=50, alpha=0.5, label='Data')\n",
    "    plt.plot(X_test, y_prob, color='red', linewidth=2, label='Sigmoid Curve')\n",
    "    plt.xlabel(feature_name)\n",
    "    plt.ylabel('Probability of Diabetes (Outcome=1)')\n",
    "    plt.title(f'Sigmoid Curve for {feature_name}')\n",
    "    plt.legend()\n",
    "    plt.grid(True)\n",
    "    plt.show()\n",
    "\n",
    "# Plot sigmoid curves for Glucose and BMI\n",
    "plot_sigmoid(data['Glucose'], y, 'Glucose')\n",
    "plot_sigmoid(data['BMI'], y, 'BMI')\n"
   ]
  },
  {
   "cell_type": "code",
   "execution_count": 5,
   "id": "c792d114-41dc-4f8a-ac97-0b6118df4fd4",
   "metadata": {},
   "outputs": [
    {
     "data": {
      "text/plain": [
       "((614, 8), (154, 8))"
      ]
     },
     "execution_count": 5,
     "metadata": {},
     "output_type": "execute_result"
    }
   ],
   "source": [
    "from sklearn.model_selection import train_test_split\n",
    "\n",
    "# Splitting the data into training and testing datasets (80% train, 20% test)\n",
    "X_train, X_test, y_train, y_test = train_test_split(X, y, test_size=0.2, random_state=42)\n",
    "\n",
    "X_train.shape, X_test.shape\n"
   ]
  },
  {
   "cell_type": "code",
   "execution_count": 6,
   "id": "d3c937de-f1e1-459e-b895-9582ba3a3861",
   "metadata": {},
   "outputs": [
    {
     "data": {
      "text/plain": [
       "({'C': 10, 'penalty': 'l1', 'solver': 'liblinear'}, 3.589604139328003)"
      ]
     },
     "execution_count": 6,
     "metadata": {},
     "output_type": "execute_result"
    }
   ],
   "source": [
    "from sklearn.model_selection import GridSearchCV\n",
    "import time\n",
    "\n",
    "# Define the hyperparameters to be tuned\n",
    "param_grid = {\n",
    "    'C': [0.001, 0.01, 0.1, 1, 10, 100],\n",
    "    'penalty': ['l1', 'l2'],\n",
    "    'solver': ['liblinear']\n",
    "}\n",
    "\n",
    "# Initialize the logistic regression model\n",
    "logreg = LogisticRegression(random_state=42)\n",
    "\n",
    "# Use GridSearchCV to search for the best hyperparameters\n",
    "grid_search = GridSearchCV(logreg, param_grid, cv=5, scoring='accuracy', n_jobs=-1)\n",
    "\n",
    "# Measure the start time\n",
    "start_time = time.time()\n",
    "\n",
    "# Fit the model\n",
    "grid_search.fit(X_train, y_train)\n",
    "\n",
    "# Calculate the time taken for hyperparameter tuning\n",
    "time_taken = time.time() - start_time\n",
    "\n",
    "# Retrieve the best parameters\n",
    "best_params = grid_search.best_params_\n",
    "\n",
    "best_params, time_taken\n"
   ]
  },
  {
   "cell_type": "code",
   "execution_count": 7,
   "id": "9a0eb208-f560-45a5-bc5e-689d125346d3",
   "metadata": {},
   "outputs": [],
   "source": [
    "from sklearn.model_selection import cross_val_score\n",
    "\n",
    "# Initialize the logistic regression model with the best hyperparameters\n",
    "best_logreg = LogisticRegression(**best_params, random_state=42)\n",
    "\n",
    "# Perform 5-fold cross-validation\n",
    "start_time = time.time()\n",
    "cv_scores = cross_val_score(best_logreg, X_train, y_train, cv=5, scoring='accuracy', n_jobs=-1)\n",
    "\n",
    "# Calculate the time taken for cross-validation\n",
    "cv_time_taken = time.time() - start_time\n",
    "\n",
    "cv_mean_score = cv_scores.mean(), cv_scores.std(), cv_time_taken\n"
   ]
  },
  {
   "cell_type": "code",
   "execution_count": 8,
   "id": "d2e1fcc4-71d4-416c-a708-df0fc15c0ae7",
   "metadata": {},
   "outputs": [
    {
     "data": {
      "text/plain": [
       "(0.7532467532467533,\n",
       " 0.6415094339622642,\n",
       " 0.8222222222222222,\n",
       " array([0.        , 0.        , 0.01010101, 0.01010101, 0.02020202,\n",
       "        0.02020202, 0.03030303, 0.03030303, 0.05050505, 0.05050505,\n",
       "        0.06060606, 0.06060606, 0.07070707, 0.07070707, 0.09090909,\n",
       "        0.09090909, 0.13131313, 0.13131313, 0.17171717, 0.17171717,\n",
       "        0.18181818, 0.18181818, 0.26262626, 0.26262626, 0.28282828,\n",
       "        0.28282828, 0.32323232, 0.32323232, 0.35353535, 0.35353535,\n",
       "        0.36363636, 0.36363636, 0.39393939, 0.39393939, 0.4040404 ,\n",
       "        0.4040404 , 0.42424242, 0.42424242, 0.45454545, 0.45454545,\n",
       "        0.49494949, 0.49494949, 0.54545455, 0.54545455, 0.5959596 ,\n",
       "        0.5959596 , 0.60606061, 0.60606061, 0.64646465, 0.64646465,\n",
       "        1.        ]),\n",
       " array([0.        , 0.01818182, 0.01818182, 0.07272727, 0.07272727,\n",
       "        0.30909091, 0.30909091, 0.36363636, 0.36363636, 0.38181818,\n",
       "        0.38181818, 0.47272727, 0.47272727, 0.58181818, 0.58181818,\n",
       "        0.6       , 0.6       , 0.61818182, 0.61818182, 0.65454545,\n",
       "        0.65454545, 0.67272727, 0.67272727, 0.69090909, 0.69090909,\n",
       "        0.70909091, 0.70909091, 0.72727273, 0.72727273, 0.76363636,\n",
       "        0.76363636, 0.78181818, 0.78181818, 0.81818182, 0.81818182,\n",
       "        0.83636364, 0.83636364, 0.87272727, 0.87272727, 0.89090909,\n",
       "        0.89090909, 0.90909091, 0.90909091, 0.94545455, 0.94545455,\n",
       "        0.96363636, 0.96363636, 0.98181818, 0.98181818, 1.        ,\n",
       "        1.        ]))"
      ]
     },
     "execution_count": 8,
     "metadata": {},
     "output_type": "execute_result"
    }
   ],
   "source": [
    "from sklearn.metrics import accuracy_score, f1_score, roc_auc_score, roc_curve\n",
    "\n",
    "# Train the model on the entire training dataset\n",
    "best_logreg.fit(X_train, y_train)\n",
    "\n",
    "# Predictions on the test dataset\n",
    "y_pred = best_logreg.predict(X_test)\n",
    "y_pred_proba = best_logreg.predict_proba(X_test)[:, 1]\n",
    "\n",
    "# Calculate performance metrics\n",
    "accuracy = accuracy_score(y_test, y_pred)\n",
    "f1 = f1_score(y_test, y_pred)\n",
    "roc_auc = roc_auc_score(y_test, y_pred_proba)\n",
    "fpr, tpr, _ = roc_curve(y_test, y_pred_proba)\n",
    "\n",
    "performance_metrics = accuracy, f1, roc_auc, fpr, tpr\n",
    "\n",
    "performance_metrics\n"
   ]
  },
  {
   "cell_type": "code",
   "execution_count": null,
   "id": "43bfacbb-c79d-473b-b8cd-c7dd62dcb77c",
   "metadata": {},
   "outputs": [],
   "source": [
    "    # Accuracy: 75.32%\n",
    "    # F1 Score: 64.15%\n",
    "    # ROC-AUC: 82.22%"
   ]
  },
  {
   "cell_type": "code",
   "execution_count": null,
   "id": "cd7595f9-7631-4c3b-b972-5a3f24ba71bc",
   "metadata": {},
   "outputs": [],
   "source": [
    "#SVM"
   ]
  },
  {
   "cell_type": "code",
   "execution_count": 11,
   "id": "4cd926d2-0194-4a45-81ad-ce6509e5c277",
   "metadata": {},
   "outputs": [
    {
     "data": {
      "text/plain": [
       "({'C': 10, 'gamma': 0.1, 'kernel': 'linear'}, 157.35822343826294)"
      ]
     },
     "execution_count": 11,
     "metadata": {},
     "output_type": "execute_result"
    }
   ],
   "source": [
    "from sklearn.svm import SVC\n",
    "# Reducing the hyperparameter search space\n",
    "reduced_param_grid_svm = {\n",
    "    'C': [0.1, 1, 10],\n",
    "    'gamma': [0.1, 0.01],\n",
    "    'kernel': ['linear', 'rbf']\n",
    "}\n",
    "\n",
    "svm = SVC(probability=True)\n",
    "# Use GridSearchCV with the reduced parameter grid\n",
    "grid_search_svm_reduced = GridSearchCV(svm, reduced_param_grid_svm, cv=5, scoring='accuracy', n_jobs=-1)\n",
    "\n",
    "# Measure the start time\n",
    "start_time_svm = time.time()\n",
    "\n",
    "# Fit the model\n",
    "grid_search_svm_reduced.fit(X_train, y_train)\n",
    "\n",
    "# Calculate the time taken for hyperparameter tuning\n",
    "time_taken_svm_reduced = time.time() - start_time_svm\n",
    "\n",
    "# Retrieve the best parameters\n",
    "best_params_svm_reduced = grid_search_svm_reduced.best_params_\n",
    "\n",
    "best_params_svm_reduced, time_taken_svm_reduced\n"
   ]
  },
  {
   "cell_type": "code",
   "execution_count": null,
   "id": "47a933f9-9f59-409c-8ccd-b87ce74fdf89",
   "metadata": {},
   "outputs": [],
   "source": [
    "# ({'C': 0.1, 'gamma': 0.1, 'kernel': 'linear'}, 38.76822566986084)"
   ]
  },
  {
   "cell_type": "code",
   "execution_count": 13,
   "id": "e2abdc7e-b7bc-4213-b0fd-434ec15045ea",
   "metadata": {},
   "outputs": [
    {
     "data": {
      "text/plain": [
       "(0.7687458349993336, 0.025868357759311608, 73.06344985961914)"
      ]
     },
     "execution_count": 13,
     "metadata": {},
     "output_type": "execute_result"
    }
   ],
   "source": [
    "# Initialize the SVM classifier with the best hyperparameters\n",
    "best_svm = SVC(**best_params_svm_reduced, probability=True)\n",
    "\n",
    "# Perform 5-fold cross-validation\n",
    "start_time_svm_cv = time.time()\n",
    "cv_scores_svm = cross_val_score(best_svm, X_train, y_train, cv=5, scoring='accuracy', n_jobs=-1)\n",
    "\n",
    "# Calculate the time taken for cross-validation\n",
    "cv_time_taken_svm = time.time() - start_time_svm_cv\n",
    "\n",
    "cv_mean_score_svm = cv_scores_svm.mean(), cv_scores_svm.std(), cv_time_taken_svm\n",
    "\n",
    "cv_mean_score_svm\n"
   ]
  },
  {
   "cell_type": "code",
   "execution_count": 14,
   "id": "23db3b63-de67-4582-9215-14422e2c1414",
   "metadata": {},
   "outputs": [
    {
     "data": {
      "text/plain": [
       "(0.7662337662337663,\n",
       " 0.660377358490566,\n",
       " 0.8244260789715335,\n",
       " array([0.        , 0.01010101, 0.01010101, 0.02020202, 0.02020202,\n",
       "        0.04040404, 0.04040404, 0.05050505, 0.05050505, 0.06060606,\n",
       "        0.06060606, 0.07070707, 0.07070707, 0.11111111, 0.11111111,\n",
       "        0.13131313, 0.15151515, 0.16161616, 0.16161616, 0.18181818,\n",
       "        0.18181818, 0.32323232, 0.32323232, 0.37373737, 0.37373737,\n",
       "        0.38383838, 0.38383838, 0.4040404 , 0.4040404 , 0.43434343,\n",
       "        0.43434343, 0.47474747, 0.47474747, 0.51515152, 0.51515152,\n",
       "        0.60606061, 0.60606061, 0.62626263, 0.62626263, 0.6969697 ,\n",
       "        0.6969697 , 1.        ]),\n",
       " array([0.        , 0.        , 0.01818182, 0.01818182, 0.30909091,\n",
       "        0.30909091, 0.4       , 0.4       , 0.49090909, 0.49090909,\n",
       "        0.50909091, 0.50909091, 0.58181818, 0.58181818, 0.6       ,\n",
       "        0.6       , 0.6       , 0.6       , 0.63636364, 0.63636364,\n",
       "        0.69090909, 0.69090909, 0.78181818, 0.78181818, 0.8       ,\n",
       "        0.8       , 0.81818182, 0.81818182, 0.87272727, 0.87272727,\n",
       "        0.89090909, 0.89090909, 0.90909091, 0.90909091, 0.92727273,\n",
       "        0.92727273, 0.96363636, 0.96363636, 0.98181818, 0.98181818,\n",
       "        1.        , 1.        ]))"
      ]
     },
     "execution_count": 14,
     "metadata": {},
     "output_type": "execute_result"
    }
   ],
   "source": [
    "# Train the SVM model on the entire training dataset\n",
    "best_svm.fit(X_train, y_train)\n",
    "\n",
    "# Predictions on the test dataset\n",
    "y_pred_svm = best_svm.predict(X_test)\n",
    "y_pred_proba_svm = best_svm.predict_proba(X_test)[:, 1]\n",
    "\n",
    "# Calculate performance metrics\n",
    "accuracy_svm = accuracy_score(y_test, y_pred_svm)\n",
    "f1_svm = f1_score(y_test, y_pred_svm)\n",
    "roc_auc_svm = roc_auc_score(y_test, y_pred_proba_svm)\n",
    "fpr_svm, tpr_svm, _ = roc_curve(y_test, y_pred_proba_svm)\n",
    "\n",
    "performance_metrics_svm = accuracy_svm, f1_svm, roc_auc_svm, fpr_svm, tpr_svm\n",
    "\n",
    "performance_metrics_svm\n"
   ]
  },
  {
   "cell_type": "code",
   "execution_count": null,
   "id": "edaed235-d1ea-4429-8992-2d0271ecafa2",
   "metadata": {},
   "outputs": [],
   "source": [
    "(0.7662337662337663,\n",
    " 0.660377358490566,\n",
    " 0.8244260789715335,"
   ]
  },
  {
   "cell_type": "code",
   "execution_count": null,
   "id": "bca59d1f-7509-4603-aaf5-0c82c7d47880",
   "metadata": {},
   "outputs": [],
   "source": [
    "# Decison TREE"
   ]
  },
  {
   "cell_type": "code",
   "execution_count": 15,
   "id": "2b003571-21a5-4e94-a66a-ec3bce5c5ff1",
   "metadata": {},
   "outputs": [
    {
     "data": {
      "text/plain": [
       "({'criterion': 'entropy',\n",
       "  'max_depth': 3,\n",
       "  'min_samples_leaf': 4,\n",
       "  'min_samples_split': 2},\n",
       " 2.2984306812286377)"
      ]
     },
     "execution_count": 15,
     "metadata": {},
     "output_type": "execute_result"
    }
   ],
   "source": [
    "from sklearn.tree import DecisionTreeClassifier\n",
    "\n",
    "# Extracting only 'Glucose' and 'BMI' features for training and testing data\n",
    "X_train_dt = X_train[['Glucose', 'BMI']]\n",
    "X_test_dt = X_test[['Glucose', 'BMI']]\n",
    "\n",
    "# Define the hyperparameters to be tuned\n",
    "param_grid_dt = {\n",
    "    'criterion': ['gini', 'entropy'],\n",
    "    'max_depth': [None, 3, 5, 7, 10],\n",
    "    'min_samples_split': [2, 5, 10],\n",
    "    'min_samples_leaf': [1, 2, 4]\n",
    "}\n",
    "\n",
    "# Initialize the decision tree classifier\n",
    "dt = DecisionTreeClassifier(random_state=42)\n",
    "\n",
    "# Use GridSearchCV to search for the best hyperparameters\n",
    "grid_search_dt = GridSearchCV(dt, param_grid_dt, cv=5, scoring='accuracy', n_jobs=-1)\n",
    "\n",
    "# Measure the start time\n",
    "start_time_dt = time.time()\n",
    "\n",
    "# Fit the model\n",
    "grid_search_dt.fit(X_train_dt, y_train)\n",
    "\n",
    "# Calculate the time taken for hyperparameter tuning\n",
    "time_taken_dt = time.time() - start_time_dt\n",
    "\n",
    "# Retrieve the best parameters\n",
    "best_params_dt = grid_search_dt.best_params_\n",
    "\n",
    "best_params_dt, time_taken_dt\n"
   ]
  },
  {
   "cell_type": "code",
   "execution_count": null,
   "id": "a86b277a-c0de-4340-af3c-0cf53a389d80",
   "metadata": {},
   "outputs": [],
   "source": [
    "    # Criterion: entropy\n",
    "    # Max Depth: 3\n",
    "    # Min Samples Leaf: 4\n",
    "    # Min Samples Split: 2"
   ]
  },
  {
   "cell_type": "code",
   "execution_count": 16,
   "id": "5b891550-4069-4ef9-aa1c-077a6706e153",
   "metadata": {},
   "outputs": [
    {
     "data": {
      "text/plain": [
       "(0.7557510329201652, 0.038535456106047826, 0.01382756233215332)"
      ]
     },
     "execution_count": 16,
     "metadata": {},
     "output_type": "execute_result"
    }
   ],
   "source": [
    "# Initialize the Decision Tree classifier with the best hyperparameters\n",
    "best_dt = DecisionTreeClassifier(**best_params_dt, random_state=42)\n",
    "\n",
    "# Perform 5-fold cross-validation\n",
    "start_time_dt_cv = time.time()\n",
    "cv_scores_dt = cross_val_score(best_dt, X_train_dt, y_train, cv=5, scoring='accuracy', n_jobs=-1)\n",
    "\n",
    "# Calculate the time taken for cross-validation\n",
    "cv_time_taken_dt = time.time() - start_time_dt_cv\n",
    "\n",
    "cv_mean_score_dt = cv_scores_dt.mean(), cv_scores_dt.std(), cv_time_taken_dt\n",
    "\n",
    "cv_mean_score_dt\n"
   ]
  },
  {
   "cell_type": "code",
   "execution_count": 17,
   "id": "e8d375a2-0bca-4204-9981-888ef485b99b",
   "metadata": {},
   "outputs": [
    {
     "data": {
      "text/plain": [
       "(0.7727272727272727,\n",
       " 0.6601941747572815,\n",
       " 0.8088154269972452,\n",
       " array([0.        , 0.02020202, 0.04040404, 0.14141414, 0.48484848,\n",
       "        0.56565657, 0.80808081, 0.85858586, 1.        ]),\n",
       " array([0.        , 0.10909091, 0.23636364, 0.61818182, 0.89090909,\n",
       "        0.94545455, 1.        , 1.        , 1.        ]))"
      ]
     },
     "execution_count": 17,
     "metadata": {},
     "output_type": "execute_result"
    }
   ],
   "source": [
    "# Train the Decision Tree model on the entire training dataset\n",
    "best_dt.fit(X_train_dt, y_train)\n",
    "\n",
    "# Predictions on the test dataset\n",
    "y_pred_dt = best_dt.predict(X_test_dt)\n",
    "y_pred_proba_dt = best_dt.predict_proba(X_test_dt)[:, 1]\n",
    "\n",
    "# Calculate performance metrics\n",
    "accuracy_dt = accuracy_score(y_test, y_pred_dt)\n",
    "f1_dt = f1_score(y_test, y_pred_dt)\n",
    "roc_auc_dt = roc_auc_score(y_test, y_pred_proba_dt)\n",
    "fpr_dt, tpr_dt, _ = roc_curve(y_test, y_pred_proba_dt)\n",
    "\n",
    "performance_metrics_dt = accuracy_dt, f1_dt, roc_auc_dt, fpr_dt, tpr_dt\n",
    "\n",
    "performance_metrics_dt\n"
   ]
  },
  {
   "cell_type": "code",
   "execution_count": null,
   "id": "257ef222-79cd-4ad1-98ca-0bad5d3baa13",
   "metadata": {},
   "outputs": [],
   "source": [
    "    # Decison TREE \n",
    "    # Accuracy: 77.27%\n",
    "    # F1 Score: 66.02%\n",
    "    # ROC-AUC: 80.88%"
   ]
  },
  {
   "cell_type": "code",
   "execution_count": 18,
   "id": "5c0dca46-147d-4c5a-af4d-2e9088481c63",
   "metadata": {},
   "outputs": [
    {
     "data": {
      "text/html": [
       "<div>\n",
       "<style scoped>\n",
       "    .dataframe tbody tr th:only-of-type {\n",
       "        vertical-align: middle;\n",
       "    }\n",
       "\n",
       "    .dataframe tbody tr th {\n",
       "        vertical-align: top;\n",
       "    }\n",
       "\n",
       "    .dataframe thead th {\n",
       "        text-align: right;\n",
       "    }\n",
       "</style>\n",
       "<table border=\"1\" class=\"dataframe\">\n",
       "  <thead>\n",
       "    <tr style=\"text-align: right;\">\n",
       "      <th></th>\n",
       "      <th>Model</th>\n",
       "      <th>Accuracy (%)</th>\n",
       "      <th>F1 Score (%)</th>\n",
       "      <th>ROC-AUC</th>\n",
       "    </tr>\n",
       "  </thead>\n",
       "  <tbody>\n",
       "    <tr>\n",
       "      <th>0</th>\n",
       "      <td>Logistic Regression</td>\n",
       "      <td>75.324675</td>\n",
       "      <td>64.150943</td>\n",
       "      <td>0.822222</td>\n",
       "    </tr>\n",
       "    <tr>\n",
       "      <th>1</th>\n",
       "      <td>SVM</td>\n",
       "      <td>76.623377</td>\n",
       "      <td>66.037736</td>\n",
       "      <td>0.824426</td>\n",
       "    </tr>\n",
       "    <tr>\n",
       "      <th>2</th>\n",
       "      <td>Decision Tree</td>\n",
       "      <td>77.272727</td>\n",
       "      <td>66.019417</td>\n",
       "      <td>0.808815</td>\n",
       "    </tr>\n",
       "  </tbody>\n",
       "</table>\n",
       "</div>"
      ],
      "text/plain": [
       "                 Model  Accuracy (%)  F1 Score (%)   ROC-AUC\n",
       "0  Logistic Regression     75.324675     64.150943  0.822222\n",
       "1                  SVM     76.623377     66.037736  0.824426\n",
       "2        Decision Tree     77.272727     66.019417  0.808815"
      ]
     },
     "execution_count": 18,
     "metadata": {},
     "output_type": "execute_result"
    }
   ],
   "source": [
    "# Creating a dataframe to hold the performance metrics for each model\n",
    "metrics_data = {\n",
    "    'Model': ['Logistic Regression', 'SVM', 'Decision Tree'],\n",
    "    'Accuracy (%)': [accuracy * 100, accuracy_svm * 100, accuracy_dt * 100],\n",
    "    'F1 Score (%)': [f1 * 100, f1_svm * 100, f1_dt * 100],\n",
    "    'ROC-AUC': [roc_auc, roc_auc_svm, roc_auc_dt]\n",
    "}\n",
    "\n",
    "performance_metrics_df = pd.DataFrame(metrics_data)\n",
    "performance_metrics_df\n"
   ]
  },
  {
   "cell_type": "code",
   "execution_count": 20,
   "id": "8119a5b0-f8cc-451f-a8a0-0b53b18b7999",
   "metadata": {},
   "outputs": [
    {
     "name": "stderr",
     "output_type": "stream",
     "text": [
      "C:\\Users\\Hp\\AppData\\Local\\Temp/ipykernel_36844/1891451939.py:29: UserWarning: Tight layout not applied. The bottom and top margins cannot be made large enough to accommodate all axes decorations. \n",
      "  plt.tight_layout()\n"
     ]
    },
    {
     "data": {
      "image/png": "[encoded data removed]",
      "text/plain": [
       "<Figure size 864x1296 with 3 Axes>"
      ]
     },
     "metadata": {
      "needs_background": "light"
     },
     "output_type": "display_data"
    }
   ],
   "source": [
    "# Plotting the performance metrics for each model\n",
    "\n",
    "fig, axes = plt.subplots(3, 1, figsize=(12, 18))\n",
    "\n",
    "# Plotting Accuracy\n",
    "axes[0].bar(performance_metrics_df['Model'], performance_metrics_df['Accuracy (%)'], color=['blue', 'red', 'green'])\n",
    "axes[0].set_title('Accuracy Comparison')\n",
    "axes[0].set_ylabel('Accuracy (%)')\n",
    "axes[0].set_ylim(70, 80)\n",
    "for i, v in enumerate(performance_metrics_df['Accuracy (%)']):\n",
    "    axes[0].text(i, v + 0.5, f\"{v:.2f}%\", ha='center')\n",
    "\n",
    "# Plotting F1 Score\n",
    "axes[1].bar(performance_metrics_df['Model'], performance_metrics_df['F1 Score (%)'], color=['blue', 'red', 'green'])\n",
    "axes[1].set_title('F1 Score Comparison')\n",
    "axes[1].set_ylabel('F1 Score (%)')\n",
    "axes[1].set_ylim(60, 70)\n",
    "for i, v in enumerate(performance_metrics_df['F1 Score (%)']):\n",
    "    axes[1].text(i, v + 0.5, f\"{v:.2f}%\", ha='center')\n",
    "\n",
    "# Plotting ROC-AUC\n",
    "axes[2].bar(performance_metrics_df['Model'], performance_metrics_df['ROC-AUC'], color=['blue', 'red', 'green'])\n",
    "axes[2].set_title('ROC-AUC Comparison')\n",
    "axes[2].set_ylabel('ROC-AUC')\n",
    "axes[2].set_ylim(78, 84)\n",
    "for i, v in enumerate(performance_metrics_df['ROC-AUC']):\n",
    "    axes[2].text(i, v + 0.2, f\"{v:.2f}\", ha='center')\n",
    "\n",
    "plt.tight_layout()\n",
    "plt.show()\n"
   ]
  },
  {
   "cell_type": "code",
   "execution_count": null,
   "id": "2b110ac3-0af8-49fb-9f30-519b4e393700",
   "metadata": {},
   "outputs": [],
   "source": []
  }
 ],
 "metadata": {
  "kernelspec": {
   "display_name": "Python 3 (ipykernel)",
   "language": "python",
   "name": "python3"
  },
  "language_info": {
   "codemirror_mode": {
    "name": "ipython",
    "version": 3
   },
   "file_extension": ".py",
   "mimetype": "text/x-python",
   "name": "python",
   "nbconvert_exporter": "python",
   "pygments_lexer": "ipython3",
   "version": "3.9.7"
  }
 },
 "nbformat": 4,
 "nbformat_minor": 5
}
