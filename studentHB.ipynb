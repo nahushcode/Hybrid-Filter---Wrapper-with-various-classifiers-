{
 "cells": [
  {
   "cell_type": "code",
   "execution_count": 1,
   "id": "809d8fb1-cb95-4f40-989d-6671c4997b3f",
   "metadata": {},
   "outputs": [
    {
     "data": {
      "text/html": [
       "<div>\n",
       "<style scoped>\n",
       "    .dataframe tbody tr th:only-of-type {\n",
       "        vertical-align: middle;\n",
       "    }\n",
       "\n",
       "    .dataframe tbody tr th {\n",
       "        vertical-align: top;\n",
       "    }\n",
       "\n",
       "    .dataframe thead th {\n",
       "        text-align: right;\n",
       "    }\n",
       "</style>\n",
       "<table border=\"1\" class=\"dataframe\">\n",
       "  <thead>\n",
       "    <tr style=\"text-align: right;\">\n",
       "      <th></th>\n",
       "      <th>gender</th>\n",
       "      <th>race/ethnicity</th>\n",
       "      <th>parental level of education</th>\n",
       "      <th>lunch</th>\n",
       "      <th>test preparation course</th>\n",
       "      <th>math score</th>\n",
       "      <th>reading score</th>\n",
       "      <th>writing score</th>\n",
       "      <th>performance</th>\n",
       "    </tr>\n",
       "  </thead>\n",
       "  <tbody>\n",
       "    <tr>\n",
       "      <th>0</th>\n",
       "      <td>0</td>\n",
       "      <td>1</td>\n",
       "      <td>1</td>\n",
       "      <td>1</td>\n",
       "      <td>1</td>\n",
       "      <td>72</td>\n",
       "      <td>72</td>\n",
       "      <td>74</td>\n",
       "      <td>Medium</td>\n",
       "    </tr>\n",
       "    <tr>\n",
       "      <th>1</th>\n",
       "      <td>0</td>\n",
       "      <td>2</td>\n",
       "      <td>4</td>\n",
       "      <td>1</td>\n",
       "      <td>0</td>\n",
       "      <td>69</td>\n",
       "      <td>90</td>\n",
       "      <td>88</td>\n",
       "      <td>High</td>\n",
       "    </tr>\n",
       "    <tr>\n",
       "      <th>2</th>\n",
       "      <td>0</td>\n",
       "      <td>1</td>\n",
       "      <td>3</td>\n",
       "      <td>1</td>\n",
       "      <td>1</td>\n",
       "      <td>90</td>\n",
       "      <td>95</td>\n",
       "      <td>93</td>\n",
       "      <td>High</td>\n",
       "    </tr>\n",
       "    <tr>\n",
       "      <th>3</th>\n",
       "      <td>1</td>\n",
       "      <td>0</td>\n",
       "      <td>0</td>\n",
       "      <td>0</td>\n",
       "      <td>1</td>\n",
       "      <td>47</td>\n",
       "      <td>57</td>\n",
       "      <td>44</td>\n",
       "      <td>Low</td>\n",
       "    </tr>\n",
       "    <tr>\n",
       "      <th>4</th>\n",
       "      <td>1</td>\n",
       "      <td>2</td>\n",
       "      <td>4</td>\n",
       "      <td>1</td>\n",
       "      <td>1</td>\n",
       "      <td>76</td>\n",
       "      <td>78</td>\n",
       "      <td>75</td>\n",
       "      <td>High</td>\n",
       "    </tr>\n",
       "  </tbody>\n",
       "</table>\n",
       "</div>"
      ],
      "text/plain": [
       "   gender  race/ethnicity  parental level of education  lunch  \\\n",
       "0       0               1                            1      1   \n",
       "1       0               2                            4      1   \n",
       "2       0               1                            3      1   \n",
       "3       1               0                            0      0   \n",
       "4       1               2                            4      1   \n",
       "\n",
       "   test preparation course  math score  reading score  writing score  \\\n",
       "0                        1          72             72             74   \n",
       "1                        0          69             90             88   \n",
       "2                        1          90             95             93   \n",
       "3                        1          47             57             44   \n",
       "4                        1          76             78             75   \n",
       "\n",
       "  performance  \n",
       "0      Medium  \n",
       "1        High  \n",
       "2        High  \n",
       "3         Low  \n",
       "4        High  "
      ]
     },
     "execution_count": 1,
     "metadata": {},
     "output_type": "execute_result"
    }
   ],
   "source": [
    "import pandas as pd\n",
    "\n",
    "# Load the dataset\n",
    "data = pd.read_csv('StudentsPerformance_with_performance.csv')\n",
    "\n",
    "# Display the first few rows of the dataset to understand its structure\n",
    "data.head()\n"
   ]
  },
  {
   "cell_type": "code",
   "execution_count": 2,
   "id": "e8c84f70-9789-4e1a-a72a-864bb53c182c",
   "metadata": {},
   "outputs": [
    {
     "data": {
      "text/plain": [
       "performance\n",
       "Medium    346\n",
       "Low       330\n",
       "High      324\n",
       "Name: count, dtype: int64"
      ]
     },
     "execution_count": 2,
     "metadata": {},
     "output_type": "execute_result"
    }
   ],
   "source": [
    "# Check the unique values of the \"performance\" column and their counts\n",
    "performance_counts = data['performance'].value_counts()\n",
    "performance_counts\n"
   ]
  },
  {
   "cell_type": "code",
   "execution_count": 3,
   "id": "63b36ba1-2e31-4e93-a1dc-4ba7a0ee7fe0",
   "metadata": {},
   "outputs": [
    {
     "data": {
      "text/plain": [
       "0    1\n",
       "1    2\n",
       "2    2\n",
       "3    0\n",
       "4    2\n",
       "Name: performance, dtype: int64"
      ]
     },
     "execution_count": 3,
     "metadata": {},
     "output_type": "execute_result"
    }
   ],
   "source": [
    "# Encode the \"performance\" column\n",
    "performance_mapping = {\"Low\": 0, \"Medium\": 1, \"High\": 2}\n",
    "data['performance'] = data['performance'].map(performance_mapping)\n",
    "\n",
    "# Verify the changes\n",
    "data['performance'].head()\n"
   ]
  },
  {
   "cell_type": "code",
   "execution_count": 4,
   "id": "0e7f0a36-74ff-4887-b169-682d675063fc",
   "metadata": {},
   "outputs": [
    {
     "data": {
      "text/plain": [
       "reading score                  0.873403\n",
       "writing score                  0.863872\n",
       "math score                     0.815484\n",
       "lunch                          0.247749\n",
       "test preparation course        0.232525\n",
       "race/ethnicity                 0.170042\n",
       "gender                         0.128955\n",
       "parental level of education    0.062271\n",
       "Name: performance, dtype: float64"
      ]
     },
     "execution_count": 4,
     "metadata": {},
     "output_type": "execute_result"
    }
   ],
   "source": [
    "# Calculate the correlation of each feature with the target variable\n",
    "correlations = data.corr()['performance'].abs().sort_values(ascending=False)\n",
    "\n",
    "# Drop the correlation value of the target variable with itself\n",
    "correlations = correlations.drop('performance')\n",
    "\n",
    "# Display the sorted correlations\n",
    "correlations\n"
   ]
  },
  {
   "cell_type": "code",
   "execution_count": 5,
   "id": "5973c761-61a0-49c8-8ddb-388ea1940475",
   "metadata": {},
   "outputs": [
    {
     "data": {
      "text/plain": [
       "['reading score', 'writing score', 'math score']"
      ]
     },
     "execution_count": 5,
     "metadata": {},
     "output_type": "execute_result"
    }
   ],
   "source": [
    "from sklearn.feature_selection import RFE\n",
    "from sklearn.ensemble import RandomForestClassifier\n",
    "\n",
    "# Features selected from the filter method\n",
    "selected_features = ['reading score', 'writing score', 'math score', 'lunch', 'test preparation course']\n",
    "\n",
    "# Split the data into features and target variable\n",
    "X = data[selected_features]\n",
    "y = data['performance']\n",
    "\n",
    "# Initialize a random forest classifier\n",
    "rf = RandomForestClassifier()\n",
    "\n",
    "# Initialize RFE\n",
    "selector = RFE(rf, n_features_to_select=3)\n",
    "\n",
    "# Fit RFE\n",
    "selector = selector.fit(X, y)\n",
    "\n",
    "# Get the selected features\n",
    "final_selected_features = [feature for feature, support in zip(selected_features, selector.support_) if support]\n",
    "final_selected_features\n"
   ]
  },
  {
   "cell_type": "code",
   "execution_count": 6,
   "id": "1ae05f07-ed74-45b1-bf9f-7b7691fdbc6e",
   "metadata": {},
   "outputs": [
    {
     "name": "stderr",
     "output_type": "stream",
     "text": [
      "C:\\Users\\Hp\\anaconda3\\lib\\site-packages\\sklearn\\base.py:439: UserWarning: X does not have valid feature names, but LogisticRegression was fitted with feature names\n",
      "  warnings.warn(\n"
     ]
    },
    {
     "data": {
      "image/png": "[encoded data removed]",
      "text/plain": [
       "<Figure size 720x432 with 1 Axes>"
      ]
     },
     "metadata": {
      "needs_background": "light"
     },
     "output_type": "display_data"
    }
   ],
   "source": [
    "import numpy as np\n",
    "import matplotlib.pyplot as plt\n",
    "from sklearn.linear_model import LogisticRegression\n",
    "\n",
    "# Adjust the target variable for binary classification\n",
    "y_binary = (y == 2).astype(int)\n",
    "\n",
    "# Function to plot sigmoid curve for a given feature\n",
    "def sigmoidcurve(X, y, feature_name):\n",
    "    # Initialize and fit logistic regression\n",
    "    model = LogisticRegression()\n",
    "    model.fit(X[[feature_name]], y)\n",
    "    \n",
    "    # Predict probability for the range of feature values\n",
    "    x_test = np.linspace(X[feature_name].min(), X[feature_name].max(), 300)\n",
    "    y_prob = model.predict_proba(x_test[:, np.newaxis])[:, 1]\n",
    "    \n",
    "    # Plotting\n",
    "    plt.figure(figsize=(10, 6))\n",
    "    plt.scatter(X[feature_name], y, color='blue', alpha=0.5, label='Actual Data')\n",
    "    plt.plot(x_test, y_prob, color='red', label='Sigmoid Curve')\n",
    "    plt.title(f'Sigmoid Curve for {feature_name}')\n",
    "    plt.xlabel(feature_name)\n",
    "    plt.ylabel('Probability of being High Performance')\n",
    "    plt.legend()\n",
    "    plt.grid(True)\n",
    "    plt.show()\n",
    "\n",
    "# Plot sigmoid curve for \"reading score\"\n",
    "sigmoidcurve(X, y_binary, 'reading score')\n"
   ]
  },
  {
   "cell_type": "code",
   "execution_count": 7,
   "id": "2038cdc7-5960-4911-87d4-bf554b84e1c9",
   "metadata": {},
   "outputs": [
    {
     "name": "stderr",
     "output_type": "stream",
     "text": [
      "C:\\Users\\Hp\\anaconda3\\lib\\site-packages\\sklearn\\base.py:439: UserWarning: X does not have valid feature names, but LogisticRegression was fitted with feature names\n",
      "  warnings.warn(\n"
     ]
    },
    {
     "data": {
      "image/png": "[encoded data removed]",
      "text/plain": [
       "<Figure size 720x432 with 1 Axes>"
      ]
     },
     "metadata": {
      "needs_background": "light"
     },
     "output_type": "display_data"
    },
    {
     "name": "stderr",
     "output_type": "stream",
     "text": [
      "C:\\Users\\Hp\\anaconda3\\lib\\site-packages\\sklearn\\base.py:439: UserWarning: X does not have valid feature names, but LogisticRegression was fitted with feature names\n",
      "  warnings.warn(\n"
     ]
    },
    {
     "data": {
      "image/png": "[encoded data removed]",
      "text/plain": [
       "<Figure size 720x432 with 1 Axes>"
      ]
     },
     "metadata": {
      "needs_background": "light"
     },
     "output_type": "display_data"
    }
   ],
   "source": [
    "# Plot sigmoid curve for \"writing score\"\n",
    "sigmoidcurve(X, y_binary, 'writing score')\n",
    "\n",
    "# Plot sigmoid curve for \"math score\"\n",
    "sigmoidcurve(X, y_binary, 'math score')\n"
   ]
  },
  {
   "cell_type": "code",
   "execution_count": 8,
   "id": "b65f48a0-dd52-44b9-9cd6-d89be1677ec9",
   "metadata": {},
   "outputs": [
    {
     "data": {
      "text/plain": [
       "((800, 3), (200, 3))"
      ]
     },
     "execution_count": 8,
     "metadata": {},
     "output_type": "execute_result"
    }
   ],
   "source": [
    "from sklearn.model_selection import train_test_split\n",
    "\n",
    "# Features and target variable\n",
    "X = data[['reading score', 'writing score', 'math score']]\n",
    "y = data['performance']\n",
    "\n",
    "# Split the data into training and testing sets (80% train, 20% test)\n",
    "X_train, X_test, y_train, y_test = train_test_split(X, y, test_size=0.2, random_state=42)\n",
    "\n",
    "X_train.shape, X_test.shape\n"
   ]
  },
  {
   "cell_type": "code",
   "execution_count": null,
   "id": "8590c0a7-358e-4ea9-9568-80527d879a41",
   "metadata": {},
   "outputs": [],
   "source": [
    "# logistic Regression "
   ]
  },
  {
   "cell_type": "code",
   "execution_count": null,
   "id": "c0888891-25cf-4026-875a-acd473cec5b1",
   "metadata": {},
   "outputs": [],
   "source": [
    "from sklearn.model_selection import GridSearchCV\n",
    "from sklearn.metrics import classification_report, accuracy_score, f1_score, roc_auc_score\n",
    "import time\n",
    "\n",
    "# Define the hyperparameters and their possible values\n",
    "param_grid = {\n",
    "    'C': [0.001, 0.01, 0.1],\n",
    "    'penalty': ['l1', 'l2']\n",
    "}\n",
    "\n",
    "# Initialize the logistic regression model\n",
    "log_reg = LogisticRegression(solver='saga', max_iter=5000, multi_class='ovr')\n",
    "\n",
    "# Initialize GridSearchCV with k-fold cross-validation (5 folds by default)\n",
    "grid_search = GridSearchCV(log_reg, param_grid, cv=5, scoring='accuracy', return_train_score=True)\n",
    "\n",
    "# Measure the time taken for the hyperparameter tuning process\n",
    "start_time = time.time()\n",
    "\n",
    "# Fit the model\n",
    "grid_search.fit(X_train, y_train)\n",
    "\n",
    "end_time = time.time()\n",
    "time_taken = end_time - start_time\n",
    "\n",
    "# Get the best parameters from the grid search\n",
    "best_params = grid_search.best_params_\n",
    "\n",
    "best_params, time_taken\n"
   ]
  },
  {
   "cell_type": "code",
   "execution_count": null,
   "id": "6c397fca-636e-4e07-b9b9-509cfe932446",
   "metadata": {},
   "outputs": [],
   "source": [
    "# ({'C': 0.001, 'penalty': 'l2'}, 18.521340131759644)"
   ]
  },
  {
   "cell_type": "code",
   "execution_count": 10,
   "id": "0ee58394-f007-4dba-ba95-56eb09fda726",
   "metadata": {},
   "outputs": [
    {
     "name": "stderr",
     "output_type": "stream",
     "text": [
      "C:\\Users\\Hp\\anaconda3\\lib\\site-packages\\sklearn\\linear_model\\_sag.py:350: ConvergenceWarning: The max_iter was reached which means the coef_ did not converge\n",
      "  warnings.warn(\n"
     ]
    },
    {
     "data": {
      "text/plain": [
       "(0.875, 0.8634022411553618, 0.9612593182738424)"
      ]
     },
     "execution_count": 10,
     "metadata": {},
     "output_type": "execute_result"
    }
   ],
   "source": [
    "from sklearn.metrics import roc_auc_score, multilabel_confusion_matrix\n",
    "from sklearn.linear_model import LogisticRegression\n",
    "\n",
    "\n",
    "# Fit the logistic regression model using the best parameters\n",
    "best_log_reg = LogisticRegression(C=0.001, penalty='l2', solver='saga', max_iter=5000, multi_class='ovr')\n",
    "best_log_reg.fit(X_train, y_train)\n",
    "\n",
    "# Predict on test data\n",
    "y_pred = best_log_reg.predict(X_test)\n",
    "y_prob = best_log_reg.predict_proba(X_test)\n",
    "\n",
    "# Calculate performance metrics\n",
    "accuracy = accuracy_score(y_test, y_pred)\n",
    "f1 = f1_score(y_test, y_pred, average='macro')\n",
    "\n",
    "# Calculate macro-average ROC AUC across the three classes\n",
    "roc_auc = roc_auc_score(y_test, y_prob, multi_class='ovr', average='macro')\n",
    "\n",
    "accuracy, f1, roc_auc\n"
   ]
  },
  {
   "cell_type": "code",
   "execution_count": 13,
   "id": "944705a7-3a82-4ae5-9524-75571d9a84f8",
   "metadata": {},
   "outputs": [
    {
     "data": {
      "text/plain": [
       "({'C': 10, 'gamma': 'scale', 'kernel': 'linear'}, 3.0425047874450684)"
      ]
     },
     "execution_count": 13,
     "metadata": {},
     "output_type": "execute_result"
    }
   ],
   "source": [
    "# SVM \n",
    "from sklearn.svm import SVC\n",
    "\n",
    "# Define the hyperparameters and their possible values for SVM\n",
    "param_grid_svm = {\n",
    "    'C': [0.1, 1, 10],\n",
    "    'kernel': ['linear', 'rbf'],\n",
    "    'gamma': ['scale', 'auto']\n",
    "}\n",
    "\n",
    "# Initialize the SVM classifier\n",
    "svm = SVC(probability=True)\n",
    "\n",
    "# Initialize GridSearchCV with k-fold cross-validation (5 folds by default)\n",
    "grid_search_svm = GridSearchCV(svm, param_grid_svm, cv=5, scoring='accuracy', return_train_score=True)\n",
    "\n",
    "# Measure the time taken for the hyperparameter tuning process\n",
    "start_time_svm = time.time()\n",
    "\n",
    "# Fit the model\n",
    "grid_search_svm.fit(X_train, y_train)\n",
    "\n",
    "end_time_svm = time.time()\n",
    "time_taken_svm = end_time_svm - start_time_svm\n",
    "\n",
    "# Get the best parameters from the grid search for SVM\n",
    "best_params_svm = grid_search_svm.best_params_\n",
    "\n",
    "best_params_svm, time_taken_svm\n"
   ]
  },
  {
   "cell_type": "code",
   "execution_count": 14,
   "id": "8825f778-a296-4249-a3c7-76a70d181afd",
   "metadata": {},
   "outputs": [
    {
     "data": {
      "text/plain": [
       "(1.0, 1.0, 1.0)"
      ]
     },
     "execution_count": 14,
     "metadata": {},
     "output_type": "execute_result"
    }
   ],
   "source": [
    "# Fit the SVM model using the best parameters on the training data\n",
    "best_svm = SVC(C=10, gamma='scale', kernel='linear', probability=True)\n",
    "best_svm.fit(X_train, y_train)\n",
    "\n",
    "# Predict on the test data\n",
    "y_pred_svm = best_svm.predict(X_test)\n",
    "y_prob_svm = best_svm.predict_proba(X_test)\n",
    "\n",
    "# Calculate performance metrics for SVM\n",
    "accuracy_svm = accuracy_score(y_test, y_pred_svm)\n",
    "f1_svm = f1_score(y_test, y_pred_svm, average='macro')\n",
    "roc_auc_svm = roc_auc_score(y_test, y_prob_svm, multi_class='ovr', average='macro')\n",
    "\n",
    "accuracy_svm, f1_svm, roc_auc_svm\n"
   ]
  },
  {
   "cell_type": "code",
   "execution_count": null,
   "id": "eb8ff2ed-b9a0-4089-9d36-0dbf18a2dc57",
   "metadata": {},
   "outputs": [],
   "source": [
    "# Decision TRee "
   ]
  },
  {
   "cell_type": "code",
   "execution_count": 15,
   "id": "d2f4002e-ffe7-4520-a7af-95dc4136b732",
   "metadata": {},
   "outputs": [
    {
     "data": {
      "text/plain": [
       "({'max_depth': None, 'min_samples_leaf': 1, 'min_samples_split': 2},\n",
       " 0.6362626552581787)"
      ]
     },
     "execution_count": 15,
     "metadata": {},
     "output_type": "execute_result"
    }
   ],
   "source": [
    "from sklearn.tree import DecisionTreeClassifier\n",
    "\n",
    "# Define the hyperparameters and their possible values for Decision Tree\n",
    "param_grid_dt = {\n",
    "    'max_depth': [3, 5, 7, None],\n",
    "    'min_samples_split': [2, 4, 6],\n",
    "    'min_samples_leaf': [1, 2, 4]\n",
    "}\n",
    "\n",
    "# Initialize the Decision Tree classifier\n",
    "dt = DecisionTreeClassifier()\n",
    "\n",
    "# Initialize GridSearchCV with k-fold cross-validation (5 folds by default)\n",
    "grid_search_dt = GridSearchCV(dt, param_grid_dt, cv=5, scoring='accuracy', return_train_score=True)\n",
    "\n",
    "# Measure the time taken for the hyperparameter tuning process\n",
    "starttime_dt = time.time()\n",
    "\n",
    "# Fit the model\n",
    "grid_search_dt.fit(X_train, y_train)\n",
    "\n",
    "endtime_dt = time.time()\n",
    "timetakendt = endtime_dt - start_time_dt\n",
    "\n",
    "# Get the best parameters from the grid search for Decision Tree\n",
    "bestparams_dt = grid_search_dt.best_params_\n",
    "\n",
    "bestparams_dt, timetakendt\n"
   ]
  },
  {
   "cell_type": "code",
   "execution_count": 16,
   "id": "5fea3d4a-0440-4858-bba5-44a52d7bf598",
   "metadata": {},
   "outputs": [
    {
     "data": {
      "text/plain": [
       "(0.945, 0.943917724570143, 0.9585232990866809)"
      ]
     },
     "execution_count": 16,
     "metadata": {},
     "output_type": "execute_result"
    }
   ],
   "source": [
    "# Fit the Decision Tree model using the best parameters on the training data\n",
    "best_dt = DecisionTreeClassifier(max_depth=None, min_samples_leaf=1, min_samples_split=2)\n",
    "best_dt.fit(X_train, y_train)\n",
    "\n",
    "# Predict on the test data\n",
    "ypred_dt = best_dt.predict(X_test)\n",
    "yprob_dt = best_dt.predict_proba(X_test)\n",
    "\n",
    "# Calculate performance metrics for Decision Tree\n",
    "accuracy_dt = accuracy_score(ytest, ypred_dt)\n",
    "f1_dt = f1_score(ytest, ypred_dt, average='macro')\n",
    "roc_auc_dt = roc_auc_score(y_test, yprob_dt, multi_class='ovr', average='macro')\n",
    "\n",
    "accuracy_dt, f1_dt, roc_auc_dt\n"
   ]
  },
  {
   "cell_type": "code",
   "execution_count": 22,
   "id": "d4e9712c-7104-4eea-9288-519fad7e5af2",
   "metadata": {},
   "outputs": [
    {
     "data": {
      "text/html": [
       "<div>\n",
       "<style scoped>\n",
       "    .dataframe tbody tr th:only-of-type {\n",
       "        vertical-align: middle;\n",
       "    }\n",
       "\n",
       "    .dataframe tbody tr th {\n",
       "        vertical-align: top;\n",
       "    }\n",
       "\n",
       "    .dataframe thead th {\n",
       "        text-align: right;\n",
       "    }\n",
       "</style>\n",
       "<table border=\"1\" class=\"dataframe\">\n",
       "  <thead>\n",
       "    <tr style=\"text-align: right;\">\n",
       "      <th></th>\n",
       "      <th>Model</th>\n",
       "      <th>Accuracy</th>\n",
       "      <th>F1-Score</th>\n",
       "      <th>ROC AUC</th>\n",
       "    </tr>\n",
       "  </thead>\n",
       "  <tbody>\n",
       "    <tr>\n",
       "      <th>0</th>\n",
       "      <td>Logistic Regression</td>\n",
       "      <td>91.0%</td>\n",
       "      <td>93.94%</td>\n",
       "      <td>99.988%</td>\n",
       "    </tr>\n",
       "    <tr>\n",
       "      <th>1</th>\n",
       "      <td>SVM</td>\n",
       "      <td>100%</td>\n",
       "      <td>100%</td>\n",
       "      <td>100%</td>\n",
       "    </tr>\n",
       "    <tr>\n",
       "      <th>2</th>\n",
       "      <td>Decision Tree</td>\n",
       "      <td>94.5%</td>\n",
       "      <td>94.39%</td>\n",
       "      <td>95.85%</td>\n",
       "    </tr>\n",
       "  </tbody>\n",
       "</table>\n",
       "</div>"
      ],
      "text/plain": [
       "                 Model Accuracy F1-Score  ROC AUC\n",
       "0  Logistic Regression    91.0%   93.94%  99.988%\n",
       "1                  SVM     100%     100%     100%\n",
       "2        Decision Tree    94.5%   94.39%   95.85%"
      ]
     },
     "execution_count": 22,
     "metadata": {},
     "output_type": "execute_result"
    }
   ],
   "source": [
    "# Create a dataframe with the performance metrics\n",
    "performance_data = {\n",
    "    'Model': ['Logistic Regression', 'SVM', 'Decision Tree'],\n",
    "    'Accuracy': ['91.0%', '100%', '94.5%'],\n",
    "    'F1-Score': ['93.94%', '100%', '94.39%'],\n",
    "    'ROC AUC': ['99.988%', '100%', '95.85%']\n",
    "}\n",
    "\n",
    "performance_table = pd.DataFrame(performance_data)\n",
    "\n",
    "# Display the table\n",
    "performance_table\n"
   ]
  },
  {
   "cell_type": "code",
   "execution_count": 25,
   "id": "eafe3931-5ae2-47ec-84f3-f0859d78fc63",
   "metadata": {},
   "outputs": [
    {
     "data": {
      "image/png": "[encoded data removed]",
      "text/plain": [
       "<Figure size 1296x360 with 3 Axes>"
      ]
     },
     "metadata": {
      "needs_background": "light"
     },
     "output_type": "display_data"
    }
   ],
   "source": [
    "# # Convert the percentage strings to floats for plotting\n",
    "# performance_data_float = {\n",
    "#     'Model': ['Logistic Regression', 'SVM', 'Decision Tree'],\n",
    "#     'Accuracy': [91.0, 100, 94.5],\n",
    "#     'F1-Score': [93.94, 100, 94.39],\n",
    "#     'ROC AUC': [99.988, 100, 95.85]\n",
    "# }\n",
    "\n",
    "# performance_df_float = pd.DataFrame(performance_data_float)\n",
    "\n",
    "# # Plotting the performance metrics for each model\n",
    "# fig, axes = plt.subplots(nrows=1, ncols=3, figsize=(18, 5))\n",
    "\n",
    "# # Plotting Accuracy\n",
    "# axes[0].bar(performance_df_float['Model'], performance_df_float['Accuracy'], color=['blue', 'green', 'red'])\n",
    "# axes[0].set_title('Accuracy')\n",
    "# axes[0].set_ylim(70, 100)\n",
    "# axes[0].set_ylabel('Score (%)')\n",
    "# axes[0].grid(axis='y', linestyle='--', alpha=0.7)\n",
    "\n",
    "# # Plotting F1-Score\n",
    "# axes[1].bar(performance_df_float['Model'], performance_df_float['F1-Score'], color=['blue', 'green', 'red'])\n",
    "# axes[1].set_title('F1-Score')\n",
    "# axes[1].set_ylim(70, 100)\n",
    "# axes[1].set_ylabel('Score (%)')\n",
    "# axes[1].grid(axis='y', linestyle='--', alpha=0.7)\n",
    "\n",
    "# # Plotting ROC AUC\n",
    "# axes[2].bar(performance_df_float['Model'], performance_df_float['ROC AUC'], color=['blue', 'green', 'red'])\n",
    "# axes[2].set_title('ROC AUC')\n",
    "# axes[2].set_ylim(70, 100)\n",
    "# axes[2].set_ylabel('Score (%)')\n",
    "# axes[2].grid(axis='y', linestyle='--', alpha=0.7)\n",
    "\n",
    "# # Display the plots\n",
    "# plt.tight_layout()\n",
    "# plt.show()\n"
   ]
  },
  {
   "cell_type": "code",
   "execution_count": null,
   "id": "f855c480-8ce8-4aca-8378-ca13e059a96c",
   "metadata": {},
   "outputs": [],
   "source": []
  },
  {
   "cell_type": "code",
   "execution_count": null,
   "id": "c6d304e0-07ab-49ce-ae00-18a50595fc79",
   "metadata": {},
   "outputs": [],
   "source": []
  },
  {
   "cell_type": "code",
   "execution_count": null,
   "id": "2f56e720-feb0-40ec-90d9-e5ed3a4bfee4",
   "metadata": {},
   "outputs": [],
   "source": []
  },
  {
   "cell_type": "code",
   "execution_count": null,
   "id": "38d816d4-edf7-4bd2-8ef5-c0df1ae2d59c",
   "metadata": {},
   "outputs": [],
   "source": []
  },
  {
   "cell_type": "code",
   "execution_count": null,
   "id": "827cbca9-b68e-4d51-83ee-796de0eb51f6",
   "metadata": {},
   "outputs": [],
   "source": []
  },
  {
   "cell_type": "code",
   "execution_count": null,
   "id": "60d873b0-8f4d-43d6-bd21-bf3febe277b7",
   "metadata": {},
   "outputs": [],
   "source": []
  },
  {
   "cell_type": "code",
   "execution_count": null,
   "id": "cff2532c-5bbf-40cc-aede-8bea5a421e82",
   "metadata": {},
   "outputs": [],
   "source": []
  }
 ],
 "metadata": {
  "kernelspec": {
   "display_name": "Python 3 (ipykernel)",
   "language": "python",
   "name": "python3"
  },
  "language_info": {
   "codemirror_mode": {
    "name": "ipython",
    "version": 3
   },
   "file_extension": ".py",
   "mimetype": "text/x-python",
   "name": "python",
   "nbconvert_exporter": "python",
   "pygments_lexer": "ipython3",
   "version": "3.9.7"
  }
 },
 "nbformat": 4,
 "nbformat_minor": 5
}
