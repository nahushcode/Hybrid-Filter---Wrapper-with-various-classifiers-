{
 "cells": [
  {
   "cell_type": "code",
   "execution_count": 1,
   "id": "0e8ba252-59d0-45c2-a3af-f71ff1b8bfc0",
   "metadata": {},
   "outputs": [
    {
     "data": {
      "text/html": [
       "<div>\n",
       "<style scoped>\n",
       "    .dataframe tbody tr th:only-of-type {\n",
       "        vertical-align: middle;\n",
       "    }\n",
       "\n",
       "    .dataframe tbody tr th {\n",
       "        vertical-align: top;\n",
       "    }\n",
       "\n",
       "    .dataframe thead th {\n",
       "        text-align: right;\n",
       "    }\n",
       "</style>\n",
       "<table border=\"1\" class=\"dataframe\">\n",
       "  <thead>\n",
       "    <tr style=\"text-align: right;\">\n",
       "      <th></th>\n",
       "      <th>V1</th>\n",
       "      <th>V2</th>\n",
       "      <th>V3</th>\n",
       "      <th>V4</th>\n",
       "      <th>V5</th>\n",
       "      <th>V6</th>\n",
       "      <th>V7</th>\n",
       "      <th>V8</th>\n",
       "      <th>V9</th>\n",
       "      <th>V10</th>\n",
       "      <th>...</th>\n",
       "      <th>V52</th>\n",
       "      <th>V53</th>\n",
       "      <th>V54</th>\n",
       "      <th>V55</th>\n",
       "      <th>V56</th>\n",
       "      <th>V57</th>\n",
       "      <th>V58</th>\n",
       "      <th>V59</th>\n",
       "      <th>V60</th>\n",
       "      <th>Class</th>\n",
       "    </tr>\n",
       "  </thead>\n",
       "  <tbody>\n",
       "    <tr>\n",
       "      <th>0</th>\n",
       "      <td>0.0200</td>\n",
       "      <td>0.0371</td>\n",
       "      <td>0.0428</td>\n",
       "      <td>0.0207</td>\n",
       "      <td>0.0954</td>\n",
       "      <td>0.0986</td>\n",
       "      <td>0.1539</td>\n",
       "      <td>0.1601</td>\n",
       "      <td>0.3109</td>\n",
       "      <td>0.2111</td>\n",
       "      <td>...</td>\n",
       "      <td>0.0027</td>\n",
       "      <td>0.0065</td>\n",
       "      <td>0.0159</td>\n",
       "      <td>0.0072</td>\n",
       "      <td>0.0167</td>\n",
       "      <td>0.0180</td>\n",
       "      <td>0.0084</td>\n",
       "      <td>0.0090</td>\n",
       "      <td>0.0032</td>\n",
       "      <td>1</td>\n",
       "    </tr>\n",
       "    <tr>\n",
       "      <th>1</th>\n",
       "      <td>0.0453</td>\n",
       "      <td>0.0523</td>\n",
       "      <td>0.0843</td>\n",
       "      <td>0.0689</td>\n",
       "      <td>0.1183</td>\n",
       "      <td>0.2583</td>\n",
       "      <td>0.2156</td>\n",
       "      <td>0.3481</td>\n",
       "      <td>0.3337</td>\n",
       "      <td>0.2872</td>\n",
       "      <td>...</td>\n",
       "      <td>0.0084</td>\n",
       "      <td>0.0089</td>\n",
       "      <td>0.0048</td>\n",
       "      <td>0.0094</td>\n",
       "      <td>0.0191</td>\n",
       "      <td>0.0140</td>\n",
       "      <td>0.0049</td>\n",
       "      <td>0.0052</td>\n",
       "      <td>0.0044</td>\n",
       "      <td>1</td>\n",
       "    </tr>\n",
       "    <tr>\n",
       "      <th>2</th>\n",
       "      <td>0.0262</td>\n",
       "      <td>0.0582</td>\n",
       "      <td>0.1099</td>\n",
       "      <td>0.1083</td>\n",
       "      <td>0.0974</td>\n",
       "      <td>0.2280</td>\n",
       "      <td>0.2431</td>\n",
       "      <td>0.3771</td>\n",
       "      <td>0.5598</td>\n",
       "      <td>0.6194</td>\n",
       "      <td>...</td>\n",
       "      <td>0.0232</td>\n",
       "      <td>0.0166</td>\n",
       "      <td>0.0095</td>\n",
       "      <td>0.0180</td>\n",
       "      <td>0.0244</td>\n",
       "      <td>0.0316</td>\n",
       "      <td>0.0164</td>\n",
       "      <td>0.0095</td>\n",
       "      <td>0.0078</td>\n",
       "      <td>1</td>\n",
       "    </tr>\n",
       "    <tr>\n",
       "      <th>3</th>\n",
       "      <td>0.0100</td>\n",
       "      <td>0.0171</td>\n",
       "      <td>0.0623</td>\n",
       "      <td>0.0205</td>\n",
       "      <td>0.0205</td>\n",
       "      <td>0.0368</td>\n",
       "      <td>0.1098</td>\n",
       "      <td>0.1276</td>\n",
       "      <td>0.0598</td>\n",
       "      <td>0.1264</td>\n",
       "      <td>...</td>\n",
       "      <td>0.0121</td>\n",
       "      <td>0.0036</td>\n",
       "      <td>0.0150</td>\n",
       "      <td>0.0085</td>\n",
       "      <td>0.0073</td>\n",
       "      <td>0.0050</td>\n",
       "      <td>0.0044</td>\n",
       "      <td>0.0040</td>\n",
       "      <td>0.0117</td>\n",
       "      <td>1</td>\n",
       "    </tr>\n",
       "    <tr>\n",
       "      <th>4</th>\n",
       "      <td>0.0762</td>\n",
       "      <td>0.0666</td>\n",
       "      <td>0.0481</td>\n",
       "      <td>0.0394</td>\n",
       "      <td>0.0590</td>\n",
       "      <td>0.0649</td>\n",
       "      <td>0.1209</td>\n",
       "      <td>0.2467</td>\n",
       "      <td>0.3564</td>\n",
       "      <td>0.4459</td>\n",
       "      <td>...</td>\n",
       "      <td>0.0031</td>\n",
       "      <td>0.0054</td>\n",
       "      <td>0.0105</td>\n",
       "      <td>0.0110</td>\n",
       "      <td>0.0015</td>\n",
       "      <td>0.0072</td>\n",
       "      <td>0.0048</td>\n",
       "      <td>0.0107</td>\n",
       "      <td>0.0094</td>\n",
       "      <td>1</td>\n",
       "    </tr>\n",
       "  </tbody>\n",
       "</table>\n",
       "<p>5 rows × 61 columns</p>\n",
       "</div>"
      ],
      "text/plain": [
       "       V1      V2      V3      V4      V5      V6      V7      V8      V9  \\\n",
       "0  0.0200  0.0371  0.0428  0.0207  0.0954  0.0986  0.1539  0.1601  0.3109   \n",
       "1  0.0453  0.0523  0.0843  0.0689  0.1183  0.2583  0.2156  0.3481  0.3337   \n",
       "2  0.0262  0.0582  0.1099  0.1083  0.0974  0.2280  0.2431  0.3771  0.5598   \n",
       "3  0.0100  0.0171  0.0623  0.0205  0.0205  0.0368  0.1098  0.1276  0.0598   \n",
       "4  0.0762  0.0666  0.0481  0.0394  0.0590  0.0649  0.1209  0.2467  0.3564   \n",
       "\n",
       "      V10  ...     V52     V53     V54     V55     V56     V57     V58  \\\n",
       "0  0.2111  ...  0.0027  0.0065  0.0159  0.0072  0.0167  0.0180  0.0084   \n",
       "1  0.2872  ...  0.0084  0.0089  0.0048  0.0094  0.0191  0.0140  0.0049   \n",
       "2  0.6194  ...  0.0232  0.0166  0.0095  0.0180  0.0244  0.0316  0.0164   \n",
       "3  0.1264  ...  0.0121  0.0036  0.0150  0.0085  0.0073  0.0050  0.0044   \n",
       "4  0.4459  ...  0.0031  0.0054  0.0105  0.0110  0.0015  0.0072  0.0048   \n",
       "\n",
       "      V59     V60  Class  \n",
       "0  0.0090  0.0032      1  \n",
       "1  0.0052  0.0044      1  \n",
       "2  0.0095  0.0078      1  \n",
       "3  0.0040  0.0117      1  \n",
       "4  0.0107  0.0094      1  \n",
       "\n",
       "[5 rows x 61 columns]"
      ]
     },
     "execution_count": 1,
     "metadata": {},
     "output_type": "execute_result"
    }
   ],
   "source": [
    "import pandas as pd\n",
    "\n",
    "# Load the dataset\n",
    "df = pd.read_csv('Sonar.csv')\n",
    "\n",
    "# Display the first few rows of the dataset\n",
    "df.head()\n"
   ]
  },
  {
   "cell_type": "code",
   "execution_count": 2,
   "id": "27a2a532-0a7d-4d55-869e-1c4a28a0b053",
   "metadata": {},
   "outputs": [
    {
     "data": {
      "text/plain": [
       "(0,\n",
       " Class\n",
       " 0    111\n",
       " 1     97\n",
       " Name: count, dtype: int64)"
      ]
     },
     "execution_count": 2,
     "metadata": {},
     "output_type": "execute_result"
    }
   ],
   "source": [
    "# Check for missing values\n",
    "missing = df.isnull().sum().sum()\n",
    "\n",
    "# Distribution of the target variable\n",
    "target = df['Class'].value_counts()\n",
    "\n",
    "missing, target\n"
   ]
  },
  {
   "cell_type": "code",
   "execution_count": 3,
   "id": "bd353318-f11a-47c3-91fc-7f8e6b30a80b",
   "metadata": {},
   "outputs": [
    {
     "data": {
      "text/plain": [
       "{'Info Gain': array([11, 10, 48, 47,  8,  9, 45, 36, 38,  7, 19, 20, 57, 14, 24, 32, 22,\n",
       "        58, 16, 59, 35, 54, 15, 28, 46, 21, 42, 12, 51, 37, 29,  0, 39,  4,\n",
       "        44, 23,  6, 43,  3, 31,  2,  1, 56, 52, 26,  5, 55, 53, 49, 50, 13,\n",
       "        27, 41, 17, 18, 40, 25, 34, 33, 30], dtype=int64),\n",
       " 'Fisher Score': array([10, 11, 48,  9, 44, 47,  8, 12, 45, 46, 50, 51, 43,  0, 35,  3, 20,\n",
       "        42,  1, 34, 19,  4, 36, 21,  2,  7, 57, 53, 49, 33, 13, 41, 52, 18,\n",
       "         5, 58, 55, 22,  6, 30, 32, 54, 59, 27, 23, 14, 38, 31, 26, 37, 28,\n",
       "        39, 25, 24, 40, 17, 15, 29, 16, 56], dtype=int64),\n",
       " 'ROC/AUC': array([35, 34, 36, 33, 30, 32, 31, 37, 29, 56, 54, 39, 59, 24, 25, 17, 40,\n",
       "        16, 28, 15, 14, 26, 58, 23, 38, 55, 53, 52, 18, 27,  6, 22, 41, 57,\n",
       "        21, 13,  2, 49,  1, 19,  5, 42,  7, 20, 43,  0,  4,  3, 44, 45, 51,\n",
       "        46, 50, 12, 47,  8, 48,  9, 11, 10], dtype=int64),\n",
       " 'RMSE': array([11, 10, 48,  8, 39, 58, 47,  4,  0, 12, 44, 57, 13, 59, 24, 38,  6,\n",
       "        34, 19,  9,  3, 28, 35, 32, 46,  1, 49, 41, 20, 33, 45, 51, 22,  2,\n",
       "        36, 29,  7, 54, 21, 42, 18, 37, 16, 23, 50, 43, 15, 26, 52, 55, 25,\n",
       "        56, 30, 31,  5, 53, 40, 14, 27, 17], dtype=int64)}"
      ]
     },
     "execution_count": 3,
     "metadata": {},
     "output_type": "execute_result"
    }
   ],
   "source": [
    "from sklearn.feature_selection import mutual_info_classif, f_classif, SelectKBest, RFE\n",
    "from sklearn.metrics import roc_auc_score, mean_squared_error\n",
    "from sklearn.ensemble import RandomForestClassifier\n",
    "from sklearn.model_selection import cross_val_predict\n",
    "import numpy as np\n",
    "\n",
    "# Splitting data into features and target variable\n",
    "X = df.drop(columns='Class')\n",
    "y = df['Class']\n",
    "\n",
    "# 1. Information Gain\n",
    "info_gain_scores = mutual_info_classif(X, y)\n",
    "info_gain_rank = np.argsort(info_gain_scores)[::-1]\n",
    "\n",
    "# 2. Fisher Score (ANOVA)\n",
    "f_values, _ = f_classif(X, y)\n",
    "fisher_rank = np.argsort(f_values)[::-1]\n",
    "\n",
    "# 3. Univariate ROC/AUC\n",
    "roc_auc_scores = []\n",
    "for column in X.columns:\n",
    "    score = roc_auc_score(y, X[column])\n",
    "    roc_auc_scores.append(score)\n",
    "roc_auc_rank = np.argsort(roc_auc_scores)[::-1]\n",
    "\n",
    "# 4. Univariate RMSE\n",
    "rmse_scores = []\n",
    "for column in X.columns:\n",
    "    predictions = cross_val_predict(RandomForestClassifier(n_estimators=10), np.array(X[column]).reshape(-1, 1), y, cv=3)\n",
    "    score = mean_squared_error(y, predictions)\n",
    "    rmse_scores.append(score)\n",
    "rmse_rank = np.argsort(rmse_scores)\n",
    "\n",
    "# Store rankings\n",
    "rankings = {\n",
    "    'Info Gain': info_gain_rank,\n",
    "    'Fisher Score': fisher_rank,\n",
    "    'ROC/AUC': roc_auc_rank,\n",
    "    'RMSE': rmse_rank\n",
    "}\n",
    "\n",
    "rankings\n"
   ]
  },
  {
   "cell_type": "code",
   "execution_count": 4,
   "id": "900208f8-7573-48c6-84f4-7fac4f628e44",
   "metadata": {},
   "outputs": [
    {
     "data": {
      "text/plain": [
       "array([10, 11, 26, 47,  9,  8, 48, 15, 51, 19, 44, 50, 36, 35, 46, 12, 20,\n",
       "       16, 30,  3, 17, 27, 22, 45, 42,  4, 43,  7, 21, 14,  5, 38, 29, 23,\n",
       "       53, 34,  2, 32, 18,  0, 31, 54, 37, 13, 33, 39, 25, 41, 57, 59, 49,\n",
       "        6, 40, 24, 55, 28,  1, 58, 52, 56], dtype=int64)"
      ]
     },
     "execution_count": 4,
     "metadata": {},
     "output_type": "execute_result"
    }
   ],
   "source": [
    "# 5. Wrapper Method: RFE with Random Forest classifier\n",
    "rf = RandomForestClassifier(n_estimators=100)\n",
    "rfe = RFE(estimator=rf, n_features_to_select=1, step=1)\n",
    "rfe.fit(X, y)\n",
    "wrapper_rank = np.argsort(rfe.ranking_)\n",
    "\n",
    "# Add the wrapper rankings to our rankings dictionary\n",
    "rankings['Wrapper (RFE)'] = wrapper_rank\n",
    "\n",
    "rankings['Wrapper (RFE)']\n"
   ]
  },
  {
   "cell_type": "code",
   "execution_count": 5,
   "id": "cc9e5cd6-1b60-4ef5-bef5-b8ff429e9d33",
   "metadata": {},
   "outputs": [
    {
     "data": {
      "text/plain": [
       "Index(['V12', 'V11', 'V49', 'V36', 'V48', 'V9', 'V37', 'V10', 'V20', 'V45'], dtype='object')"
      ]
     },
     "execution_count": 5,
     "metadata": {},
     "output_type": "execute_result"
    }
   ],
   "source": [
    "# Compute average rank for each feature\n",
    "average_ranks = np.zeros(X.shape[1])\n",
    "\n",
    "for method, ranking in rankings.items():\n",
    "    for rank, index in enumerate(ranking):\n",
    "        average_ranks[index] += rank\n",
    "\n",
    "# Sort indices based on average rank\n",
    "final_ranking = np.argsort(average_ranks)\n",
    "\n",
    "# Top 10 features based on average rank\n",
    "top_features = X.columns[final_ranking[:10]]\n",
    "\n",
    "top_features\n"
   ]
  },
  {
   "cell_type": "code",
   "execution_count": 6,
   "id": "9e6bae48-7ac9-4257-b3d1-4443bdc0d351",
   "metadata": {},
   "outputs": [
    {
     "data": {
      "image/png": "[encoded data removed]",
      "text/plain": [
       "<Figure size 1080x1440 with 10 Axes>"
      ]
     },
     "metadata": {
      "needs_background": "light"
     },
     "output_type": "display_data"
    }
   ],
   "source": [
    "import matplotlib.pyplot as plt\n",
    "from sklearn.linear_model import LogisticRegression\n",
    "from scipy.special import expit\n",
    "\n",
    "# Set up the figure and axes\n",
    "fig, axs = plt.subplots(nrows=5, ncols=2, figsize=(15, 20))\n",
    "axs = axs.ravel()\n",
    "\n",
    "# For each feature, fit a logistic regression model and visualize the sigmoid curve\n",
    "for i, feature in enumerate(top_features):\n",
    "    # Fit logistic regression\n",
    "    lr = LogisticRegression()\n",
    "    lr.fit(X[feature].values.reshape(-1, 1), y)\n",
    "    \n",
    "    # Generate data for sigmoid curve\n",
    "    x_test = np.linspace(X[feature].min(), X[feature].max(), 300)\n",
    "    y_test = expit(x_test * lr.coef_ + lr.intercept_).ravel()\n",
    "    \n",
    "    # Plot\n",
    "    axs[i].plot(x_test, y_test, color='red', linewidth=2)\n",
    "    axs[i].scatter(X[feature], y, color='blue', s=10, alpha=0.5)\n",
    "    axs[i].set_title(f\"Sigmoid Curve for {feature}\")\n",
    "    axs[i].set_xlabel(feature)\n",
    "    axs[i].set_ylabel(\"Probability\")\n",
    "\n",
    "# Adjust layout\n",
    "plt.tight_layout()\n",
    "plt.show()\n"
   ]
  },
  {
   "cell_type": "code",
   "execution_count": null,
   "id": "28373633-c1b6-4b6d-ac33-e0302caaa104",
   "metadata": {},
   "outputs": [],
   "source": [
    "# #     Each plot shows the relationship between the selected feature and the target variable.\n",
    "# #     The blue points represent the actual data points, while the red curve represents the sigmoid function fitted using logistic regression.\n",
    "\n",
    "# # These visualizations help in understanding how each feature affects the probability of the target class.\n",
    "# The steeper the sigmoid curve, the stronger the relationship between the feature and the target variable."
   ]
  },
  {
   "cell_type": "code",
   "execution_count": null,
   "id": "bc64931a-26f6-4f45-8a76-7932fbbf7e72",
   "metadata": {},
   "outputs": [],
   "source": [
    "# logisitc "
   ]
  },
  {
   "cell_type": "code",
   "execution_count": 7,
   "id": "ebd83bcd-6114-4ce3-b917-eecc8439ca74",
   "metadata": {},
   "outputs": [
    {
     "data": {
      "text/plain": [
       "((166, 10), (42, 10))"
      ]
     },
     "execution_count": 7,
     "metadata": {},
     "output_type": "execute_result"
    }
   ],
   "source": [
    "from sklearn.model_selection import train_test_split\n",
    "\n",
    "# Select top features\n",
    "X_selected = X[top_features]\n",
    "\n",
    "# Split the dataset into training and testing subsets (80% train, 20% test)\n",
    "X_train, X_test, y_train, y_test = train_test_split(X_selected, y, test_size=0.2, random_state=42)\n",
    "\n",
    "X_train.shape, X_test.shape\n"
   ]
  },
  {
   "cell_type": "code",
   "execution_count": 8,
   "id": "646d50dd-50f9-4114-a8bc-2db18924f0ee",
   "metadata": {},
   "outputs": [
    {
     "data": {
      "text/plain": [
       "({'C': 10, 'penalty': 'l1', 'solver': 'liblinear'}, 4.255397796630859)"
      ]
     },
     "execution_count": 8,
     "metadata": {},
     "output_type": "execute_result"
    }
   ],
   "source": [
    "from sklearn.model_selection import GridSearchCV\n",
    "from sklearn.metrics import accuracy_score, f1_score, roc_auc_score, roc_curve\n",
    "import time\n",
    "\n",
    "# Define the hyperparameters and their possible values\n",
    "param_grid = {\n",
    "    'C': [0.001, 0.01, 0.1, 1, 10, 100],\n",
    "    'penalty': ['l1', 'l2'],\n",
    "    'solver': ['liblinear', 'saga']\n",
    "}\n",
    "\n",
    "# Initialize the Logistic Regression model\n",
    "log_reg = LogisticRegression(max_iter=10000)\n",
    "\n",
    "# Set up the GridSearchCV\n",
    "grid_search = GridSearchCV(log_reg, param_grid, cv=5, scoring='accuracy', n_jobs=-1)\n",
    "\n",
    "# Measure the time taken for training and hyperparameter tuning\n",
    "start_time = time.time()\n",
    "\n",
    "# Train the model\n",
    "grid_search.fit(X_train, y_train)\n",
    "\n",
    "# Record the time taken\n",
    "training_time = time.time() - start_time\n",
    "\n",
    "# Extract the best parameters and best model from grid search\n",
    "best_params = grid_search.best_params_\n",
    "best_log_reg = grid_search.best_estimator_\n",
    "\n",
    "best_params, training_time\n"
   ]
  },
  {
   "cell_type": "code",
   "execution_count": null,
   "id": "1b0b2b0b-6eff-4334-ba83-7adb54b40f1d",
   "metadata": {},
   "outputs": [],
   "source": [
    "# ({'C': 10, 'penalty': 'l1', 'solver': 'liblinear'}"
   ]
  },
  {
   "cell_type": "code",
   "execution_count": 9,
   "id": "45ef7e48-8f14-4548-b240-b96810318a9d",
   "metadata": {},
   "outputs": [
    {
     "data": {
      "text/plain": [
       "{'Accuracy': 0.8095238095238095,\n",
       " 'F1 Score': 0.7777777777777777,\n",
       " 'ROC AUC': 0.9302884615384615}"
      ]
     },
     "execution_count": 9,
     "metadata": {},
     "output_type": "execute_result"
    }
   ],
   "source": [
    "# Predict on the test data\n",
    "y_pred = best_log_reg.predict(X_test)\n",
    "y_pred_prob = best_log_reg.predict_proba(X_test)[:, 1]\n",
    "\n",
    "# Compute performance metrics\n",
    "accuracy = accuracy_score(y_test, y_pred)\n",
    "f1 = f1_score(y_test, y_pred)\n",
    "roc_auc = roc_auc_score(y_test, y_pred_prob)\n",
    "fpr, tpr, thresholds = roc_curve(y_test, y_pred_prob)\n",
    "\n",
    "performance_metrics = {\n",
    "    'Accuracy': accuracy,\n",
    "    'F1 Score': f1,\n",
    "    'ROC AUC': roc_auc\n",
    "}\n",
    "\n",
    "performance_metrics\n"
   ]
  },
  {
   "cell_type": "code",
   "execution_count": 10,
   "id": "43ed30b9-66c3-48e1-bc79-ded9ddc79d6d",
   "metadata": {},
   "outputs": [
    {
     "data": {
      "text/plain": [
       "({'C': 10, 'gamma': 'scale', 'kernel': 'rbf'}, 0.3476734161376953)"
      ]
     },
     "execution_count": 10,
     "metadata": {},
     "output_type": "execute_result"
    }
   ],
   "source": [
    "from sklearn.svm import SVC\n",
    "\n",
    "# Define the hyperparameters and their possible values for SVM\n",
    "param_grid_svm = {\n",
    "    'C': [0.001, 0.01, 0.1, 1, 10, 100],\n",
    "    'kernel': ['linear', 'rbf', 'poly', 'sigmoid'],\n",
    "    'gamma': ['scale', 'auto']\n",
    "}\n",
    "\n",
    "# Initialize the SVM model\n",
    "svm = SVC(probability=True)\n",
    "\n",
    "# Set up the GridSearchCV for SVM\n",
    "grid_search_svm = GridSearchCV(svm, param_grid_svm, cv=5, scoring='accuracy', n_jobs=-1)\n",
    "\n",
    "# Measure the time taken for training and hyperparameter tuning\n",
    "start_time_svm = time.time()\n",
    "\n",
    "# Train the SVM model\n",
    "grid_search_svm.fit(X_train, y_train)\n",
    "\n",
    "# Record the time taken\n",
    "training_time_svm = time.time() - start_time_svm\n",
    "\n",
    "# Extract the best parameters and best model from grid search for SVM\n",
    "best_params_svm = grid_search_svm.best_params_\n",
    "best_svm = grid_search_svm.best_estimator_\n",
    "\n",
    "best_params_svm, training_time_svm\n"
   ]
  },
  {
   "cell_type": "code",
   "execution_count": 11,
   "id": "eefe8d5d-29cc-47ed-a7d6-4cf2fbcad7ec",
   "metadata": {},
   "outputs": [
    {
     "data": {
      "text/plain": [
       "{'Accuracy': 0.8095238095238095,\n",
       " 'F1 Score': 0.7777777777777777,\n",
       " 'ROC AUC': 0.923076923076923}"
      ]
     },
     "execution_count": 11,
     "metadata": {},
     "output_type": "execute_result"
    }
   ],
   "source": [
    "# Predict on the test data using SVM\n",
    "y_pred_svm = best_svm.predict(X_test)\n",
    "y_pred_prob_svm = best_svm.predict_proba(X_test)[:, 1]\n",
    "\n",
    "# Compute performance metrics for SVM\n",
    "accuracy_svm = accuracy_score(y_test, y_pred_svm)\n",
    "f1_svm = f1_score(y_test, y_pred_svm)\n",
    "roc_auc_svm = roc_auc_score(y_test, y_pred_prob_svm)\n",
    "\n",
    "performance_metrics_svm = {\n",
    "    'Accuracy': accuracy_svm,\n",
    "    'F1 Score': f1_svm,\n",
    "    'ROC AUC': roc_auc_svm\n",
    "}\n",
    "\n",
    "performance_metrics_svm\n"
   ]
  },
  {
   "cell_type": "code",
   "execution_count": 12,
   "id": "fe188968-4592-4379-9d14-f0e331b1837e",
   "metadata": {},
   "outputs": [
    {
     "data": {
      "text/plain": [
       "({'criterion': 'gini',\n",
       "  'max_depth': None,\n",
       "  'min_samples_leaf': 2,\n",
       "  'min_samples_split': 5,\n",
       "  'splitter': 'random'},\n",
       " 0.7564787864685059)"
      ]
     },
     "execution_count": 12,
     "metadata": {},
     "output_type": "execute_result"
    }
   ],
   "source": [
    "from sklearn.tree import DecisionTreeClassifier\n",
    "\n",
    "# Define the hyperparameters and their possible values for Decision Tree\n",
    "param_grid_dt = {\n",
    "    'criterion': ['gini', 'entropy'],\n",
    "    'splitter': ['best', 'random'],\n",
    "    'max_depth': [None, 10, 20, 30, 40, 50],\n",
    "    'min_samples_split': [2, 5, 10],\n",
    "    'min_samples_leaf': [1, 2, 4]\n",
    "}\n",
    "\n",
    "# Initialize the Decision Tree model\n",
    "dt = DecisionTreeClassifier()\n",
    "\n",
    "# Set up the GridSearchCV for Decision Tree\n",
    "grid_search_dt = GridSearchCV(dt, param_grid_dt, cv=5, scoring='accuracy', n_jobs=-1)\n",
    "\n",
    "# Measure the time taken for training and hyperparameter tuning\n",
    "start_time_dt = time.time()\n",
    "\n",
    "# Train the Decision Tree model\n",
    "grid_search_dt.fit(X_train, y_train)\n",
    "\n",
    "# Record the time taken\n",
    "training_time_dt = time.time() - start_time_dt\n",
    "\n",
    "# Extract the best parameters and best model from grid search for Decision Tree\n",
    "best_params_dt = grid_search_dt.best_params_\n",
    "best_dt = grid_search_dt.best_estimator_\n",
    "\n",
    "best_params_dt, training_time_dt\n"
   ]
  },
  {
   "cell_type": "code",
   "execution_count": 13,
   "id": "90641b10-a5d1-4b13-8dd8-986c09b55622",
   "metadata": {},
   "outputs": [
    {
     "data": {
      "text/plain": [
       "{'Accuracy': 0.7380952380952381,\n",
       " 'F1 Score': 0.717948717948718,\n",
       " 'ROC AUC': 0.7451923076923077}"
      ]
     },
     "execution_count": 13,
     "metadata": {},
     "output_type": "execute_result"
    }
   ],
   "source": [
    "# Predict on the test data using Decision Tree\n",
    "y_pred_dt = best_dt.predict(X_test)\n",
    "y_pred_prob_dt = best_dt.predict_proba(X_test)[:, 1]\n",
    "\n",
    "# Compute performance metrics for Decision Tree\n",
    "accuracy_dt = accuracy_score(y_test, y_pred_dt)\n",
    "f1_dt = f1_score(y_test, y_pred_dt)\n",
    "roc_auc_dt = roc_auc_score(y_test, y_pred_prob_dt)\n",
    "\n",
    "performance_metrics_dt = {\n",
    "    'Accuracy': accuracy_dt,\n",
    "    'F1 Score': f1_dt,\n",
    "    'ROC AUC': roc_auc_dt\n",
    "}\n",
    "\n",
    "performance_metrics_dt\n"
   ]
  },
  {
   "cell_type": "code",
   "execution_count": 14,
   "id": "d9e66130-0c0d-4a1a-84ab-6490cfda30ed",
   "metadata": {},
   "outputs": [
    {
     "data": {
      "text/html": [
       "<div>\n",
       "<style scoped>\n",
       "    .dataframe tbody tr th:only-of-type {\n",
       "        vertical-align: middle;\n",
       "    }\n",
       "\n",
       "    .dataframe tbody tr th {\n",
       "        vertical-align: top;\n",
       "    }\n",
       "\n",
       "    .dataframe thead th {\n",
       "        text-align: right;\n",
       "    }\n",
       "</style>\n",
       "<table border=\"1\" class=\"dataframe\">\n",
       "  <thead>\n",
       "    <tr style=\"text-align: right;\">\n",
       "      <th></th>\n",
       "      <th>Model</th>\n",
       "      <th>Accuracy</th>\n",
       "      <th>F1 Score</th>\n",
       "      <th>ROC AUC</th>\n",
       "    </tr>\n",
       "  </thead>\n",
       "  <tbody>\n",
       "    <tr>\n",
       "      <th>0</th>\n",
       "      <td>Logistic Regression</td>\n",
       "      <td>0.809524</td>\n",
       "      <td>0.777778</td>\n",
       "      <td>0.930288</td>\n",
       "    </tr>\n",
       "    <tr>\n",
       "      <th>1</th>\n",
       "      <td>SVM</td>\n",
       "      <td>0.809524</td>\n",
       "      <td>0.777778</td>\n",
       "      <td>0.923077</td>\n",
       "    </tr>\n",
       "    <tr>\n",
       "      <th>2</th>\n",
       "      <td>Decision Tree</td>\n",
       "      <td>0.738095</td>\n",
       "      <td>0.717949</td>\n",
       "      <td>0.745192</td>\n",
       "    </tr>\n",
       "  </tbody>\n",
       "</table>\n",
       "</div>"
      ],
      "text/plain": [
       "                 Model  Accuracy  F1 Score   ROC AUC\n",
       "0  Logistic Regression  0.809524  0.777778  0.930288\n",
       "1                  SVM  0.809524  0.777778  0.923077\n",
       "2        Decision Tree  0.738095  0.717949  0.745192"
      ]
     },
     "execution_count": 14,
     "metadata": {},
     "output_type": "execute_result"
    }
   ],
   "source": [
    "# Create a DataFrame to summarize performance metrics for each model\n",
    "models = ['Logistic Regression', 'SVM', 'Decision Tree']\n",
    "accuracies = [accuracy, accuracy_svm, accuracy_dt]\n",
    "f1_scores = [f1, f1_svm, f1_dt]\n",
    "roc_aucs = [roc_auc, roc_auc_svm, roc_auc_dt]\n",
    "\n",
    "performance_df = pd.DataFrame({\n",
    "    'Model': models,\n",
    "    'Accuracy': accuracies,\n",
    "    'F1 Score': f1_scores,\n",
    "    'ROC AUC': roc_aucs\n",
    "})\n",
    "\n",
    "performance_df\n"
   ]
  },
  {
   "cell_type": "code",
   "execution_count": 15,
   "id": "95679085-4c6b-4706-bdd5-89818b20c8d0",
   "metadata": {},
   "outputs": [
    {
     "data": {
      "image/png": "[encoded data removed]",
      "text/plain": [
       "<Figure size 1296x432 with 3 Axes>"
      ]
     },
     "metadata": {
      "needs_background": "light"
     },
     "output_type": "display_data"
    }
   ],
   "source": [
    "# Plotting the performance metrics for each model\n",
    "fig, axes = plt.subplots(nrows=1, ncols=3, figsize=(18, 6))\n",
    "\n",
    "# Bar plots for Accuracy, F1 Score, and ROC AUC\n",
    "metrics = ['Accuracy', 'F1 Score', 'ROC AUC']\n",
    "colors = ['blue', 'green', 'red']\n",
    "\n",
    "for ax, metric, color in zip(axes, metrics, colors):\n",
    "    performance_df.plot(x='Model', y=metric, kind='bar', ax=ax, color=color, legend=False)\n",
    "    ax.set_title(metric)\n",
    "    ax.set_ylabel('Score')\n",
    "    ax.set_xlabel('')\n",
    "    ax.set_ylim(0.5, 1.0)\n",
    "    for p in ax.patches:\n",
    "        ax.annotate(f\"{p.get_height():.2%}\", (p.get_x() + p.get_width() / 2., p.get_height()), ha='center', va='center', xytext=(0, 10), textcoords='offset points')\n",
    "\n",
    "plt.tight_layout()\n",
    "plt.show()\n"
   ]
  },
  {
   "cell_type": "code",
   "execution_count": null,
   "id": "5b55d71c-b5cf-4ce1-a50e-fa9254197c03",
   "metadata": {},
   "outputs": [],
   "source": [
    "# "
   ]
  }
 ],
 "metadata": {
  "kernelspec": {
   "display_name": "Python 3 (ipykernel)",
   "language": "python",
   "name": "python3"
  },
  "language_info": {
   "codemirror_mode": {
    "name": "ipython",
    "version": 3
   },
   "file_extension": ".py",
   "mimetype": "text/x-python",
   "name": "python",
   "nbconvert_exporter": "python",
   "pygments_lexer": "ipython3",
   "version": "3.9.7"
  }
 },
 "nbformat": 4,
 "nbformat_minor": 5
}
