{
 "cells": [
  {
   "cell_type": "code",
   "execution_count": 1,
   "id": "43144c19-1835-4710-9d23-90bb7b795156",
   "metadata": {},
   "outputs": [
    {
     "data": {
      "text/html": [
       "<div>\n",
       "<style scoped>\n",
       "    .dataframe tbody tr th:only-of-type {\n",
       "        vertical-align: middle;\n",
       "    }\n",
       "\n",
       "    .dataframe tbody tr th {\n",
       "        vertical-align: top;\n",
       "    }\n",
       "\n",
       "    .dataframe thead th {\n",
       "        text-align: right;\n",
       "    }\n",
       "</style>\n",
       "<table border=\"1\" class=\"dataframe\">\n",
       "  <thead>\n",
       "    <tr style=\"text-align: right;\">\n",
       "      <th></th>\n",
       "      <th>variance</th>\n",
       "      <th>skewness</th>\n",
       "      <th>curtosis</th>\n",
       "      <th>entropy</th>\n",
       "      <th>class</th>\n",
       "    </tr>\n",
       "  </thead>\n",
       "  <tbody>\n",
       "    <tr>\n",
       "      <th>0</th>\n",
       "      <td>3.62160</td>\n",
       "      <td>8.6661</td>\n",
       "      <td>-2.8073</td>\n",
       "      <td>-0.44699</td>\n",
       "      <td>0</td>\n",
       "    </tr>\n",
       "    <tr>\n",
       "      <th>1</th>\n",
       "      <td>4.54590</td>\n",
       "      <td>8.1674</td>\n",
       "      <td>-2.4586</td>\n",
       "      <td>-1.46210</td>\n",
       "      <td>0</td>\n",
       "    </tr>\n",
       "    <tr>\n",
       "      <th>2</th>\n",
       "      <td>3.86600</td>\n",
       "      <td>-2.6383</td>\n",
       "      <td>1.9242</td>\n",
       "      <td>0.10645</td>\n",
       "      <td>0</td>\n",
       "    </tr>\n",
       "    <tr>\n",
       "      <th>3</th>\n",
       "      <td>3.45660</td>\n",
       "      <td>9.5228</td>\n",
       "      <td>-4.0112</td>\n",
       "      <td>-3.59440</td>\n",
       "      <td>0</td>\n",
       "    </tr>\n",
       "    <tr>\n",
       "      <th>4</th>\n",
       "      <td>0.32924</td>\n",
       "      <td>-4.4552</td>\n",
       "      <td>4.5718</td>\n",
       "      <td>-0.98880</td>\n",
       "      <td>0</td>\n",
       "    </tr>\n",
       "  </tbody>\n",
       "</table>\n",
       "</div>"
      ],
      "text/plain": [
       "   variance  skewness  curtosis  entropy  class\n",
       "0   3.62160    8.6661   -2.8073 -0.44699      0\n",
       "1   4.54590    8.1674   -2.4586 -1.46210      0\n",
       "2   3.86600   -2.6383    1.9242  0.10645      0\n",
       "3   3.45660    9.5228   -4.0112 -3.59440      0\n",
       "4   0.32924   -4.4552    4.5718 -0.98880      0"
      ]
     },
     "execution_count": 1,
     "metadata": {},
     "output_type": "execute_result"
    }
   ],
   "source": [
    "import pandas as pd\n",
    "\n",
    "# Load the dataset\n",
    "df = pd.read_csv(\"BankNote_Authentication_Cleaned.csv\")\n",
    "\n",
    "# Display the first few rows of the data\n",
    "df.head()\n",
    "\n",
    "data = df.copy()\n"
   ]
  },
  {
   "cell_type": "code",
   "execution_count": null,
   "id": "7e09f358-04b1-4578-a5c5-319b0998d7f9",
   "metadata": {},
   "outputs": [
    {
     "data": {
      "text/plain": [
       "variance   -0.735185\n",
       "skewness   -0.449835\n",
       "curtosis    0.154376\n",
       "entropy    -0.033979\n",
       "Name: class, dtype: float64"
      ]
     },
     "execution_count": 2,
     "metadata": {},
     "output_type": "execute_result"
    }
   ],
   "source": [
    "# Pearson corelation\n",
    "# Calculate Pearson correlation of each feature with the target variable\n",
    "corr = data.corr()['class'].drop('class')\n",
    "\n",
    "corr\n"
   ]
  },
  {
   "cell_type": "code",
   "execution_count": null,
   "id": "df500b8a-762b-465f-bae6-5006f36712a0",
   "metadata": {},
   "outputs": [],
   "source": []
  },
  {
   "cell_type": "code",
   "execution_count": null,
   "id": "4cef14a9-982c-41de-ac1b-b471ff1588ea",
   "metadata": {},
   "outputs": [],
   "source": [
    "# Higher absolute values of correlation\n",
    "# indicate stronger relationships with the target variable. Based on this, \n",
    "# variance and skewness have stronger relationships with the target compared to curtosis and entropy\n"
   ]
  },
  {
   "cell_type": "code",
   "execution_count": 3,
   "id": "03aaabc3-8495-45a5-b072-a802e499464c",
   "metadata": {},
   "outputs": [
    {
     "ename": "TypeError",
     "evalue": "__init__() takes 2 positional arguments but 3 were given",
     "output_type": "error",
     "traceback": [
      "\u001b[1;31m---------------------------------------------------------------------------\u001b[0m",
      "\u001b[1;31mTypeError\u001b[0m                                 Traceback (most recent call last)",
      "\u001b[1;32m~\\AppData\\Local\\Temp/ipykernel_3200/2260497874.py\u001b[0m in \u001b[0;36m<module>\u001b[1;34m\u001b[0m\n\u001b[0;32m     10\u001b[0m \u001b[1;33m\u001b[0m\u001b[0m\n\u001b[0;32m     11\u001b[0m \u001b[1;31m# Initialize RFE\u001b[0m\u001b[1;33m\u001b[0m\u001b[1;33m\u001b[0m\u001b[0m\n\u001b[1;32m---> 12\u001b[1;33m \u001b[0mrfe\u001b[0m \u001b[1;33m=\u001b[0m \u001b[0mRFE\u001b[0m\u001b[1;33m(\u001b[0m\u001b[0mmodel\u001b[0m\u001b[1;33m,\u001b[0m \u001b[1;36m3\u001b[0m\u001b[1;33m)\u001b[0m  \u001b[1;31m# Let's start with selecting the top 3 features\u001b[0m\u001b[1;33m\u001b[0m\u001b[1;33m\u001b[0m\u001b[0m\n\u001b[0m\u001b[0;32m     13\u001b[0m \u001b[0mfit\u001b[0m \u001b[1;33m=\u001b[0m \u001b[0mrfe\u001b[0m\u001b[1;33m.\u001b[0m\u001b[0mfit\u001b[0m\u001b[1;33m(\u001b[0m\u001b[0mX\u001b[0m\u001b[1;33m,\u001b[0m \u001b[0my\u001b[0m\u001b[1;33m)\u001b[0m\u001b[1;33m\u001b[0m\u001b[1;33m\u001b[0m\u001b[0m\n\u001b[0;32m     14\u001b[0m \u001b[1;33m\u001b[0m\u001b[0m\n",
      "\u001b[1;31mTypeError\u001b[0m: __init__() takes 2 positional arguments but 3 were given"
     ]
    }
   ],
   "source": [
    "from sklearn.feature_selection import RFE\n",
    "from sklearn.linear_model import LogisticRegression\n",
    "\n",
    "# Splitting the data into features and target\n",
    "X = data.drop('class', axis=1)\n",
    "y = data['class']\n",
    "\n",
    "# Initialize a model\n",
    "model = LogisticRegression()\n",
    "\n",
    "# Initialize RFE\n",
    "rfe = RFE(model, 3)  # Let's start with selecting the top 3 features\n",
    "fit = rfe.fit(X, y)\n",
    "\n",
    "# Get the ranking of the features\n",
    "feature_ranking = pd.Series(fit.ranking_, index=X.columns)\n",
    "\n",
    "feature_ranking\n"
   ]
  },
  {
   "cell_type": "code",
   "execution_count": 4,
   "id": "02bb16c0-16aa-4019-8f19-d9faf47ec70c",
   "metadata": {},
   "outputs": [
    {
     "data": {
      "text/plain": [
       "variance    1\n",
       "skewness    1\n",
       "curtosis    1\n",
       "entropy     2\n",
       "dtype: int32"
      ]
     },
     "execution_count": 4,
     "metadata": {},
     "output_type": "execute_result"
    }
   ],
   "source": [
    "# Correcting the RFE initialization\n",
    "rfe = RFE(estimator=model, n_features_to_select=3)  # Selecting the top 3 features\n",
    "fit = rfe.fit(X, y)\n",
    "\n",
    "# Get the ranking of the features\n",
    "featureranking = pd.Series(fit.ranking_, index=X.columns)\n",
    "\n",
    "featureranking\n"
   ]
  },
  {
   "cell_type": "code",
   "execution_count": null,
   "id": "160e497b-8c14-426d-8ddb-24cf607727ac",
   "metadata": {},
   "outputs": [],
   "source": [
    "# variance, skewness, and curtosis"
   ]
  },
  {
   "cell_type": "code",
   "execution_count": 5,
   "id": "42592064-45e2-4a01-8188-def78c65287b",
   "metadata": {},
   "outputs": [
    {
     "data": {
      "text/plain": [
       "((1078, 3), (270, 3))"
      ]
     },
     "execution_count": 5,
     "metadata": {},
     "output_type": "execute_result"
    }
   ],
   "source": [
    "from sklearn.model_selection import train_test_split\n",
    "\n",
    "# Select the top 3 features\n",
    "Xselected = X[['variance', 'skewness', 'curtosis']]\n",
    "\n",
    "# Splitting the data into training and test sets (80% training, 20% test)\n",
    "Xtrain, X_test, ytrain, y_test = train_test_split(Xselected, y, test_size=0.20, random_state=42)\n",
    "\n",
    "Xtrain.shape, X_test.shape\n"
   ]
  },
  {
   "cell_type": "code",
   "execution_count": 7,
   "id": "5f43a228-a204-4618-b4bd-c1ed7c7ba458",
   "metadata": {},
   "outputs": [
    {
     "data": {
      "text/html": [
       "<div>\n",
       "<style scoped>\n",
       "    .dataframe tbody tr th:only-of-type {\n",
       "        vertical-align: middle;\n",
       "    }\n",
       "\n",
       "    .dataframe tbody tr th {\n",
       "        vertical-align: top;\n",
       "    }\n",
       "\n",
       "    .dataframe thead th {\n",
       "        text-align: right;\n",
       "    }\n",
       "</style>\n",
       "<table border=\"1\" class=\"dataframe\">\n",
       "  <thead>\n",
       "    <tr style=\"text-align: right;\">\n",
       "      <th></th>\n",
       "      <th>Training Time</th>\n",
       "      <th>CV Accuracy Mean</th>\n",
       "      <th>CV Accuracy Std</th>\n",
       "      <th>Test Accuracy</th>\n",
       "      <th>Precision</th>\n",
       "      <th>Recall</th>\n",
       "      <th>F1 Score</th>\n",
       "      <th>ROC AUC</th>\n",
       "    </tr>\n",
       "  </thead>\n",
       "  <tbody>\n",
       "    <tr>\n",
       "      <th>Logistic Regression</th>\n",
       "      <td>0.067849</td>\n",
       "      <td>0.993493</td>\n",
       "      <td>0.007264</td>\n",
       "      <td>0.992593</td>\n",
       "      <td>0.98400</td>\n",
       "      <td>1.0</td>\n",
       "      <td>0.991935</td>\n",
       "      <td>1.000000</td>\n",
       "    </tr>\n",
       "    <tr>\n",
       "      <th>SVM</th>\n",
       "      <td>0.237050</td>\n",
       "      <td>0.993493</td>\n",
       "      <td>0.005968</td>\n",
       "      <td>0.988889</td>\n",
       "      <td>0.97619</td>\n",
       "      <td>1.0</td>\n",
       "      <td>0.987952</td>\n",
       "      <td>1.000000</td>\n",
       "    </tr>\n",
       "    <tr>\n",
       "      <th>Decision Tree</th>\n",
       "      <td>0.040324</td>\n",
       "      <td>0.985151</td>\n",
       "      <td>0.010339</td>\n",
       "      <td>0.992593</td>\n",
       "      <td>0.98400</td>\n",
       "      <td>1.0</td>\n",
       "      <td>0.991935</td>\n",
       "      <td>0.993197</td>\n",
       "    </tr>\n",
       "  </tbody>\n",
       "</table>\n",
       "</div>"
      ],
      "text/plain": [
       "                     Training Time  CV Accuracy Mean  CV Accuracy Std  \\\n",
       "Logistic Regression       0.067849          0.993493         0.007264   \n",
       "SVM                       0.237050          0.993493         0.005968   \n",
       "Decision Tree             0.040324          0.985151         0.010339   \n",
       "\n",
       "                     Test Accuracy  Precision  Recall  F1 Score   ROC AUC  \n",
       "Logistic Regression       0.992593    0.98400     1.0  0.991935  1.000000  \n",
       "SVM                       0.988889    0.97619     1.0  0.987952  1.000000  \n",
       "Decision Tree             0.992593    0.98400     1.0  0.991935  0.993197  "
      ]
     },
     "execution_count": 7,
     "metadata": {},
     "output_type": "execute_result"
    }
   ],
   "source": [
    "from sklearn.model_selection import cross_val_score\n",
    "from sklearn.metrics import accuracy_score, precision_score, recall_score, f1_score, roc_auc_score\n",
    "import time\n",
    "\n",
    "# Initialize the classifiers\n",
    "logreg = LogisticRegression()\n",
    "from sklearn.svm import SVC\n",
    "svm = SVC(probability=True)  # Enabling probability estimation for ROC AUC\n",
    "from sklearn.tree import DecisionTreeClassifier\n",
    "dtree = DecisionTreeClassifier()\n",
    "\n",
    "classifiers = [('Logistic Regression', logreg), ('SVM', svm), ('Decision Tree', dtree)]\n",
    "\n",
    "# Dictionary to store results\n",
    "results = {}\n",
    "\n",
    "for name, clf in classifiers:\n",
    "    start_time = time.time()\n",
    "    \n",
    "    # Train the model\n",
    "    clf.fit(X_train, y_train)\n",
    "    \n",
    "    # Cross validation\n",
    "    cv_scores = cross_val_score(clf, X_train, y_train, cv=10, scoring='accuracy')\n",
    "    cv_mean = cv_scores.mean()\n",
    "    cv_std = cv_scores.std()\n",
    "    \n",
    "    # Predict on test set\n",
    "    y_pred = clf.predict(X_test)\n",
    "    y_prob = clf.predict_proba(X_test)[:, 1] if name != 'SVM' else clf.decision_function(X_test)\n",
    "    \n",
    "    # Compute metrics\n",
    "    acc = accuracy_score(y_test, y_pred)\n",
    "    prec = precision_score(y_test, y_pred)\n",
    "    rec = recall_score(y_test, y_pred)\n",
    "    f1 = f1_score(y_test, y_pred)\n",
    "    roc_auc = roc_auc_score(y_test, y_prob)\n",
    "    \n",
    "    end_time = time.time()\n",
    "    \n",
    "    # Store results\n",
    "    results[name] = {\n",
    "        'Training Time': end_time - start_time,\n",
    "        'CV Accuracy Mean': cv_mean,\n",
    "        'CV Accuracy Std': cv_std,\n",
    "        'Test Accuracy': acc,\n",
    "        'Precision': prec,\n",
    "        'Recall': rec,\n",
    "        'F1 Score': f1,\n",
    "        'ROC AUC': roc_auc\n",
    "    }\n",
    "\n",
    "results_df = pd.DataFrame(results).T\n",
    "results_df\n"
   ]
  },
  {
   "cell_type": "code",
   "execution_count": 8,
   "id": "5d1c07be-b8d8-4e09-9fcd-ea79415bbc94",
   "metadata": {},
   "outputs": [
    {
     "data": {
      "image/png": "[encoded data removed]",
      "text/plain": [
       "<Figure size 1440x720 with 8 Axes>"
      ]
     },
     "metadata": {
      "needs_background": "light"
     },
     "output_type": "display_data"
    }
   ],
   "source": [
    "import matplotlib.pyplot as plt\n",
    "\n",
    "# Setting up the figure and axes\n",
    "fig, axs = plt.subplots(nrows=2, ncols=4, figsize=(20, 10))\n",
    "fig.suptitle('Model Performance Comparison', fontsize=20, y=1.05)\n",
    "\n",
    "metrics = ['Training Time', 'CV Accuracy Mean', 'CV Accuracy Std', 'Test Accuracy', \n",
    "           'Precision', 'Recall', 'F1 Score', 'ROC AUC']\n",
    "\n",
    "for ax, metric in zip(axs.ravel(), metrics):\n",
    "    results_df[metric].plot(kind='bar', ax=ax, color=['blue', 'green', 'orange'])\n",
    "    ax.set_title(metric, fontsize=15)\n",
    "    ax.set_ylabel('%' if metric not in ['Training Time'] else 'Seconds')\n",
    "    ax.set_xlabel('')\n",
    "    ax.set_xticklabels(results_df.index, rotation=45)\n",
    "    ax.grid(axis='y')\n",
    "\n",
    "plt.tight_layout()\n",
    "plt.show()\n"
   ]
  },
  {
   "cell_type": "code",
   "execution_count": null,
   "id": "0da909c6-2b0d-4e2e-a269-2143ab22b6ac",
   "metadata": {},
   "outputs": [],
   "source": [
    "# All three models perform remarkably well on the test data.\n",
    "# The Logistic Regression and SVM models both achieve very high ROC AUC scores of 100%. \n",
    "# The Decision Tree model also achieves a high ROC AUC score of 98.30%. \n",
    "# The SVM takes the longest time to train, while the Decision Tree is the quickest.\n",
    "\n",
    "\n",
    "\n"
   ]
  },
  {
   "cell_type": "code",
   "execution_count": null,
   "id": "f4e7ec51-2f6b-495e-9a7d-004fb86fd3c8",
   "metadata": {},
   "outputs": [],
   "source": []
  }
 ],
 "metadata": {
  "kernelspec": {
   "display_name": "Python 3 (ipykernel)",
   "language": "python",
   "name": "python3"
  },
  "language_info": {
   "codemirror_mode": {
    "name": "ipython",
    "version": 3
   },
   "file_extension": ".py",
   "mimetype": "text/x-python",
   "name": "python",
   "nbconvert_exporter": "python",
   "pygments_lexer": "ipython3",
   "version": "3.9.7"
  }
 },
 "nbformat": 4,
 "nbformat_minor": 5
}
